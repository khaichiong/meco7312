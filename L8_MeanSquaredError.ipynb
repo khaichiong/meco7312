{
  "nbformat": 4,
  "nbformat_minor": 0,
  "metadata": {
    "colab": {
      "name": "Lecture8_MSE.ipynb",
      "provenance": [],
      "authorship_tag": "ABX9TyMf9GKaYb8qc5aovfOZEie9",
      "include_colab_link": true
    },
    "kernelspec": {
      "name": "python3",
      "display_name": "Python 3"
    },
    "language_info": {
      "name": "python"
    }
  },
  "cells": [
    {
      "cell_type": "markdown",
      "metadata": {
        "id": "view-in-github",
        "colab_type": "text"
      },
      "source": [
        "<a href=\"https://colab.research.google.com/github/khaichiong/meco7312/blob/master/Lecture8_MSE.ipynb\" target=\"_parent\"><img src=\"https://colab.research.google.com/assets/colab-badge.svg\" alt=\"Open In Colab\"/></a>"
      ]
    },
    {
      "cell_type": "markdown",
      "metadata": {
        "id": "N-R2Moc4af28"
      },
      "source": [
        "# Monte Carlo simulation for calculating bias and variance of an estimator"
      ]
    },
    {
      "cell_type": "code",
      "metadata": {
        "id": "kIY7Nh2aaMZy"
      },
      "source": [
        "import numpy as np"
      ],
      "execution_count": 1,
      "outputs": []
    },
    {
      "cell_type": "code",
      "metadata": {
        "id": "1Q6oB1bBaQmm"
      },
      "source": [
        "n = 20 #sample size\n",
        "s = 10000 #number of experiments\n",
        "x = np.random.uniform(0,2,(n,s))"
      ],
      "execution_count": 2,
      "outputs": []
    },
    {
      "cell_type": "code",
      "metadata": {
        "id": "HLluPPqxad3G"
      },
      "source": [
        "sample_mean = np.mean(x,axis=0)"
      ],
      "execution_count": 3,
      "outputs": []
    },
    {
      "cell_type": "markdown",
      "metadata": {
        "id": "CHJIC7V5badV"
      },
      "source": [
        "$bias^2 = (E[\\hat{\\theta}] - \\theta)^2$"
      ]
    },
    {
      "cell_type": "code",
      "metadata": {
        "colab": {
          "base_uri": "https://localhost:8080/"
        },
        "id": "irjryBUPatu5",
        "outputId": "4b5a1ce3-efa9-42ed-afef-811bc414c40d"
      },
      "source": [
        "#ground truth, population mean parameter\n",
        "theta = 1 \n",
        "#square of bias\n",
        "(np.mean(sample_mean) - theta)**2"
      ],
      "execution_count": 4,
      "outputs": [
        {
          "output_type": "execute_result",
          "data": {
            "text/plain": [
              "1.1382313444726231e-05"
            ]
          },
          "metadata": {},
          "execution_count": 4
        }
      ]
    },
    {
      "cell_type": "markdown",
      "metadata": {
        "id": "BNRP65wccWhU"
      },
      "source": [
        "Variance of estimator = $Var(\\hat{\\theta})$"
      ]
    },
    {
      "cell_type": "code",
      "metadata": {
        "colab": {
          "base_uri": "https://localhost:8080/"
        },
        "id": "jr6fGrCibW23",
        "outputId": "fc915c3a-bb50-44aa-ebe9-fa9dc75d3800"
      },
      "source": [
        "np.var(sample_mean)"
      ],
      "execution_count": 5,
      "outputs": [
        {
          "output_type": "execute_result",
          "data": {
            "text/plain": [
              "0.016296674892441562"
            ]
          },
          "metadata": {},
          "execution_count": 5
        }
      ]
    },
    {
      "cell_type": "markdown",
      "metadata": {
        "id": "iENst1Eoci23"
      },
      "source": [
        "Mean square error $E[(\\hat{\\theta} - \\theta)^2] = bias^2 + Var(\\hat{\\theta})$"
      ]
    },
    {
      "cell_type": "code",
      "metadata": {
        "colab": {
          "base_uri": "https://localhost:8080/"
        },
        "id": "elLkYVLTceg2",
        "outputId": "c013ea7a-5b44-4543-8692-57b5ae25488e"
      },
      "source": [
        "(np.mean(sample_mean) - theta)**2 + np.var(sample_mean) "
      ],
      "execution_count": 6,
      "outputs": [
        {
          "output_type": "execute_result",
          "data": {
            "text/plain": [
              "0.016308057205886288"
            ]
          },
          "metadata": {},
          "execution_count": 6
        }
      ]
    },
    {
      "cell_type": "markdown",
      "metadata": {
        "id": "TEVebVrfd-gQ"
      },
      "source": [
        "# Comparing the MSE of sample variance vs maximum likelihood estimator of variance, when DGP is uniform distribution"
      ]
    },
    {
      "cell_type": "code",
      "metadata": {
        "id": "vPp7CYHteMu9"
      },
      "source": [
        "n = 20 #sample size\n",
        "s = 10000 #number of experiments\n",
        "x = np.random.uniform(0,2,(n,s))\n",
        "#population variance, ground truth\n",
        "sigma = 1/3 "
      ],
      "execution_count": 7,
      "outputs": []
    },
    {
      "cell_type": "code",
      "metadata": {
        "id": "l28XDxQecu49"
      },
      "source": [
        "sample_var = np.var(x,axis=0,ddof=1)"
      ],
      "execution_count": 8,
      "outputs": []
    },
    {
      "cell_type": "code",
      "metadata": {
        "id": "Xo1A3DoidCp7"
      },
      "source": [
        "mle_var = np.var(x,axis=0,ddof=0)"
      ],
      "execution_count": 9,
      "outputs": []
    },
    {
      "cell_type": "code",
      "metadata": {
        "colab": {
          "base_uri": "https://localhost:8080/"
        },
        "id": "yHznOtWIdSDP",
        "outputId": "fcd9f4e7-7357-44d3-9448-2dd487cada48"
      },
      "source": [
        "(np.mean(sample_var) - sigma)**2"
      ],
      "execution_count": 10,
      "outputs": [
        {
          "output_type": "execute_result",
          "data": {
            "text/plain": [
              "1.291114656222068e-09"
            ]
          },
          "metadata": {},
          "execution_count": 10
        }
      ]
    },
    {
      "cell_type": "code",
      "metadata": {
        "colab": {
          "base_uri": "https://localhost:8080/"
        },
        "id": "AUvrhhf1dscO",
        "outputId": "82049718-d738-4a09-9827-ecdd8c214aae"
      },
      "source": [
        "(np.mean(mle_var) - sigma)**2"
      ],
      "execution_count": 11,
      "outputs": [
        {
          "output_type": "execute_result",
          "data": {
            "text/plain": [
              "0.00027664109368401"
            ]
          },
          "metadata": {},
          "execution_count": 11
        }
      ]
    },
    {
      "cell_type": "code",
      "metadata": {
        "colab": {
          "base_uri": "https://localhost:8080/"
        },
        "id": "H-xxJ0tmdHWB",
        "outputId": "4d18d09c-df49-4d05-cd54-37969af4cd78"
      },
      "source": [
        "(np.mean(sample_var) - sigma)**2  + np.var(sample_var)"
      ],
      "execution_count": 12,
      "outputs": [
        {
          "output_type": "execute_result",
          "data": {
            "text/plain": [
              "0.0050872185870583205"
            ]
          },
          "metadata": {},
          "execution_count": 12
        }
      ]
    },
    {
      "cell_type": "code",
      "metadata": {
        "colab": {
          "base_uri": "https://localhost:8080/"
        },
        "id": "KfqRRiKKd2o1",
        "outputId": "5e246790-c24d-438d-a2bb-0562982a1187"
      },
      "source": [
        "(np.mean(mle_var) - sigma)**2  + np.var(mle_var)"
      ],
      "execution_count": 13,
      "outputs": [
        {
          "output_type": "execute_result",
          "data": {
            "text/plain": [
              "0.004867854703273167"
            ]
          },
          "metadata": {},
          "execution_count": 13
        }
      ]
    },
    {
      "cell_type": "code",
      "metadata": {
        "id": "hWyLw6xKd4M6"
      },
      "source": [
        "n = 20 #sample size\n",
        "s = 10000 #number of experiments\n",
        "x = np.random.normal(0,1,(n,s))\n",
        "sigma = 1"
      ],
      "execution_count": 14,
      "outputs": []
    },
    {
      "cell_type": "code",
      "metadata": {
        "colab": {
          "base_uri": "https://localhost:8080/"
        },
        "id": "aqXu8uvVfPe4",
        "outputId": "95f073c6-f491-4ee1-cc9b-4f4b8de6fe21"
      },
      "source": [
        "sample_var = np.var(x,axis=0,ddof=1)\n",
        "mle_var = np.var(x,axis=0,ddof=0)\n",
        "print((np.mean(sample_var) - sigma)**2  + np.var(sample_var))\n",
        "print((np.mean(mle_var) - sigma)**2  + np.var(mle_var))"
      ],
      "execution_count": 15,
      "outputs": [
        {
          "output_type": "stream",
          "name": "stdout",
          "text": [
            "0.10321457502666607\n",
            "0.09604939256914492\n"
          ]
        }
      ]
    },
    {
      "cell_type": "code",
      "metadata": {
        "id": "4lr3rsh7ekP3"
      },
      "source": [
        "n = 20 #sample size\n",
        "s = 10000 #number of experiments\n",
        "x = np.random.exponential(1,(n,s))\n",
        "sigma = 1"
      ],
      "execution_count": 16,
      "outputs": []
    },
    {
      "cell_type": "code",
      "metadata": {
        "colab": {
          "base_uri": "https://localhost:8080/"
        },
        "id": "9fOh3eqYfBHU",
        "outputId": "67892ed0-6355-4dfe-9286-58a0bf6f4d2b"
      },
      "source": [
        "sample_var = np.var(x,axis=0,ddof=1)\n",
        "mle_var = np.var(x,axis=0,ddof=0)\n",
        "print((np.mean(sample_var) - sigma)**2  + np.var(sample_var))\n",
        "print((np.mean(mle_var) - sigma)**2  + np.var(mle_var))"
      ],
      "execution_count": 17,
      "outputs": [
        {
          "output_type": "stream",
          "name": "stdout",
          "text": [
            "0.41765571944467017\n",
            "0.37864909014914927\n"
          ]
        }
      ]
    }
  ]
}
