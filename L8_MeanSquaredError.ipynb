{
  "nbformat": 4,
  "nbformat_minor": 0,
  "metadata": {
    "colab": {
      "name": "Lecture8_MSE.ipynb",
      "provenance": [],
      "authorship_tag": "ABX9TyPalVlbSuyoQfrewuWmhS1z",
      "include_colab_link": true
    },
    "kernelspec": {
      "name": "python3",
      "display_name": "Python 3"
    },
    "language_info": {
      "name": "python"
    }
  },
  "cells": [
    {
      "cell_type": "markdown",
      "metadata": {
        "id": "view-in-github",
        "colab_type": "text"
      },
      "source": [
        "<a href=\"https://colab.research.google.com/github/khaichiong/meco7312/blob/master/L8_MeanSquaredError.ipynb\" target=\"_parent\"><img src=\"https://colab.research.google.com/assets/colab-badge.svg\" alt=\"Open In Colab\"/></a>"
      ]
    },
    {
      "cell_type": "markdown",
      "metadata": {
        "id": "N-R2Moc4af28"
      },
      "source": [
        "# Monte Carlo simulation for calculating bias and variance of an estimator"
      ]
    },
    {
      "cell_type": "code",
      "metadata": {
        "id": "kIY7Nh2aaMZy"
      },
      "source": [
        "import numpy as np"
      ],
      "execution_count": 2,
      "outputs": []
    },
    {
      "cell_type": "code",
      "metadata": {
        "id": "1Q6oB1bBaQmm"
      },
      "source": [
        "#DGP\n",
        "n = 20 #sample size\n",
        "s = 10000 #number of experiments\n",
        "x = np.random.uniform(0,2,(n,s))\n",
        "\n",
        "#ground truth, population mean parameter\n",
        "theta = 1"
      ],
      "execution_count": 16,
      "outputs": []
    },
    {
      "cell_type": "markdown",
      "source": [
        "Mean square error of the sample mean is:\n",
        "$E[(\\hat{\\theta} - \\theta)^2]$"
      ],
      "metadata": {
        "id": "ZZ0IdcFCvdot"
      }
    },
    {
      "cell_type": "code",
      "source": [
        "#mean-squared error of sample mean:\n",
        "np.mean((np.mean(x,axis=0)-theta)**2)"
      ],
      "metadata": {
        "id": "jy_meShevJyU",
        "outputId": "02bfeba2-0f97-4c6b-a32d-707130f8b0ed",
        "colab": {
          "base_uri": "https://localhost:8080/"
        }
      },
      "execution_count": 17,
      "outputs": [
        {
          "output_type": "execute_result",
          "data": {
            "text/plain": [
              "0.016596684629832423"
            ]
          },
          "metadata": {},
          "execution_count": 17
        }
      ]
    },
    {
      "cell_type": "markdown",
      "metadata": {
        "id": "iENst1Eoci23"
      },
      "source": [
        "Decomposing mean square error $E[(\\hat{\\theta} - \\theta)^2] = bias^2 + Var(\\hat{\\theta})$"
      ]
    },
    {
      "cell_type": "markdown",
      "metadata": {
        "id": "CHJIC7V5badV"
      },
      "source": [
        "$bias^2 = (E[\\hat{\\theta}] - \\theta)^2$"
      ]
    },
    {
      "cell_type": "code",
      "metadata": {
        "colab": {
          "base_uri": "https://localhost:8080/"
        },
        "id": "irjryBUPatu5",
        "outputId": "04bab94e-087f-4a81-dfd2-914eb005d8cb"
      },
      "source": [
        "#taking the sample mean for each experiment\n",
        "sample_mean = np.mean(x,axis=0)\n",
        "\n",
        "#square of bias\n",
        "(np.mean(sample_mean) - theta)**2"
      ],
      "execution_count": 18,
      "outputs": [
        {
          "output_type": "execute_result",
          "data": {
            "text/plain": [
              "2.929771287691587e-06"
            ]
          },
          "metadata": {},
          "execution_count": 18
        }
      ]
    },
    {
      "cell_type": "markdown",
      "metadata": {
        "id": "BNRP65wccWhU"
      },
      "source": [
        "Variance of estimator = $Var(\\hat{\\theta})$"
      ]
    },
    {
      "cell_type": "code",
      "metadata": {
        "colab": {
          "base_uri": "https://localhost:8080/"
        },
        "id": "jr6fGrCibW23",
        "outputId": "a65b6ee9-1c89-4e4f-e9b1-ea0ca82ef72c"
      },
      "source": [
        "np.var(sample_mean)"
      ],
      "execution_count": 19,
      "outputs": [
        {
          "output_type": "execute_result",
          "data": {
            "text/plain": [
              "0.016593754858544734"
            ]
          },
          "metadata": {},
          "execution_count": 19
        }
      ]
    },
    {
      "cell_type": "code",
      "metadata": {
        "colab": {
          "base_uri": "https://localhost:8080/"
        },
        "id": "elLkYVLTceg2",
        "outputId": "d9f1bac6-23d7-4744-f36e-81d8aff09c1b"
      },
      "source": [
        "(np.mean(sample_mean) - theta)**2 + np.var(sample_mean)"
      ],
      "execution_count": 20,
      "outputs": [
        {
          "output_type": "execute_result",
          "data": {
            "text/plain": [
              "0.016596684629832426"
            ]
          },
          "metadata": {},
          "execution_count": 20
        }
      ]
    },
    {
      "cell_type": "markdown",
      "metadata": {
        "id": "TEVebVrfd-gQ"
      },
      "source": [
        "# Comparing the MSE of sample variance vs maximum likelihood estimator of variance, when DGP is uniform distribution"
      ]
    },
    {
      "cell_type": "code",
      "metadata": {
        "id": "vPp7CYHteMu9"
      },
      "source": [
        "n = 20 #sample size\n",
        "s = 10000 #number of experiments\n",
        "x = np.random.uniform(0,2,(n,s))\n",
        "#population variance, ground truth\n",
        "sigma = 1/3"
      ],
      "execution_count": 29,
      "outputs": []
    },
    {
      "cell_type": "code",
      "metadata": {
        "id": "l28XDxQecu49"
      },
      "source": [
        "#taking the sample variance for each experiment\n",
        "sample_var = np.var(x,axis=0,ddof=1)"
      ],
      "execution_count": 30,
      "outputs": []
    },
    {
      "cell_type": "code",
      "metadata": {
        "id": "Xo1A3DoidCp7"
      },
      "source": [
        "#taking the biased sample variance for each experiment\n",
        "mle_var = np.var(x,axis=0,ddof=0)"
      ],
      "execution_count": 31,
      "outputs": []
    },
    {
      "cell_type": "code",
      "metadata": {
        "colab": {
          "base_uri": "https://localhost:8080/"
        },
        "id": "yHznOtWIdSDP",
        "outputId": "fb6d3eff-f16e-4fa3-885f-9bf3ee758838"
      },
      "source": [
        "#mean squared error of the unbiased sample variance\n",
        "np.mean((sample_var - sigma)**2)"
      ],
      "execution_count": 40,
      "outputs": [
        {
          "output_type": "execute_result",
          "data": {
            "text/plain": [
              "0.004903860949262039"
            ]
          },
          "metadata": {},
          "execution_count": 40
        }
      ]
    },
    {
      "cell_type": "code",
      "metadata": {
        "colab": {
          "base_uri": "https://localhost:8080/"
        },
        "id": "AUvrhhf1dscO",
        "outputId": "20a44993-36c2-4dc3-8bad-1b24f6b164f5"
      },
      "source": [
        "#mean squared error of the biased sample variance\n",
        "np.mean((mle_var - sigma)**2)"
      ],
      "execution_count": 41,
      "outputs": [
        {
          "output_type": "execute_result",
          "data": {
            "text/plain": [
              "0.004718160674179678"
            ]
          },
          "metadata": {},
          "execution_count": 41
        }
      ]
    },
    {
      "cell_type": "code",
      "metadata": {
        "colab": {
          "base_uri": "https://localhost:8080/"
        },
        "id": "H-xxJ0tmdHWB",
        "outputId": "14e435d1-fb6e-4b05-f275-c66900aff0fd"
      },
      "source": [
        "#identical calculation\n",
        "(np.mean(sample_var) - sigma)**2  + np.var(sample_var)"
      ],
      "execution_count": 42,
      "outputs": [
        {
          "output_type": "execute_result",
          "data": {
            "text/plain": [
              "0.004903860949262039"
            ]
          },
          "metadata": {},
          "execution_count": 42
        }
      ]
    },
    {
      "cell_type": "code",
      "metadata": {
        "colab": {
          "base_uri": "https://localhost:8080/"
        },
        "id": "KfqRRiKKd2o1",
        "outputId": "99a3f1ba-44b1-471c-9dc3-79b0a0b7f5ea"
      },
      "source": [
        "#identical calculation\n",
        "(np.mean(mle_var) - sigma)**2  + np.var(mle_var)"
      ],
      "execution_count": 43,
      "outputs": [
        {
          "output_type": "execute_result",
          "data": {
            "text/plain": [
              "0.004718160674179676"
            ]
          },
          "metadata": {},
          "execution_count": 43
        }
      ]
    },
    {
      "cell_type": "markdown",
      "source": [
        "For Normal distribution, we know the mean-squared error as $\\frac{2\\sigma^4}{n-1}$ and $\\frac{2n-1}{n^2}\\sigma^4$ for the unbiased and biased sample variance respectively"
      ],
      "metadata": {
        "id": "ngGk-jvhx8D-"
      }
    },
    {
      "cell_type": "code",
      "metadata": {
        "id": "hWyLw6xKd4M6"
      },
      "source": [
        "n = 20 #sample size\n",
        "s = 10000 #number of experiments\n",
        "x = np.random.normal(0,1,(n,s))\n",
        "sigma = 1"
      ],
      "execution_count": 51,
      "outputs": []
    },
    {
      "cell_type": "code",
      "metadata": {
        "colab": {
          "base_uri": "https://localhost:8080/"
        },
        "id": "aqXu8uvVfPe4",
        "outputId": "d35494b0-450f-4426-a767-437ca5a99b27"
      },
      "source": [
        "sample_var = np.var(x,axis=0,ddof=1)\n",
        "mle_var = np.var(x,axis=0,ddof=0)\n",
        "print((np.mean(sample_var) - sigma)**2  + np.var(sample_var))\n",
        "print((np.mean(mle_var) - sigma)**2  + np.var(mle_var))"
      ],
      "execution_count": 52,
      "outputs": [
        {
          "output_type": "stream",
          "name": "stdout",
          "text": [
            "0.10472998527323919\n",
            "0.09746729096826037\n"
          ]
        }
      ]
    },
    {
      "cell_type": "code",
      "source": [
        "print(2/(n-1))\n",
        "print((2*n-1)/(n**2))"
      ],
      "metadata": {
        "id": "-HlNeKgqyX8o",
        "outputId": "a1497c8d-a805-4247-bfac-7448a0300d13",
        "colab": {
          "base_uri": "https://localhost:8080/"
        }
      },
      "execution_count": 53,
      "outputs": [
        {
          "output_type": "stream",
          "name": "stdout",
          "text": [
            "0.10526315789473684\n",
            "0.0975\n"
          ]
        }
      ]
    },
    {
      "cell_type": "markdown",
      "source": [
        "When the DGP is exponential"
      ],
      "metadata": {
        "id": "s_ZqmiVQyj_C"
      }
    },
    {
      "cell_type": "code",
      "metadata": {
        "id": "4lr3rsh7ekP3"
      },
      "source": [
        "n = 20 #sample size\n",
        "s = 10000 #number of experiments\n",
        "x = np.random.exponential(1,(n,s))\n",
        "sigma = 1"
      ],
      "execution_count": 58,
      "outputs": []
    },
    {
      "cell_type": "code",
      "metadata": {
        "colab": {
          "base_uri": "https://localhost:8080/"
        },
        "id": "9fOh3eqYfBHU",
        "outputId": "3a6b8fbe-1e82-40e6-e4f0-b21aa9b1e967"
      },
      "source": [
        "sample_var = np.var(x,axis=0,ddof=1)\n",
        "mle_var = np.var(x,axis=0,ddof=0)\n",
        "print((np.mean(sample_var) - sigma)**2  + np.var(sample_var))\n",
        "print((np.mean(mle_var) - sigma)**2  + np.var(mle_var))"
      ],
      "execution_count": 57,
      "outputs": [
        {
          "output_type": "stream",
          "name": "stdout",
          "text": [
            "0.003987796224853146\n",
            "0.0039831748706362574\n"
          ]
        }
      ]
    },
    {
      "cell_type": "markdown",
      "source": [
        "We see that for large $n$, these two estimators are asymptotically equivalent"
      ],
      "metadata": {
        "id": "F6yLQY66ytv2"
      }
    }
  ]
}