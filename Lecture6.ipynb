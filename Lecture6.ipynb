{
  "nbformat": 4,
  "nbformat_minor": 0,
  "metadata": {
    "colab": {
      "name": "Lecture6.ipynb",
      "provenance": [],
      "authorship_tag": "ABX9TyOvPVw4VdUu39eFZjgyNM1o",
      "include_colab_link": true
    },
    "kernelspec": {
      "name": "python3",
      "display_name": "Python 3"
    },
    "language_info": {
      "name": "python"
    }
  },
  "cells": [
    {
      "cell_type": "markdown",
      "metadata": {
        "id": "view-in-github",
        "colab_type": "text"
      },
      "source": [
        "<a href=\"https://colab.research.google.com/github/khaichiong/meco7312/blob/master/Lecture6.ipynb\" target=\"_parent\"><img src=\"https://colab.research.google.com/assets/colab-badge.svg\" alt=\"Open In Colab\"/></a>"
      ]
    },
    {
      "cell_type": "code",
      "metadata": {
        "id": "rb-t57W14eYN"
      },
      "source": [
        "import numpy as np\n",
        "import matplotlib.pyplot as plt\n",
        "import seaborn as sns\n",
        "from scipy.stats import norm, chi2, uniform, expon"
      ],
      "execution_count": 35,
      "outputs": []
    },
    {
      "cell_type": "markdown",
      "metadata": {
        "id": "NhAlxLZE4kC7"
      },
      "source": [
        "# Strong Law of Large Numbers\n",
        "\n",
        "The following illustrates that the sample mean, $\\bar{X}_{n}$, converges almost surely to $\\mu$ for the Uniform distribution."
      ]
    },
    {
      "cell_type": "code",
      "metadata": {
        "id": "TbuKE5f94iwN"
      },
      "source": [
        "def mean_uniform(n):\n",
        "  x = np.random.uniform(0,1,(n,))\n",
        "  return np.mean(x)"
      ],
      "execution_count": null,
      "outputs": []
    },
    {
      "cell_type": "code",
      "metadata": {
        "colab": {
          "base_uri": "https://localhost:8080/",
          "height": 282
        },
        "id": "jmPVbnQE4l8D",
        "outputId": "1392db0f-918a-486a-a373-56e1dfd55cfa"
      },
      "source": [
        "x_range = np.arange(10,5000,10)\n",
        "plt.plot(x_range,[mean_uniform(n) for n in x_range])\n",
        "epsilon = 0.02\n",
        "plt.plot(x_range,(0.5+epsilon)*np.ones(np.shape(x_range)))\n",
        "plt.plot(x_range,(0.5-epsilon)*np.ones(np.shape(x_range)))"
      ],
      "execution_count": null,
      "outputs": [
        {
          "output_type": "execute_result",
          "data": {
            "text/plain": [
              "[<matplotlib.lines.Line2D at 0x7fbf8060aad0>]"
            ]
          },
          "metadata": {},
          "execution_count": 12
        },
        {
          "output_type": "display_data",
          "data": {
            "image/png": "[encoded data removed]",
            "text/plain": [
              "<Figure size 432x288 with 1 Axes>"
            ]
          },
          "metadata": {
            "needs_background": "light"
          }
        }
      ]
    },
    {
      "cell_type": "markdown",
      "metadata": {
        "id": "3zPaAF9o48eF"
      },
      "source": [
        "## Example that convergence in probability does not imply convergence almost surely\n",
        "\n",
        "The following random variable converges in probability to 0, but does not converge almost surely to 0"
      ]
    },
    {
      "cell_type": "code",
      "metadata": {
        "id": "9t8A_r1xG4UE"
      },
      "source": [
        "def example(n):\n",
        "  y=0\n",
        "  if np.random.uniform(0,1) < 1/n:\n",
        "    y = 1\n",
        "  return y    "
      ],
      "execution_count": null,
      "outputs": []
    },
    {
      "cell_type": "markdown",
      "metadata": {
        "id": "y2ylWI7V5Evg"
      },
      "source": [
        "Number of 1s when $n \\in [1000,10000]$\n",
        "\n"
      ]
    },
    {
      "cell_type": "code",
      "metadata": {
        "colab": {
          "base_uri": "https://localhost:8080/"
        },
        "id": "hntkPJlOM_bI",
        "outputId": "3b46d35a-42af-43c3-fb8a-181493d9ee02"
      },
      "source": [
        "x_range = np.arange(1000,10000,10)\n",
        "y = [example(n) for n in x_range]\n",
        "np.sum(y)"
      ],
      "execution_count": 16,
      "outputs": [
        {
          "output_type": "execute_result",
          "data": {
            "text/plain": [
              "0"
            ]
          },
          "metadata": {},
          "execution_count": 16
        }
      ]
    },
    {
      "cell_type": "code",
      "metadata": {
        "colab": {
          "base_uri": "https://localhost:8080/",
          "height": 282
        },
        "id": "yKlLw61j_FKc",
        "outputId": "317c5fe6-74a8-4902-ca4c-3a78c8217770"
      },
      "source": [
        "plt.plot(x_range,y)"
      ],
      "execution_count": 17,
      "outputs": [
        {
          "output_type": "execute_result",
          "data": {
            "text/plain": [
              "[<matplotlib.lines.Line2D at 0x7fbf8015e910>]"
            ]
          },
          "metadata": {},
          "execution_count": 17
        },
        {
          "output_type": "display_data",
          "data": {
            "image/png": "[encoded data removed]",
            "text/plain": [
              "<Figure size 432x288 with 1 Axes>"
            ]
          },
          "metadata": {
            "needs_background": "light"
          }
        }
      ]
    },
    {
      "cell_type": "markdown",
      "metadata": {
        "id": "_y3FIv_q597I"
      },
      "source": [
        "Number of 1s when $n \\in [10000,100000]$"
      ]
    },
    {
      "cell_type": "code",
      "metadata": {
        "colab": {
          "base_uri": "https://localhost:8080/"
        },
        "id": "SP0ywZu7JU4l",
        "outputId": "fbcfccf0-5d4e-4c68-9153-5af608253bf7"
      },
      "source": [
        "x_range = np.arange(10000,100000,1)\n",
        "y = [example(n) for n in x_range]\n",
        "np.sum(y)"
      ],
      "execution_count": 18,
      "outputs": [
        {
          "output_type": "execute_result",
          "data": {
            "text/plain": [
              "2"
            ]
          },
          "metadata": {},
          "execution_count": 18
        }
      ]
    },
    {
      "cell_type": "code",
      "metadata": {
        "colab": {
          "base_uri": "https://localhost:8080/",
          "height": 282
        },
        "id": "RpOSBZf1_MUj",
        "outputId": "e1c58d9e-1c7a-4d75-d6df-273d123cea98"
      },
      "source": [
        "plt.plot(x_range,y)"
      ],
      "execution_count": 19,
      "outputs": [
        {
          "output_type": "execute_result",
          "data": {
            "text/plain": [
              "[<matplotlib.lines.Line2D at 0x7fbf80269310>]"
            ]
          },
          "metadata": {},
          "execution_count": 19
        },
        {
          "output_type": "display_data",
          "data": {
            "image/png": "[encoded data removed]",
            "text/plain": [
              "<Figure size 432x288 with 1 Axes>"
            ]
          },
          "metadata": {
            "needs_background": "light"
          }
        }
      ]
    },
    {
      "cell_type": "markdown",
      "metadata": {
        "id": "SZtFgG8H6EGi"
      },
      "source": [
        "# Central Limit Theorem"
      ]
    },
    {
      "cell_type": "markdown",
      "metadata": {
        "id": "2TojYhWK_e5P"
      },
      "source": [
        "Take $X_{i}$ to be exponentially distributed, i.e. the pdf of $X_{i}$ is $f(x) =  \\lambda e^{-\\lambda x}$. Check using simulations that the distribution of $\\bar{X}$ is approximately $\\mathcal{N}(\\frac{1}{\\lambda},\\frac{1}{n\\lambda^{2}})$."
      ]
    },
    {
      "cell_type": "code",
      "metadata": {
        "id": "Md3TOXOD_Z07"
      },
      "source": [
        "n = 5000 #sample size\n",
        "s = 10000  #number of experiments\n",
        "lm = 2 #lambda parameter of the exponential distribution"
      ],
      "execution_count": 27,
      "outputs": []
    },
    {
      "cell_type": "code",
      "metadata": {
        "id": "8OgQHSrQ_kn8"
      },
      "source": [
        "x = np.random.exponential(1/lm,(n,s))"
      ],
      "execution_count": 28,
      "outputs": []
    },
    {
      "cell_type": "code",
      "metadata": {
        "id": "LZuYZZaF_wDA"
      },
      "source": [
        "#take the sample mean of each experiment \n",
        "sample_means = np.mean(x,axis=0) "
      ],
      "execution_count": 29,
      "outputs": []
    },
    {
      "cell_type": "code",
      "metadata": {
        "colab": {
          "base_uri": "https://localhost:8080/",
          "height": 265
        },
        "id": "-wVOofGG_9ed",
        "outputId": "47b2f29b-9d78-454d-b86a-3e7bb1dd1fea"
      },
      "source": [
        "# sample_mean - 1/lm converges to zero\n",
        "plt.hist(sample_means-1/lm)\n",
        "plt.show()"
      ],
      "execution_count": 31,
      "outputs": [
        {
          "output_type": "display_data",
          "data": {
            "image/png": "[encoded data removed]",
            "text/plain": [
              "<Figure size 432x288 with 1 Axes>"
            ]
          },
          "metadata": {
            "needs_background": "light"
          }
        }
      ]
    },
    {
      "cell_type": "code",
      "metadata": {
        "colab": {
          "base_uri": "https://localhost:8080/",
          "height": 265
        },
        "id": "4ZxdiAorAFfd",
        "outputId": "5d7b29da-230f-4868-c7ef-6e5d5fd252b2"
      },
      "source": [
        "#but sqrt(n)*(sample mean - 1/lm) converges to?\n",
        "plt.hist(np.sqrt(n)*(sample_means-1/lm),bins=30)\n",
        "plt.show()"
      ],
      "execution_count": 33,
      "outputs": [
        {
          "output_type": "display_data",
          "data": {
            "image/png": "[encoded data removed]",
            "text/plain": [
              "<Figure size 432x288 with 1 Axes>"
            ]
          },
          "metadata": {
            "needs_background": "light"
          }
        }
      ]
    },
    {
      "cell_type": "markdown",
      "metadata": {
        "id": "NFOPPjgABACg"
      },
      "source": [
        "According to the CLT, $\\sqrt{n}(\\bar{X}-\\frac{1}{\\lambda}) \\rightarrow_{d} \\mathcal{N}(0,\\frac{1}{\\lambda^{2}})$, where $E[X] =  \\frac{1}{\\lambda}$ and $\\text{Var}(X)=\\frac{1}{\\lambda^{2}}$. "
      ]
    },
    {
      "cell_type": "code",
      "metadata": {
        "colab": {
          "base_uri": "https://localhost:8080/",
          "height": 265
        },
        "id": "hn13gKe-Ascr",
        "outputId": "bad56365-339b-4269-a79b-4bd39f0909c0"
      },
      "source": [
        "#Compare with the theoretical sampling density\n",
        "y = np.sqrt(n)*(sample_means-1/lm)\n",
        "z = np.arange(min(y),max(y),0.01)\n",
        "fig, ax = plt.subplots(1, 1)\n",
        "ax.plot(z,norm.pdf(z, 0, np.sqrt(1/lm**2)),lw=5, alpha=0.6, label='Theoretical sampling distribution')\n",
        "ax.hist(y,bins=30,density=True, histtype='stepfilled', alpha=0.8, label='Sampling distribution')\n",
        "ax.legend(loc='upper right')\n",
        "plt.show()"
      ],
      "execution_count": 36,
      "outputs": [
        {
          "output_type": "display_data",
          "data": {
            "image/png": "[encoded data removed]",
            "text/plain": [
              "<Figure size 432x288 with 1 Axes>"
            ]
          },
          "metadata": {
            "needs_background": "light"
          }
        }
      ]
    },
    {
      "cell_type": "markdown",
      "metadata": {
        "id": "fgrKGMemGAFf"
      },
      "source": [
        "# Asymptotic approximation\n",
        "\n",
        "The asymptotic approximation for the distribution of $\\bar{X}$ is  $\\bar{X} \\sim \\mathcal{N}(\\frac{1}{\\lambda},\\frac{1}{n\\lambda^{2}})$."
      ]
    },
    {
      "cell_type": "code",
      "metadata": {
        "id": "ThgEti8pFp49"
      },
      "source": [
        "n = 50 #sample size\n",
        "s = 10000  #number of experiments\n",
        "lm = 0.5 #lambda parameter of the exponential distribution\n",
        "x = np.random.exponential(1/lm,(n,s))\n",
        "sample_means = np.mean(x,axis=0) "
      ],
      "execution_count": 64,
      "outputs": []
    },
    {
      "cell_type": "code",
      "metadata": {
        "colab": {
          "base_uri": "https://localhost:8080/",
          "height": 265
        },
        "id": "ntuWDmosGG7p",
        "outputId": "7e5cb3f2-466c-409e-d7b5-cba6441d7fd6"
      },
      "source": [
        "plt.hist(sample_means,bins=30)\n",
        "plt.show()"
      ],
      "execution_count": 65,
      "outputs": [
        {
          "output_type": "display_data",
          "data": {
            "image/png": "[encoded data removed]",
            "text/plain": [
              "<Figure size 432x288 with 1 Axes>"
            ]
          },
          "metadata": {
            "needs_background": "light"
          }
        }
      ]
    },
    {
      "cell_type": "markdown",
      "metadata": {
        "id": "fVohZWY_Ga1A"
      },
      "source": [
        "Compare with the asymptotic approximation $\\mathcal{N}(\\frac{1}{\\lambda},\\frac{1}{n\\lambda^{2}})$"
      ]
    },
    {
      "cell_type": "code",
      "metadata": {
        "colab": {
          "base_uri": "https://localhost:8080/",
          "height": 265
        },
        "id": "zKnj_8QOGOo9",
        "outputId": "944a9d5d-d3f4-4836-be06-a003a96f37ee"
      },
      "source": [
        "#Compare with the asymptotic approximation \n",
        "z = np.arange(min(sample_means),max(sample_means),0.001)\n",
        "fig, ax = plt.subplots(1, 1)\n",
        "ax.plot(z,norm.pdf(z, 1/lm, np.sqrt(1/(n*lm**2))),lw=5, alpha=0.6, label='Asymptotic approximation')\n",
        "ax.hist(sample_means,bins=30,density=True, histtype='stepfilled', alpha=0.8, label='Sampling distribution')\n",
        "ax.legend(loc='upper right')\n",
        "plt.show()"
      ],
      "execution_count": 66,
      "outputs": [
        {
          "output_type": "display_data",
          "data": {
            "image/png": "[encoded data removed]",
            "text/plain": [
              "<Figure size 432x288 with 1 Axes>"
            ]
          },
          "metadata": {
            "needs_background": "light"
          }
        }
      ]
    },
    {
      "cell_type": "code",
      "metadata": {
        "id": "At5XX6JcHCw_"
      },
      "source": [
        ""
      ],
      "execution_count": null,
      "outputs": []
    }
  ]
}