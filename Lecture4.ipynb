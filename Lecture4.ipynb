{
  "nbformat": 4,
  "nbformat_minor": 0,
  "metadata": {
    "colab": {
      "name": "Lecture4.ipynb",
      "provenance": [],
      "authorship_tag": "ABX9TyNCJ7S49WjpOTMPMDMbE38K",
      "include_colab_link": true
    },
    "kernelspec": {
      "name": "python3",
      "display_name": "Python 3"
    },
    "language_info": {
      "name": "python"
    }
  },
  "cells": [
    {
      "cell_type": "markdown",
      "metadata": {
        "id": "view-in-github",
        "colab_type": "text"
      },
      "source": [
        "<a href=\"https://colab.research.google.com/github/khaichiong/meco7312/blob/master/Lecture4.ipynb\" target=\"_parent\"><img src=\"https://colab.research.google.com/assets/colab-badge.svg\" alt=\"Open In Colab\"/></a>"
      ]
    },
    {
      "cell_type": "markdown",
      "metadata": {
        "id": "1LPESKF72aVl"
      },
      "source": [
        "#Sampling from a Multivariate Normal via Gibbs sampling"
      ]
    },
    {
      "cell_type": "code",
      "metadata": {
        "id": "af6v6euVyZh_"
      },
      "source": [
        "import numpy as np\n",
        "import matplotlib.pyplot as plt"
      ],
      "execution_count": 14,
      "outputs": []
    },
    {
      "cell_type": "markdown",
      "metadata": {
        "id": "aycdPmGCyjdl"
      },
      "source": [
        "Consider $(X,Y)$ bivariate Normal.\n",
        "\n",
        "The conditional distribution of Y given X is:\n",
        "$$(Y|X = x) \\sim \\mathcal{N}\\Big(\\text{E}[Y] + \\rho \\frac{\\sigma_{Y}}{\\sigma_{X}}(x -\\text{E}[X]), (1-\\rho^{2})\\sigma_{Y}^{2}\\Big) $$"
      ]
    },
    {
      "cell_type": "markdown",
      "metadata": {
        "id": "2cP3l9AQzYlZ"
      },
      "source": [
        "To implement Gibbs' sampling, we first sample from the marginal pdf of $X$."
      ]
    },
    {
      "cell_type": "code",
      "metadata": {
        "id": "CTW5Ft0MzSM0"
      },
      "source": [
        "#Set the following parameters for the bivariate Normal distribution\n",
        "mu_x = 0.2\n",
        "mu_y = -0.5\n",
        "sigma_x = 1.0\n",
        "sigma_y = 1.0\n",
        "rho = 0.6"
      ],
      "execution_count": 25,
      "outputs": []
    },
    {
      "cell_type": "code",
      "metadata": {
        "id": "PG2YH5axykJc"
      },
      "source": [
        "#sample from the marginal pdf of X\n",
        "n = 1000\n",
        "x = np.random.normal(mu_x,sigma_x,n)"
      ],
      "execution_count": 30,
      "outputs": []
    },
    {
      "cell_type": "markdown",
      "metadata": {
        "id": "58uCDWEyzzdK"
      },
      "source": [
        "Draw from the conditonal distribution $Y|X=x$"
      ]
    },
    {
      "cell_type": "code",
      "metadata": {
        "id": "kzn1_uI8z0cI"
      },
      "source": [
        "mu_cond = mu_y + rho*(sigma_y/sigma_x)*(x-mu_x)\n",
        "sigma_cond = (1-rho**2)*sigma_y**2\n",
        "y = np.random.normal(mu_cond,sigma_cond,n)"
      ],
      "execution_count": 31,
      "outputs": []
    },
    {
      "cell_type": "markdown",
      "metadata": {
        "id": "G_-NkUI-2EZR"
      },
      "source": [
        "Plot the sample to see if the distribution resembles a bivariate distribution"
      ]
    },
    {
      "cell_type": "code",
      "metadata": {
        "colab": {
          "base_uri": "https://localhost:8080/",
          "height": 282
        },
        "id": "Wgs-Ojm60BGE",
        "outputId": "2086a8e2-258b-437a-bc89-3e60b964cbba"
      },
      "source": [
        "plt.scatter(x,y)"
      ],
      "execution_count": 32,
      "outputs": [
        {
          "output_type": "execute_result",
          "data": {
            "text/plain": [
              "<matplotlib.collections.PathCollection at 0x7f56277ad8d0>"
            ]
          },
          "metadata": {},
          "execution_count": 32
        },
        {
          "output_type": "display_data",
          "data": {
            "image/png": "[encoded data removed]",
            "text/plain": [
              "<Figure size 432x288 with 1 Axes>"
            ]
          },
          "metadata": {
            "needs_background": "light"
          }
        }
      ]
    },
    {
      "cell_type": "code",
      "metadata": {
        "colab": {
          "base_uri": "https://localhost:8080/",
          "height": 282
        },
        "id": "FOeZlS730yfp",
        "outputId": "f17994b2-3615-4f58-d86a-5a8bbb438830"
      },
      "source": [
        "plt.hist2d(x, y, (25, 25), cmap=plt.cm.jet,density=True)\n",
        "plt.colorbar()"
      ],
      "execution_count": 33,
      "outputs": [
        {
          "output_type": "execute_result",
          "data": {
            "text/plain": [
              "<matplotlib.colorbar.Colorbar at 0x7f562774f790>"
            ]
          },
          "metadata": {},
          "execution_count": 33
        },
        {
          "output_type": "display_data",
          "data": {
            "image/png": "[encoded data removed]",
            "text/plain": [
              "<Figure size 432x288 with 2 Axes>"
            ]
          },
          "metadata": {
            "needs_background": "light"
          }
        }
      ]
    },
    {
      "cell_type": "markdown",
      "metadata": {
        "id": "5ZbkRtaG2XUk"
      },
      "source": [
        "Try different correlation and sample size"
      ]
    },
    {
      "cell_type": "code",
      "metadata": {
        "id": "7G8SRG0D1ruj"
      },
      "source": [
        ""
      ],
      "execution_count": 33,
      "outputs": []
    }
  ]
}