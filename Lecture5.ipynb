{
  "nbformat": 4,
  "nbformat_minor": 0,
  "metadata": {
    "colab": {
      "name": "Lecture5.ipynb",
      "provenance": [],
      "authorship_tag": "ABX9TyPALDFjBW03Qq/z6gv7TBPa",
      "include_colab_link": true
    },
    "kernelspec": {
      "name": "python3",
      "display_name": "Python 3"
    },
    "language_info": {
      "name": "python"
    }
  },
  "cells": [
    {
      "cell_type": "markdown",
      "metadata": {
        "id": "view-in-github",
        "colab_type": "text"
      },
      "source": [
        "<a href=\"https://colab.research.google.com/github/khaichiong/meco7312/blob/master/Lecture5.ipynb\" target=\"_parent\"><img src=\"https://colab.research.google.com/assets/colab-badge.svg\" alt=\"Open In Colab\"/></a>"
      ]
    },
    {
      "cell_type": "code",
      "metadata": {
        "id": "UhfT1l8kd7XC"
      },
      "source": [
        "import numpy as np\n",
        "import matplotlib.pyplot as plt\n",
        "import seaborn as sns\n",
        "from scipy.stats import norm, chi2, uniform"
      ],
      "execution_count": 195,
      "outputs": []
    },
    {
      "cell_type": "markdown",
      "metadata": {
        "id": "XfPbmraBjtx8"
      },
      "source": [
        "# Sampling distribution of the sample mean"
      ]
    },
    {
      "cell_type": "markdown",
      "metadata": {
        "id": "_DguMAHteQpd"
      },
      "source": [
        "If we draw a sample of $n$ observations from a population with $\\mathcal{N}(\\mu, \\sigma^{2})$, the sampling distribution of the sample mean is $\\mathcal{N}(\\mu,\\sigma^2/n)$."
      ]
    },
    {
      "cell_type": "code",
      "metadata": {
        "id": "Eqpdb6GzeRLi"
      },
      "source": [
        "n = 20 #sample size\n",
        "s = 1000 #number of experiments\n",
        "mu = 1\n",
        "sd = 2\n",
        "x = np.random.normal(mu,sd,(n,s))"
      ],
      "execution_count": 48,
      "outputs": []
    },
    {
      "cell_type": "code",
      "metadata": {
        "id": "I9ASqzWoeunO"
      },
      "source": [
        "#take the sample mean of each experiment \n",
        "sample_means = np.mean(x,axis=0) "
      ],
      "execution_count": 53,
      "outputs": []
    },
    {
      "cell_type": "code",
      "metadata": {
        "colab": {
          "base_uri": "https://localhost:8080/",
          "height": 265
        },
        "id": "kIlNreqwe6Lg",
        "outputId": "103e686f-086e-4742-8136-91203abcab99"
      },
      "source": [
        "plt.hist(sample_means,bins=30)\n",
        "plt.show()"
      ],
      "execution_count": 50,
      "outputs": [
        {
          "output_type": "display_data",
          "data": {
            "image/png": "[encoded data removed]",
            "text/plain": [
              "<Figure size 432x288 with 1 Axes>"
            ]
          },
          "metadata": {
            "needs_background": "light"
          }
        }
      ]
    },
    {
      "cell_type": "code",
      "metadata": {
        "colab": {
          "base_uri": "https://localhost:8080/"
        },
        "id": "B-uaour_eqM-",
        "outputId": "aa04bdda-7ab9-43ea-9636-c2615513c131"
      },
      "source": [
        "#Theoretically the sampling distribution is N(mu,sigma^2/n)\n",
        "print(np.mean(sample_means))\n",
        "print(mu)\n",
        "print(np.var(sample_means))\n",
        "print((sd**2)/n)"
      ],
      "execution_count": 51,
      "outputs": [
        {
          "output_type": "stream",
          "name": "stdout",
          "text": [
            "0.9946554001507422\n",
            "1\n",
            "0.2130550192580656\n",
            "0.2\n"
          ]
        }
      ]
    },
    {
      "cell_type": "code",
      "metadata": {
        "colab": {
          "base_uri": "https://localhost:8080/",
          "height": 269
        },
        "id": "sTud-tthgKBS",
        "outputId": "4d7c8167-8e8c-4fe3-a486-49ec93b5d0ee"
      },
      "source": [
        "#Compare with the theoretical sampling density\n",
        "z = np.arange(min(sample_means),max(sample_means),0.01)\n",
        "norm.pdf(z, mu, np.sqrt((sd**2)/n))\n",
        "fig, ax = plt.subplots(1, 1)\n",
        "ax.plot(z,norm.pdf(z, mu, np.sqrt((sd**2)/n)),lw=5, alpha=0.6, label='Theoretical sampling distribution')\n",
        "ax.hist(sample_means,bins=30,density=True, histtype='stepfilled', alpha=0.8, label='Sampling distribution')\n",
        "ax.legend(loc='upper right')\n",
        "ax.set_ylim((0,1.2))\n",
        "plt.show()"
      ],
      "execution_count": 52,
      "outputs": [
        {
          "output_type": "display_data",
          "data": {
            "image/png": "[encoded data removed]",
            "text/plain": [
              "<Figure size 432x288 with 1 Axes>"
            ]
          },
          "metadata": {
            "needs_background": "light"
          }
        }
      ]
    },
    {
      "cell_type": "markdown",
      "metadata": {
        "id": "nAvK-f_SjzhB"
      },
      "source": [
        "# Sampling distribution of the sample variance"
      ]
    },
    {
      "cell_type": "code",
      "metadata": {
        "id": "XK-EdAn4j0mf"
      },
      "source": [
        "n = 20 #sample size\n",
        "s = 1000 #number of experiments\n",
        "mu = 1\n",
        "sd = 2\n",
        "x = np.random.normal(mu,sd,(n,s))"
      ],
      "execution_count": 157,
      "outputs": []
    },
    {
      "cell_type": "code",
      "metadata": {
        "id": "FMx4a3ZikGMQ"
      },
      "source": [
        "#take the sample variance of each experiment \n",
        "sample_var = np.var(x,axis=0,ddof=1) "
      ],
      "execution_count": 158,
      "outputs": []
    },
    {
      "cell_type": "code",
      "metadata": {
        "colab": {
          "base_uri": "https://localhost:8080/",
          "height": 265
        },
        "id": "F5E-Hlq0kKAE",
        "outputId": "cd616026-f955-418b-9fa1-75bdf27ca782"
      },
      "source": [
        "plt.hist(sample_var,bins=30)\n",
        "plt.show()"
      ],
      "execution_count": 159,
      "outputs": [
        {
          "output_type": "display_data",
          "data": {
            "image/png": "[encoded data removed]",
            "text/plain": [
              "<Figure size 432x288 with 1 Axes>"
            ]
          },
          "metadata": {
            "needs_background": "light"
          }
        }
      ]
    },
    {
      "cell_type": "code",
      "metadata": {
        "id": "fbUFrLHdkac-"
      },
      "source": [
        "normalized_sample_var = (n-1)*sample_var/sd**2"
      ],
      "execution_count": 160,
      "outputs": []
    },
    {
      "cell_type": "code",
      "metadata": {
        "colab": {
          "base_uri": "https://localhost:8080/",
          "height": 265
        },
        "id": "0d0lGpYUkM44",
        "outputId": "d5588f5e-398b-4ec8-ca33-acd08fe3622d"
      },
      "source": [
        "#Theoretically the sampling distribution of the sample variance is Chi-squared with n-1 degrees of freedom\n",
        "z = np.arange(np.min(normalized_sample_var),np.max(normalized_sample_var),0.5)\n",
        "fig, ax = plt.subplots(1, 1)\n",
        "ax.plot(z,chi2.pdf(z, n-1),lw=5, alpha=0.6, label='Theoretical sampling distribution')\n",
        "ax.hist(normalized_sample_var,bins=30,density=True, histtype='stepfilled', alpha=0.8, label='Sampling distribution')\n",
        "ax.legend(loc='upper right')\n",
        "plt.show()"
      ],
      "execution_count": 161,
      "outputs": [
        {
          "output_type": "display_data",
          "data": {
            "image/png": "[encoded data removed]",
            "text/plain": [
              "<Figure size 432x288 with 1 Axes>"
            ]
          },
          "metadata": {
            "needs_background": "light"
          }
        }
      ]
    },
    {
      "cell_type": "code",
      "metadata": {
        "colab": {
          "base_uri": "https://localhost:8080/"
        },
        "id": "XoyV3SMik9oo",
        "outputId": "1067dd24-72e9-4278-db57-a15959fe1999"
      },
      "source": [
        "#The mean of the sample variance should be sd^2\n",
        "print(np.mean(sample_var))\n",
        "print(sd**2)"
      ],
      "execution_count": 162,
      "outputs": [
        {
          "output_type": "stream",
          "name": "stdout",
          "text": [
            "3.9888815494457908\n",
            "4\n"
          ]
        }
      ]
    },
    {
      "cell_type": "code",
      "metadata": {
        "colab": {
          "base_uri": "https://localhost:8080/"
        },
        "id": "RtlHy3aDk-Vx",
        "outputId": "b204f54c-623b-4c39-a409-9c3e5e2fb6f0"
      },
      "source": [
        "#The variance of the sample variance should be 2*sd^4/(n-1)\n",
        "print(np.var(sample_var))\n",
        "print((2*sd**4)/(n-1))"
      ],
      "execution_count": 163,
      "outputs": [
        {
          "output_type": "stream",
          "name": "stdout",
          "text": [
            "1.6867315947975428\n",
            "1.6842105263157894\n"
          ]
        }
      ]
    },
    {
      "cell_type": "markdown",
      "metadata": {
        "id": "I90B9eusnKfk"
      },
      "source": [
        "# Sampling distribution of the standardized mean"
      ]
    },
    {
      "cell_type": "code",
      "metadata": {
        "id": "UBOHVlZQnMEB"
      },
      "source": [
        "n = 6 #sample size\n",
        "s = 1000000 #number of experiments\n",
        "mu = 1\n",
        "sd = 2\n",
        "x = np.random.normal(mu,sd,(n,s))"
      ],
      "execution_count": 146,
      "outputs": []
    },
    {
      "cell_type": "code",
      "metadata": {
        "id": "ZO0fDmhlngRk"
      },
      "source": [
        "sample_means = np.mean(x,axis=0) \n",
        "sample_var = np.var(x,axis=0,ddof=1) "
      ],
      "execution_count": 152,
      "outputs": []
    },
    {
      "cell_type": "code",
      "metadata": {
        "id": "ITdpNLJBnckI"
      },
      "source": [
        "standardized_means = (sample_means-mu)/(np.sqrt(sample_var/n))"
      ],
      "execution_count": 153,
      "outputs": []
    },
    {
      "cell_type": "markdown",
      "metadata": {
        "id": "mwSrLf2cqvwq"
      },
      "source": [
        "Compare with Student-t distribution with n-1 degrees of freedom."
      ]
    },
    {
      "cell_type": "code",
      "metadata": {
        "colab": {
          "base_uri": "https://localhost:8080/"
        },
        "id": "qIA6nB7Tn3iZ",
        "outputId": "e282e192-30ac-409b-9004-f31b2f860b32"
      },
      "source": [
        "print(np.mean(standardized_means))"
      ],
      "execution_count": 155,
      "outputs": [
        {
          "output_type": "stream",
          "name": "stdout",
          "text": [
            "0.00033482081018085887\n"
          ]
        }
      ]
    },
    {
      "cell_type": "code",
      "metadata": {
        "colab": {
          "base_uri": "https://localhost:8080/"
        },
        "id": "VbNGuav0n_HA",
        "outputId": "8c92ae46-04e1-452f-9565-d50af03c3c86"
      },
      "source": [
        "print(np.var(standardized_means))\n",
        "print((n-1)/(n-3))"
      ],
      "execution_count": 156,
      "outputs": [
        {
          "output_type": "stream",
          "name": "stdout",
          "text": [
            "1.6670858857217097\n",
            "1.6666666666666667\n"
          ]
        }
      ]
    },
    {
      "cell_type": "markdown",
      "metadata": {
        "id": "cnrNxRnFrD9H"
      },
      "source": [
        "# Order statistics"
      ]
    },
    {
      "cell_type": "markdown",
      "metadata": {
        "id": "gBv9Pto7wDFu"
      },
      "source": [
        "## Order statistics for the Uniform distribution"
      ]
    },
    {
      "cell_type": "code",
      "metadata": {
        "id": "FhLtE9Dwsm4j"
      },
      "source": [
        "n = 50\n",
        "s = 10000\n",
        "mu = 0\n",
        "sd = 1\n",
        "x = np.random.uniform(0,1,(n,s))\n",
        "xn = np.max(x,axis=0)"
      ],
      "execution_count": 198,
      "outputs": []
    },
    {
      "cell_type": "code",
      "metadata": {
        "colab": {
          "base_uri": "https://localhost:8080/",
          "height": 265
        },
        "id": "XM78OtmasRuC",
        "outputId": "cc606da2-17f2-4a00-fcf1-3cc74b837f9d"
      },
      "source": [
        "plt.hist(xn,bins=30)\n",
        "plt.show()"
      ],
      "execution_count": 199,
      "outputs": [
        {
          "output_type": "display_data",
          "data": {
            "image/png": "[encoded data removed]",
            "text/plain": [
              "<Figure size 432x288 with 1 Axes>"
            ]
          },
          "metadata": {
            "needs_background": "light"
          }
        }
      ]
    },
    {
      "cell_type": "code",
      "metadata": {
        "id": "48f6v7oit16O"
      },
      "source": [
        "#Compare with the theoretical pdf of largest order statistics\n",
        "z = np.linspace(min(xn),max(xn),num = 200)\n",
        "fx = n*(uniform.cdf(z,0,1)**(n-1))*uniform.pdf(z,0,1)"
      ],
      "execution_count": 200,
      "outputs": []
    },
    {
      "cell_type": "code",
      "metadata": {
        "colab": {
          "base_uri": "https://localhost:8080/",
          "height": 265
        },
        "id": "YFDPNht-uBQt",
        "outputId": "443f4682-6d75-4487-d2a0-1a2c5672347e"
      },
      "source": [
        "fig, ax = plt.subplots(1, 1)\n",
        "ax.plot(z,fx,lw=5, alpha=0.6, label='Theoretical sampling distribution')\n",
        "ax.hist(xn,bins=30,density=True, histtype='stepfilled', alpha=0.8, label='Sampling distribution')\n",
        "ax.legend(loc='upper right')\n",
        "plt.show()"
      ],
      "execution_count": 201,
      "outputs": [
        {
          "output_type": "display_data",
          "data": {
            "image/png": "[encoded data removed]",
            "text/plain": [
              "<Figure size 432x288 with 1 Axes>"
            ]
          },
          "metadata": {
            "needs_background": "light"
          }
        }
      ]
    },
    {
      "cell_type": "markdown",
      "metadata": {
        "id": "lms3iuP8wIMC"
      },
      "source": [
        "## Plot mean of largest order statistics as a function of sample size. Uniform distribution."
      ]
    },
    {
      "cell_type": "code",
      "metadata": {
        "id": "FXuGn2okuD_m"
      },
      "source": [
        "def mean_largest_uniform(n):\n",
        "  s = 10000\n",
        "  mu = 0\n",
        "  sd = 1\n",
        "  x = np.random.uniform(0,1,(n,s))\n",
        "  xn = np.max(x,axis=0)\n",
        "  return np.mean(xn)"
      ],
      "execution_count": 205,
      "outputs": []
    },
    {
      "cell_type": "code",
      "metadata": {
        "id": "GRc9DLfKu6cd"
      },
      "source": [
        "x_range = np.arange(20,75,1)\n",
        "y = [mean_largest_uniform(n) for n in x_range]"
      ],
      "execution_count": 207,
      "outputs": []
    },
    {
      "cell_type": "code",
      "metadata": {
        "colab": {
          "base_uri": "https://localhost:8080/",
          "height": 282
        },
        "id": "74EU1Q8Iudyk",
        "outputId": "7ae9914b-2def-4860-c048-899541bf81b8"
      },
      "source": [
        "plt.plot(x_range,y)"
      ],
      "execution_count": 208,
      "outputs": [
        {
          "output_type": "execute_result",
          "data": {
            "text/plain": [
              "[<matplotlib.lines.Line2D at 0x7f8031e15f10>]"
            ]
          },
          "metadata": {},
          "execution_count": 208
        },
        {
          "output_type": "display_data",
          "data": {
            "image/png": "[encoded data removed]",
            "text/plain": [
              "<Figure size 432x288 with 1 Axes>"
            ]
          },
          "metadata": {
            "needs_background": "light"
          }
        }
      ]
    },
    {
      "cell_type": "markdown",
      "metadata": {
        "id": "a_-qujBLw4vz"
      },
      "source": [
        "## Plot mean of largest order statistics as a function of sample size. Normal distribution."
      ]
    },
    {
      "cell_type": "code",
      "metadata": {
        "id": "DsxBZjY7urXd"
      },
      "source": [
        "def mean_largest_normal(n):\n",
        "  s = 10000\n",
        "  mu = 0\n",
        "  sd = 1\n",
        "  x = np.random.normal(mu,sd,(n,s))\n",
        "  xn = np.max(x,axis=0)\n",
        "  return np.mean(xn)"
      ],
      "execution_count": 209,
      "outputs": []
    },
    {
      "cell_type": "code",
      "metadata": {
        "id": "O3mg_JCLvKXB"
      },
      "source": [
        "x_range = np.arange(50,500,5)\n",
        "y = [mean_largest_normal(n) for n in x_range]"
      ],
      "execution_count": 212,
      "outputs": []
    },
    {
      "cell_type": "code",
      "metadata": {
        "colab": {
          "base_uri": "https://localhost:8080/",
          "height": 282
        },
        "id": "1XV_Bok8vNXQ",
        "outputId": "ec66fd24-b9f1-4a28-f2f9-580d520bb94d"
      },
      "source": [
        "plt.plot(x_range,y)"
      ],
      "execution_count": 213,
      "outputs": [
        {
          "output_type": "execute_result",
          "data": {
            "text/plain": [
              "[<matplotlib.lines.Line2D at 0x7f8031d05090>]"
            ]
          },
          "metadata": {},
          "execution_count": 213
        },
        {
          "output_type": "display_data",
          "data": {
            "image/png": "[encoded data removed]",
            "text/plain": [
              "<Figure size 432x288 with 1 Axes>"
            ]
          },
          "metadata": {
            "needs_background": "light"
          }
        }
      ]
    },
    {
      "cell_type": "code",
      "metadata": {
        "id": "Sm0_0ZKPrFHM"
      },
      "source": [
        "n = 100\n",
        "s = 10000\n",
        "mu = 0\n",
        "sd = 1\n",
        "x = np.random.normal(0,1,(n,s))\n",
        "xn = np.max(x,axis=0)"
      ],
      "execution_count": null,
      "outputs": []
    },
    {
      "cell_type": "code",
      "metadata": {
        "colab": {
          "base_uri": "https://localhost:8080/",
          "height": 265
        },
        "id": "__2oYBxBrbBV",
        "outputId": "07393e24-04b2-4c57-8e5a-d93257ad17bc"
      },
      "source": [
        "plt.hist(xn,bins=30)\n",
        "plt.show()"
      ],
      "execution_count": null,
      "outputs": [
        {
          "output_type": "display_data",
          "data": {
            "image/png": "[encoded data removed]",
            "text/plain": [
              "<Figure size 432x288 with 1 Axes>"
            ]
          },
          "metadata": {
            "needs_background": "light"
          }
        }
      ]
    },
    {
      "cell_type": "code",
      "metadata": {
        "id": "LnQMcCt1rbkD"
      },
      "source": [
        "#Compare with the theoretical pdf of largest order statistics\n",
        "z = np.linspace(min(xn),max(xn),num = 200)\n",
        "fx = n*(norm.cdf(z,mu,sd)**(n-1))*norm.pdf(z,mu,sd)"
      ],
      "execution_count": null,
      "outputs": []
    },
    {
      "cell_type": "code",
      "metadata": {
        "colab": {
          "base_uri": "https://localhost:8080/",
          "height": 265
        },
        "id": "7EdTTWeksFaQ",
        "outputId": "e75c698d-e944-41a1-99ca-627db7e13f07"
      },
      "source": [
        "fig, ax = plt.subplots(1, 1)\n",
        "ax.plot(z,fx,lw=5, alpha=0.6, label='Theoretical sampling distribution')\n",
        "ax.hist(xn,bins=30,density=True, histtype='stepfilled', alpha=0.8, label='Sampling distribution')\n",
        "ax.legend(loc='upper right')\n",
        "plt.show()"
      ],
      "execution_count": null,
      "outputs": [
        {
          "output_type": "display_data",
          "data": {
            "image/png": "[encoded data removed]",
            "text/plain": [
              "<Figure size 432x288 with 1 Axes>"
            ]
          },
          "metadata": {
            "needs_background": "light"
          }
        }
      ]
    }
  ]
}