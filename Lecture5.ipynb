{
  "nbformat": 4,
  "nbformat_minor": 0,
  "metadata": {
    "colab": {
      "name": "Lecture5.ipynb",
      "provenance": [],
      "authorship_tag": "ABX9TyPxtkX/aoJdgTFXqS3lAfAX",
      "include_colab_link": true
    },
    "kernelspec": {
      "name": "python3",
      "display_name": "Python 3"
    },
    "language_info": {
      "name": "python"
    }
  },
  "cells": [
    {
      "cell_type": "markdown",
      "metadata": {
        "id": "view-in-github",
        "colab_type": "text"
      },
      "source": [
        "<a href=\"https://colab.research.google.com/github/khaichiong/meco7312/blob/master/Lecture5.ipynb\" target=\"_parent\"><img src=\"https://colab.research.google.com/assets/colab-badge.svg\" alt=\"Open In Colab\"/></a>"
      ]
    },
    {
      "cell_type": "code",
      "metadata": {
        "id": "UhfT1l8kd7XC"
      },
      "source": [
        "import numpy as np\n",
        "import matplotlib.pyplot as plt\n",
        "import seaborn as sns\n",
        "from scipy.stats import norm, chi2, uniform"
      ],
      "execution_count": null,
      "outputs": []
    },
    {
      "cell_type": "markdown",
      "metadata": {
        "id": "XfPbmraBjtx8"
      },
      "source": [
        "# Sampling distribution of the sample mean"
      ]
    },
    {
      "cell_type": "markdown",
      "metadata": {
        "id": "_DguMAHteQpd"
      },
      "source": [
        "If we draw a sample of $n$ observations from a population with $\\mathcal{N}(\\mu, \\sigma^{2})$, the sampling distribution of the sample mean is $\\mathcal{N}(\\mu,\\sigma^2/n)$."
      ]
    },
    {
      "cell_type": "code",
      "metadata": {
        "id": "Eqpdb6GzeRLi"
      },
      "source": [
        "n = 100 #sample size\n",
        "s = 1000 #number of experiments\n",
        "mu = 1\n",
        "sd = 2\n",
        "x = np.random.normal(mu,sd,(n,s))"
      ],
      "execution_count": null,
      "outputs": []
    },
    {
      "cell_type": "code",
      "metadata": {
        "id": "I9ASqzWoeunO"
      },
      "source": [
        "#take the sample mean of each experiment \n",
        "sample_means = np.mean(x,axis=0) "
      ],
      "execution_count": null,
      "outputs": []
    },
    {
      "cell_type": "code",
      "metadata": {
        "colab": {
          "base_uri": "https://localhost:8080/",
          "height": 265
        },
        "id": "kIlNreqwe6Lg",
        "outputId": "663f635e-3411-46f0-e32c-c4866579d778"
      },
      "source": [
        "plt.hist(sample_means,bins=30)\n",
        "plt.show()"
      ],
      "execution_count": null,
      "outputs": [
        {
          "output_type": "display_data",
          "data": {
            "image/png": "[encoded data removed]",
            "text/plain": [
              "<Figure size 432x288 with 1 Axes>"
            ]
          },
          "metadata": {
            "needs_background": "light"
          }
        }
      ]
    },
    {
      "cell_type": "code",
      "metadata": {
        "colab": {
          "base_uri": "https://localhost:8080/"
        },
        "id": "B-uaour_eqM-",
        "outputId": "bbde5dbc-684c-402f-9d3e-a4be8e50a51b"
      },
      "source": [
        "#Theoretically the sampling distribution is N(mu,sigma^2/n)\n",
        "print(np.mean(sample_means))\n",
        "print(mu)\n",
        "print(np.var(sample_means))\n",
        "print((sd**2)/n)"
      ],
      "execution_count": null,
      "outputs": [
        {
          "output_type": "stream",
          "name": "stdout",
          "text": [
            "1.0080195094600652\n",
            "1\n",
            "0.038479629345444424\n",
            "0.04\n"
          ]
        }
      ]
    },
    {
      "cell_type": "code",
      "metadata": {
        "colab": {
          "base_uri": "https://localhost:8080/",
          "height": 265
        },
        "id": "sTud-tthgKBS",
        "outputId": "15322c32-ebb1-4992-9214-f159572584cd"
      },
      "source": [
        "#Compare with the theoretical sampling density\n",
        "z = np.arange(min(sample_means),max(sample_means),0.01)\n",
        "norm.pdf(z, mu, np.sqrt((sd**2)/n))\n",
        "fig, ax = plt.subplots(1, 1)\n",
        "ax.plot(z,norm.pdf(z, mu, np.sqrt((sd**2)/n)),lw=5, alpha=0.6, label='Theoretical sampling distribution')\n",
        "ax.hist(sample_means,bins=30,density=True, histtype='stepfilled', alpha=0.8, label='Sampling distribution')\n",
        "ax.legend(loc='upper right')\n",
        "plt.show()"
      ],
      "execution_count": null,
      "outputs": [
        {
          "output_type": "display_data",
          "data": {
            "image/png": "[encoded data removed]",
            "text/plain": [
              "<Figure size 432x288 with 1 Axes>"
            ]
          },
          "metadata": {
            "needs_background": "light"
          }
        }
      ]
    },
    {
      "cell_type": "markdown",
      "metadata": {
        "id": "nAvK-f_SjzhB"
      },
      "source": [
        "# Sampling distribution of the sample variance"
      ]
    },
    {
      "cell_type": "code",
      "metadata": {
        "id": "XK-EdAn4j0mf"
      },
      "source": [
        "n = 20 #sample size\n",
        "s = 1000 #number of experiments\n",
        "mu = 1\n",
        "sd = 2\n",
        "x = np.random.normal(mu,sd,(n,s))"
      ],
      "execution_count": null,
      "outputs": []
    },
    {
      "cell_type": "code",
      "metadata": {
        "id": "FMx4a3ZikGMQ"
      },
      "source": [
        "#take the sample variance of each experiment \n",
        "sample_var = np.var(x,axis=0,ddof=1) "
      ],
      "execution_count": null,
      "outputs": []
    },
    {
      "cell_type": "code",
      "metadata": {
        "colab": {
          "base_uri": "https://localhost:8080/",
          "height": 265
        },
        "id": "F5E-Hlq0kKAE",
        "outputId": "d08b5572-630c-4714-afd5-b6ef6f8aaf06"
      },
      "source": [
        "plt.hist(sample_var,bins=30)\n",
        "plt.show()"
      ],
      "execution_count": null,
      "outputs": [
        {
          "output_type": "display_data",
          "data": {
            "image/png": "[encoded data removed]",
            "text/plain": [
              "<Figure size 432x288 with 1 Axes>"
            ]
          },
          "metadata": {
            "needs_background": "light"
          }
        }
      ]
    },
    {
      "cell_type": "code",
      "metadata": {
        "id": "fbUFrLHdkac-"
      },
      "source": [
        "normalized_sample_var = (n-1)*sample_var/sd**2"
      ],
      "execution_count": null,
      "outputs": []
    },
    {
      "cell_type": "code",
      "metadata": {
        "colab": {
          "base_uri": "https://localhost:8080/",
          "height": 265
        },
        "id": "0d0lGpYUkM44",
        "outputId": "90500935-d467-4ab5-86d4-294f770e0331"
      },
      "source": [
        "#Theoretically the sampling distribution of the sample variance is Chi-squared with n-1 degrees of freedom\n",
        "z = np.arange(np.min(normalized_sample_var),np.max(normalized_sample_var),0.5)\n",
        "fig, ax = plt.subplots(1, 1)\n",
        "ax.plot(z,chi2.pdf(z, n-1),lw=5, alpha=0.6, label='Theoretical sampling distribution')\n",
        "ax.hist(normalized_sample_var,bins=30,density=True, histtype='stepfilled', alpha=0.8, label='Sampling distribution')\n",
        "ax.legend(loc='upper right')\n",
        "plt.show()"
      ],
      "execution_count": null,
      "outputs": [
        {
          "output_type": "display_data",
          "data": {
            "image/png": "[encoded data removed]",
            "text/plain": [
              "<Figure size 432x288 with 1 Axes>"
            ]
          },
          "metadata": {
            "needs_background": "light"
          }
        }
      ]
    },
    {
      "cell_type": "code",
      "metadata": {
        "colab": {
          "base_uri": "https://localhost:8080/"
        },
        "id": "XoyV3SMik9oo",
        "outputId": "e0382892-8376-4a18-83c8-e5f2b517109e"
      },
      "source": [
        "#The mean of the sample variance should be sd^2\n",
        "print(np.mean(sample_var))\n",
        "print(sd**2)"
      ],
      "execution_count": null,
      "outputs": [
        {
          "output_type": "stream",
          "name": "stdout",
          "text": [
            "4.011535962703311\n",
            "4\n"
          ]
        }
      ]
    },
    {
      "cell_type": "code",
      "metadata": {
        "colab": {
          "base_uri": "https://localhost:8080/"
        },
        "id": "RtlHy3aDk-Vx",
        "outputId": "c615ec68-9799-4f3b-f35f-c7f3d420f578"
      },
      "source": [
        "#The variance of the sample variance should be 2*sd^4/(n-1)\n",
        "print(np.var(sample_var))\n",
        "print((2*sd**4)/(n-1))"
      ],
      "execution_count": null,
      "outputs": [
        {
          "output_type": "stream",
          "name": "stdout",
          "text": [
            "1.6320268773988458\n",
            "1.6842105263157894\n"
          ]
        }
      ]
    },
    {
      "cell_type": "markdown",
      "metadata": {
        "id": "I90B9eusnKfk"
      },
      "source": [
        "# Sampling distribution of the standardized mean"
      ]
    },
    {
      "cell_type": "code",
      "metadata": {
        "id": "UBOHVlZQnMEB"
      },
      "source": [
        "n = 6 #sample size\n",
        "s = 10000 #number of experiments\n",
        "mu = 1\n",
        "sd = 2\n",
        "x = np.random.normal(mu,sd,(n,s))"
      ],
      "execution_count": null,
      "outputs": []
    },
    {
      "cell_type": "code",
      "metadata": {
        "id": "ZO0fDmhlngRk"
      },
      "source": [
        "sample_means = np.mean(x,axis=0) \n",
        "sample_var = np.var(x,axis=0,ddof=1) "
      ],
      "execution_count": null,
      "outputs": []
    },
    {
      "cell_type": "code",
      "metadata": {
        "colab": {
          "base_uri": "https://localhost:8080/",
          "height": 269
        },
        "id": "ITdpNLJBnckI",
        "outputId": "cc803cca-0cac-4347-e6f0-853f404820c1"
      },
      "source": [
        "standardized_means = (sample_means-mu)/(np.sqrt(sample_var/n))\n",
        "plt.hist(standardized_means,bins=100,density=True)\n",
        "plt.show()"
      ],
      "execution_count": null,
      "outputs": [
        {
          "output_type": "display_data",
          "data": {
            "image/png": "[encoded data removed]",
            "text/plain": [
              "<Figure size 432x288 with 1 Axes>"
            ]
          },
          "metadata": {
            "needs_background": "light"
          }
        }
      ]
    },
    {
      "cell_type": "markdown",
      "metadata": {
        "id": "mwSrLf2cqvwq"
      },
      "source": [
        "Compare with Student-t distribution with n-1 degrees of freedom."
      ]
    },
    {
      "cell_type": "code",
      "metadata": {
        "colab": {
          "base_uri": "https://localhost:8080/"
        },
        "id": "qIA6nB7Tn3iZ",
        "outputId": "0513416f-4e5e-4028-f193-330c9d608c84"
      },
      "source": [
        "print(np.mean(standardized_means))"
      ],
      "execution_count": null,
      "outputs": [
        {
          "output_type": "stream",
          "name": "stdout",
          "text": [
            "0.009821763604948066\n"
          ]
        }
      ]
    },
    {
      "cell_type": "code",
      "metadata": {
        "colab": {
          "base_uri": "https://localhost:8080/"
        },
        "id": "VbNGuav0n_HA",
        "outputId": "e5366ab8-79b3-4f03-ae24-d44b13545026"
      },
      "source": [
        "print(np.var(standardized_means))\n",
        "print((n-1)/(n-3))"
      ],
      "execution_count": null,
      "outputs": [
        {
          "output_type": "stream",
          "name": "stdout",
          "text": [
            "1.6639905957618761\n",
            "1.6666666666666667\n"
          ]
        }
      ]
    },
    {
      "cell_type": "markdown",
      "metadata": {
        "id": "cnrNxRnFrD9H"
      },
      "source": [
        "# Order statistics"
      ]
    },
    {
      "cell_type": "markdown",
      "metadata": {
        "id": "gBv9Pto7wDFu"
      },
      "source": [
        "## Order statistics for the Uniform distribution"
      ]
    },
    {
      "cell_type": "code",
      "metadata": {
        "id": "FhLtE9Dwsm4j"
      },
      "source": [
        "n = 50\n",
        "s = 10000\n",
        "mu = 0\n",
        "sd = 1\n",
        "x = np.random.uniform(0,1,(n,s))\n",
        "xn = np.max(x,axis=0)"
      ],
      "execution_count": null,
      "outputs": []
    },
    {
      "cell_type": "code",
      "metadata": {
        "colab": {
          "base_uri": "https://localhost:8080/",
          "height": 265
        },
        "id": "XM78OtmasRuC",
        "outputId": "674b7cff-ff1d-4682-f0fd-0923bb9e95bc"
      },
      "source": [
        "plt.hist(xn,bins=30)\n",
        "plt.show()"
      ],
      "execution_count": null,
      "outputs": [
        {
          "output_type": "display_data",
          "data": {
            "image/png": "[encoded data removed]",
            "text/plain": [
              "<Figure size 432x288 with 1 Axes>"
            ]
          },
          "metadata": {
            "needs_background": "light"
          }
        }
      ]
    },
    {
      "cell_type": "code",
      "metadata": {
        "id": "48f6v7oit16O"
      },
      "source": [
        "#Compare with the theoretical pdf of largest order statistics\n",
        "z = np.linspace(min(xn),max(xn),num = 200)\n",
        "fx = n*(uniform.cdf(z,0,1)**(n-1))*uniform.pdf(z,0,1)"
      ],
      "execution_count": null,
      "outputs": []
    },
    {
      "cell_type": "code",
      "metadata": {
        "colab": {
          "base_uri": "https://localhost:8080/",
          "height": 265
        },
        "id": "YFDPNht-uBQt",
        "outputId": "fc62e12b-d095-4c99-a1c8-b6f223693ce5"
      },
      "source": [
        "fig, ax = plt.subplots(1, 1)\n",
        "ax.plot(z,fx,lw=5, alpha=0.6, label='Theoretical sampling distribution')\n",
        "ax.hist(xn,bins=30,density=True, histtype='stepfilled', alpha=0.8, label='Sampling distribution')\n",
        "ax.legend(loc='upper right')\n",
        "plt.show()"
      ],
      "execution_count": null,
      "outputs": [
        {
          "output_type": "display_data",
          "data": {
            "image/png": "[encoded data removed]",
            "text/plain": [
              "<Figure size 432x288 with 1 Axes>"
            ]
          },
          "metadata": {
            "needs_background": "light"
          }
        }
      ]
    },
    {
      "cell_type": "markdown",
      "metadata": {
        "id": "lms3iuP8wIMC"
      },
      "source": [
        "## Plot mean of largest order statistics as a function of sample size. Uniform distribution."
      ]
    },
    {
      "cell_type": "code",
      "metadata": {
        "id": "FXuGn2okuD_m"
      },
      "source": [
        "def mean_largest_uniform(n):\n",
        "  s = 10000\n",
        "  mu = 0\n",
        "  sd = 1\n",
        "  x = np.random.uniform(0,1,(n,s))\n",
        "  xn = np.max(x,axis=0)\n",
        "  return np.mean(xn)"
      ],
      "execution_count": null,
      "outputs": []
    },
    {
      "cell_type": "code",
      "metadata": {
        "id": "GRc9DLfKu6cd"
      },
      "source": [
        "x_range = np.arange(20,75,1)\n",
        "y = [mean_largest_uniform(n) for n in x_range]"
      ],
      "execution_count": null,
      "outputs": []
    },
    {
      "cell_type": "code",
      "metadata": {
        "colab": {
          "base_uri": "https://localhost:8080/",
          "height": 282
        },
        "id": "74EU1Q8Iudyk",
        "outputId": "a2e5e7e5-9a9c-4268-c5fb-516f9791ed97"
      },
      "source": [
        "plt.plot(x_range,y)"
      ],
      "execution_count": null,
      "outputs": [
        {
          "output_type": "execute_result",
          "data": {
            "text/plain": [
              "[<matplotlib.lines.Line2D at 0x7fddf08edd90>]"
            ]
          },
          "metadata": {},
          "execution_count": 25
        },
        {
          "output_type": "display_data",
          "data": {
            "image/png": "[encoded data removed]",
            "text/plain": [
              "<Figure size 432x288 with 1 Axes>"
            ]
          },
          "metadata": {
            "needs_background": "light"
          }
        }
      ]
    },
    {
      "cell_type": "markdown",
      "metadata": {
        "id": "a_-qujBLw4vz"
      },
      "source": [
        "## Plot mean of largest order statistics as a function of sample size. Normal distribution."
      ]
    },
    {
      "cell_type": "code",
      "metadata": {
        "id": "DsxBZjY7urXd"
      },
      "source": [
        "def mean_largest_normal(n):\n",
        "  s = 10000\n",
        "  mu = 0\n",
        "  sd = 1\n",
        "  x = np.random.normal(mu,sd,(n,s))\n",
        "  xn = np.max(x,axis=0)\n",
        "  return np.mean(xn)"
      ],
      "execution_count": null,
      "outputs": []
    },
    {
      "cell_type": "code",
      "metadata": {
        "id": "O3mg_JCLvKXB"
      },
      "source": [
        "x_range = np.arange(50,500,5)\n",
        "y = [mean_largest_normal(n) for n in x_range]"
      ],
      "execution_count": null,
      "outputs": []
    },
    {
      "cell_type": "code",
      "metadata": {
        "colab": {
          "base_uri": "https://localhost:8080/",
          "height": 282
        },
        "id": "1XV_Bok8vNXQ",
        "outputId": "f88a55d5-fa2e-4ae2-9c3d-219bcfe75166"
      },
      "source": [
        "plt.plot(x_range,y)"
      ],
      "execution_count": null,
      "outputs": [
        {
          "output_type": "execute_result",
          "data": {
            "text/plain": [
              "[<matplotlib.lines.Line2D at 0x7fddf056b210>]"
            ]
          },
          "metadata": {},
          "execution_count": 28
        },
        {
          "output_type": "display_data",
          "data": {
            "image/png": "[encoded data removed]",
            "text/plain": [
              "<Figure size 432x288 with 1 Axes>"
            ]
          },
          "metadata": {
            "needs_background": "light"
          }
        }
      ]
    },
    {
      "cell_type": "code",
      "metadata": {
        "id": "Sm0_0ZKPrFHM"
      },
      "source": [
        "n = 100\n",
        "s = 10000\n",
        "mu = 0\n",
        "sd = 1\n",
        "x = np.random.normal(0,1,(n,s))\n",
        "xn = np.max(x,axis=0)"
      ],
      "execution_count": null,
      "outputs": []
    },
    {
      "cell_type": "code",
      "metadata": {
        "colab": {
          "base_uri": "https://localhost:8080/",
          "height": 265
        },
        "id": "__2oYBxBrbBV",
        "outputId": "40f84e33-6e7d-49f8-a006-2ba562ba4527"
      },
      "source": [
        "plt.hist(xn,bins=30)\n",
        "plt.show()"
      ],
      "execution_count": null,
      "outputs": [
        {
          "output_type": "display_data",
          "data": {
            "image/png": "[encoded data removed]",
            "text/plain": [
              "<Figure size 432x288 with 1 Axes>"
            ]
          },
          "metadata": {
            "needs_background": "light"
          }
        }
      ]
    },
    {
      "cell_type": "code",
      "metadata": {
        "id": "LnQMcCt1rbkD"
      },
      "source": [
        "#Compare with the theoretical pdf of largest order statistics\n",
        "z = np.linspace(min(xn),max(xn),num = 200)\n",
        "fx = n*(norm.cdf(z,mu,sd)**(n-1))*norm.pdf(z,mu,sd)"
      ],
      "execution_count": null,
      "outputs": []
    },
    {
      "cell_type": "code",
      "metadata": {
        "colab": {
          "base_uri": "https://localhost:8080/",
          "height": 265
        },
        "id": "7EdTTWeksFaQ",
        "outputId": "6b4243c8-c07d-41a3-c039-a48ac42e5394"
      },
      "source": [
        "fig, ax = plt.subplots(1, 1)\n",
        "ax.plot(z,fx,lw=5, alpha=0.6, label='Theoretical sampling distribution')\n",
        "ax.hist(xn,bins=30,density=True, histtype='stepfilled', alpha=0.8, label='Sampling distribution')\n",
        "ax.legend(loc='upper right')\n",
        "plt.show()"
      ],
      "execution_count": null,
      "outputs": [
        {
          "output_type": "display_data",
          "data": {
            "image/png": "[encoded data removed]",
            "text/plain": [
              "<Figure size 432x288 with 1 Axes>"
            ]
          },
          "metadata": {
            "needs_background": "light"
          }
        }
      ]
    }
  ]
}