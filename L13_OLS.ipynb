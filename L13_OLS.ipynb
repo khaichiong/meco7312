{
  "nbformat": 4,
  "nbformat_minor": 0,
  "metadata": {
    "colab": {
      "name": "L13_OLS.ipynb",
      "provenance": [],
      "authorship_tag": "ABX9TyMwzACwteQfL2hucGJE0LLE",
      "include_colab_link": true
    },
    "kernelspec": {
      "name": "python3",
      "display_name": "Python 3"
    },
    "language_info": {
      "name": "python"
    }
  },
  "cells": [
    {
      "cell_type": "markdown",
      "metadata": {
        "id": "view-in-github",
        "colab_type": "text"
      },
      "source": [
        "<a href=\"https://colab.research.google.com/github/khaichiong/meco7312/blob/master/L13_OLS.ipynb\" target=\"_parent\"><img src=\"https://colab.research.google.com/assets/colab-badge.svg\" alt=\"Open In Colab\"/></a>"
      ]
    },
    {
      "cell_type": "code",
      "metadata": {
        "id": "IxZnbdOs5xFS"
      },
      "source": [
        "import numpy as np\n",
        "import pandas as pd\n",
        "import os\n",
        "import matplotlib.pyplot as plt\n",
        "import statsmodels.formula.api as sm\n",
        "from numpy.linalg import inv"
      ],
      "execution_count": 1,
      "outputs": []
    },
    {
      "cell_type": "markdown",
      "metadata": {
        "id": "Ucp5PC7a7oo0"
      },
      "source": [
        "## Generate data\n",
        "\n",
        "Generate data according to the linear model $Y = 2 - 3X_{1} + 0.5X_{2} + \\epsilon$"
      ]
    },
    {
      "cell_type": "code",
      "metadata": {
        "id": "TBd2rpp-7pDF"
      },
      "source": [
        "n = 1000 #sample size, number of observations\n",
        "e = np.random.normal(0,np.sqrt(2),(n,1)) #error term\n",
        "x1 = np.random.exponential(2,(n,1))\n",
        "x2 = np.random.normal(-1,1,(n,1))\n",
        "y = 2 - 3*x1 + 0.5*x2 + e"
      ],
      "execution_count": 3,
      "outputs": []
    },
    {
      "cell_type": "markdown",
      "metadata": {
        "id": "dnmRh5K78YC9"
      },
      "source": [
        "Stack data in a data matrix, and create pandas dataframe object"
      ]
    },
    {
      "cell_type": "code",
      "metadata": {
        "id": "In9vDk1q8MhO"
      },
      "source": [
        "X = np.concatenate((np.ones((n,1)),x1,x2),axis=1)\n",
        "df = pd.DataFrame(np.concatenate((y,X),axis=1),columns=['Spending', 'Intercept', 'Age','Income'])"
      ],
      "execution_count": 4,
      "outputs": []
    },
    {
      "cell_type": "code",
      "metadata": {
        "colab": {
          "base_uri": "https://localhost:8080/",
          "height": 206
        },
        "id": "OsyEpKtM8jTY",
        "outputId": "88de64ec-09a4-4195-cd86-eadaa572586a"
      },
      "source": [
        "df.head()"
      ],
      "execution_count": 5,
      "outputs": [
        {
          "output_type": "execute_result",
          "data": {
            "text/plain": [
              "    Spending  Intercept       Age    Income\n",
              "0   0.687042        1.0  0.848337 -0.570346\n",
              "1  -1.787827        1.0  0.925578 -0.727972\n",
              "2   0.499758        1.0  0.690084 -1.375119\n",
              "3 -15.477492        1.0  5.355435 -2.137626\n",
              "4  -8.200758        1.0  2.963194 -2.908071"
            ],
            "text/html": [
              "\n",
              "  <div id=\"df-7e0aa74a-10bb-4d5e-94f2-d03febfe73e9\" class=\"colab-df-container\">\n",
              "    <div>\n",
              "<style scoped>\n",
              "    .dataframe tbody tr th:only-of-type {\n",
              "        vertical-align: middle;\n",
              "    }\n",
              "\n",
              "    .dataframe tbody tr th {\n",
              "        vertical-align: top;\n",
              "    }\n",
              "\n",
              "    .dataframe thead th {\n",
              "        text-align: right;\n",
              "    }\n",
              "</style>\n",
              "<table border=\"1\" class=\"dataframe\">\n",
              "  <thead>\n",
              "    <tr style=\"text-align: right;\">\n",
              "      <th></th>\n",
              "      <th>Spending</th>\n",
              "      <th>Intercept</th>\n",
              "      <th>Age</th>\n",
              "      <th>Income</th>\n",
              "    </tr>\n",
              "  </thead>\n",
              "  <tbody>\n",
              "    <tr>\n",
              "      <th>0</th>\n",
              "      <td>0.687042</td>\n",
              "      <td>1.0</td>\n",
              "      <td>0.848337</td>\n",
              "      <td>-0.570346</td>\n",
              "    </tr>\n",
              "    <tr>\n",
              "      <th>1</th>\n",
              "      <td>-1.787827</td>\n",
              "      <td>1.0</td>\n",
              "      <td>0.925578</td>\n",
              "      <td>-0.727972</td>\n",
              "    </tr>\n",
              "    <tr>\n",
              "      <th>2</th>\n",
              "      <td>0.499758</td>\n",
              "      <td>1.0</td>\n",
              "      <td>0.690084</td>\n",
              "      <td>-1.375119</td>\n",
              "    </tr>\n",
              "    <tr>\n",
              "      <th>3</th>\n",
              "      <td>-15.477492</td>\n",
              "      <td>1.0</td>\n",
              "      <td>5.355435</td>\n",
              "      <td>-2.137626</td>\n",
              "    </tr>\n",
              "    <tr>\n",
              "      <th>4</th>\n",
              "      <td>-8.200758</td>\n",
              "      <td>1.0</td>\n",
              "      <td>2.963194</td>\n",
              "      <td>-2.908071</td>\n",
              "    </tr>\n",
              "  </tbody>\n",
              "</table>\n",
              "</div>\n",
              "    <div class=\"colab-df-buttons\">\n",
              "\n",
              "  <div class=\"colab-df-container\">\n",
              "    <button class=\"colab-df-convert\" onclick=\"convertToInteractive('df-7e0aa74a-10bb-4d5e-94f2-d03febfe73e9')\"\n",
              "            title=\"Convert this dataframe to an interactive table.\"\n",
              "            style=\"display:none;\">\n",
              "\n",
              "  <svg xmlns=\"http://www.w3.org/2000/svg\" height=\"24px\" viewBox=\"0 -960 960 960\">\n",
              "    <path d=\"M120-120v-720h720v720H120Zm60-500h600v-160H180v160Zm220 220h160v-160H400v160Zm0 220h160v-160H400v160ZM180-400h160v-160H180v160Zm440 0h160v-160H620v160ZM180-180h160v-160H180v160Zm440 0h160v-160H620v160Z\"/>\n",
              "  </svg>\n",
              "    </button>\n",
              "\n",
              "  <style>\n",
              "    .colab-df-container {\n",
              "      display:flex;\n",
              "      gap: 12px;\n",
              "    }\n",
              "\n",
              "    .colab-df-convert {\n",
              "      background-color: #E8F0FE;\n",
              "      border: none;\n",
              "      border-radius: 50%;\n",
              "      cursor: pointer;\n",
              "      display: none;\n",
              "      fill: #1967D2;\n",
              "      height: 32px;\n",
              "      padding: 0 0 0 0;\n",
              "      width: 32px;\n",
              "    }\n",
              "\n",
              "    .colab-df-convert:hover {\n",
              "      background-color: #E2EBFA;\n",
              "      box-shadow: 0px 1px 2px rgba(60, 64, 67, 0.3), 0px 1px 3px 1px rgba(60, 64, 67, 0.15);\n",
              "      fill: #174EA6;\n",
              "    }\n",
              "\n",
              "    .colab-df-buttons div {\n",
              "      margin-bottom: 4px;\n",
              "    }\n",
              "\n",
              "    [theme=dark] .colab-df-convert {\n",
              "      background-color: #3B4455;\n",
              "      fill: #D2E3FC;\n",
              "    }\n",
              "\n",
              "    [theme=dark] .colab-df-convert:hover {\n",
              "      background-color: #434B5C;\n",
              "      box-shadow: 0px 1px 3px 1px rgba(0, 0, 0, 0.15);\n",
              "      filter: drop-shadow(0px 1px 2px rgba(0, 0, 0, 0.3));\n",
              "      fill: #FFFFFF;\n",
              "    }\n",
              "  </style>\n",
              "\n",
              "    <script>\n",
              "      const buttonEl =\n",
              "        document.querySelector('#df-7e0aa74a-10bb-4d5e-94f2-d03febfe73e9 button.colab-df-convert');\n",
              "      buttonEl.style.display =\n",
              "        google.colab.kernel.accessAllowed ? 'block' : 'none';\n",
              "\n",
              "      async function convertToInteractive(key) {\n",
              "        const element = document.querySelector('#df-7e0aa74a-10bb-4d5e-94f2-d03febfe73e9');\n",
              "        const dataTable =\n",
              "          await google.colab.kernel.invokeFunction('convertToInteractive',\n",
              "                                                    [key], {});\n",
              "        if (!dataTable) return;\n",
              "\n",
              "        const docLinkHtml = 'Like what you see? Visit the ' +\n",
              "          '<a target=\"_blank\" href=https://colab.research.google.com/notebooks/data_table.ipynb>data table notebook</a>'\n",
              "          + ' to learn more about interactive tables.';\n",
              "        element.innerHTML = '';\n",
              "        dataTable['output_type'] = 'display_data';\n",
              "        await google.colab.output.renderOutput(dataTable, element);\n",
              "        const docLink = document.createElement('div');\n",
              "        docLink.innerHTML = docLinkHtml;\n",
              "        element.appendChild(docLink);\n",
              "      }\n",
              "    </script>\n",
              "  </div>\n",
              "\n",
              "\n",
              "<div id=\"df-08be4d98-1398-419b-92a2-3280dc91da2e\">\n",
              "  <button class=\"colab-df-quickchart\" onclick=\"quickchart('df-08be4d98-1398-419b-92a2-3280dc91da2e')\"\n",
              "            title=\"Suggest charts\"\n",
              "            style=\"display:none;\">\n",
              "\n",
              "<svg xmlns=\"http://www.w3.org/2000/svg\" height=\"24px\"viewBox=\"0 0 24 24\"\n",
              "     width=\"24px\">\n",
              "    <g>\n",
              "        <path d=\"M19 3H5c-1.1 0-2 .9-2 2v14c0 1.1.9 2 2 2h14c1.1 0 2-.9 2-2V5c0-1.1-.9-2-2-2zM9 17H7v-7h2v7zm4 0h-2V7h2v10zm4 0h-2v-4h2v4z\"/>\n",
              "    </g>\n",
              "</svg>\n",
              "  </button>\n",
              "\n",
              "<style>\n",
              "  .colab-df-quickchart {\n",
              "      --bg-color: #E8F0FE;\n",
              "      --fill-color: #1967D2;\n",
              "      --hover-bg-color: #E2EBFA;\n",
              "      --hover-fill-color: #174EA6;\n",
              "      --disabled-fill-color: #AAA;\n",
              "      --disabled-bg-color: #DDD;\n",
              "  }\n",
              "\n",
              "  [theme=dark] .colab-df-quickchart {\n",
              "      --bg-color: #3B4455;\n",
              "      --fill-color: #D2E3FC;\n",
              "      --hover-bg-color: #434B5C;\n",
              "      --hover-fill-color: #FFFFFF;\n",
              "      --disabled-bg-color: #3B4455;\n",
              "      --disabled-fill-color: #666;\n",
              "  }\n",
              "\n",
              "  .colab-df-quickchart {\n",
              "    background-color: var(--bg-color);\n",
              "    border: none;\n",
              "    border-radius: 50%;\n",
              "    cursor: pointer;\n",
              "    display: none;\n",
              "    fill: var(--fill-color);\n",
              "    height: 32px;\n",
              "    padding: 0;\n",
              "    width: 32px;\n",
              "  }\n",
              "\n",
              "  .colab-df-quickchart:hover {\n",
              "    background-color: var(--hover-bg-color);\n",
              "    box-shadow: 0 1px 2px rgba(60, 64, 67, 0.3), 0 1px 3px 1px rgba(60, 64, 67, 0.15);\n",
              "    fill: var(--button-hover-fill-color);\n",
              "  }\n",
              "\n",
              "  .colab-df-quickchart-complete:disabled,\n",
              "  .colab-df-quickchart-complete:disabled:hover {\n",
              "    background-color: var(--disabled-bg-color);\n",
              "    fill: var(--disabled-fill-color);\n",
              "    box-shadow: none;\n",
              "  }\n",
              "\n",
              "  .colab-df-spinner {\n",
              "    border: 2px solid var(--fill-color);\n",
              "    border-color: transparent;\n",
              "    border-bottom-color: var(--fill-color);\n",
              "    animation:\n",
              "      spin 1s steps(1) infinite;\n",
              "  }\n",
              "\n",
              "  @keyframes spin {\n",
              "    0% {\n",
              "      border-color: transparent;\n",
              "      border-bottom-color: var(--fill-color);\n",
              "      border-left-color: var(--fill-color);\n",
              "    }\n",
              "    20% {\n",
              "      border-color: transparent;\n",
              "      border-left-color: var(--fill-color);\n",
              "      border-top-color: var(--fill-color);\n",
              "    }\n",
              "    30% {\n",
              "      border-color: transparent;\n",
              "      border-left-color: var(--fill-color);\n",
              "      border-top-color: var(--fill-color);\n",
              "      border-right-color: var(--fill-color);\n",
              "    }\n",
              "    40% {\n",
              "      border-color: transparent;\n",
              "      border-right-color: var(--fill-color);\n",
              "      border-top-color: var(--fill-color);\n",
              "    }\n",
              "    60% {\n",
              "      border-color: transparent;\n",
              "      border-right-color: var(--fill-color);\n",
              "    }\n",
              "    80% {\n",
              "      border-color: transparent;\n",
              "      border-right-color: var(--fill-color);\n",
              "      border-bottom-color: var(--fill-color);\n",
              "    }\n",
              "    90% {\n",
              "      border-color: transparent;\n",
              "      border-bottom-color: var(--fill-color);\n",
              "    }\n",
              "  }\n",
              "</style>\n",
              "\n",
              "  <script>\n",
              "    async function quickchart(key) {\n",
              "      const quickchartButtonEl =\n",
              "        document.querySelector('#' + key + ' button');\n",
              "      quickchartButtonEl.disabled = true;  // To prevent multiple clicks.\n",
              "      quickchartButtonEl.classList.add('colab-df-spinner');\n",
              "      try {\n",
              "        const charts = await google.colab.kernel.invokeFunction(\n",
              "            'suggestCharts', [key], {});\n",
              "      } catch (error) {\n",
              "        console.error('Error during call to suggestCharts:', error);\n",
              "      }\n",
              "      quickchartButtonEl.classList.remove('colab-df-spinner');\n",
              "      quickchartButtonEl.classList.add('colab-df-quickchart-complete');\n",
              "    }\n",
              "    (() => {\n",
              "      let quickchartButtonEl =\n",
              "        document.querySelector('#df-08be4d98-1398-419b-92a2-3280dc91da2e button');\n",
              "      quickchartButtonEl.style.display =\n",
              "        google.colab.kernel.accessAllowed ? 'block' : 'none';\n",
              "    })();\n",
              "  </script>\n",
              "</div>\n",
              "\n",
              "    </div>\n",
              "  </div>\n"
            ],
            "application/vnd.google.colaboratory.intrinsic+json": {
              "type": "dataframe",
              "variable_name": "df",
              "summary": "{\n  \"name\": \"df\",\n  \"rows\": 1000,\n  \"fields\": [\n    {\n      \"column\": \"Spending\",\n      \"properties\": {\n        \"dtype\": \"number\",\n        \"std\": 6.15164741763204,\n        \"min\": -48.298369732393695,\n        \"max\": 4.638792138294402,\n        \"num_unique_values\": 1000,\n        \"samples\": [\n          -10.066679954822579,\n          -20.582355674542107,\n          -7.215431609281816\n        ],\n        \"semantic_type\": \"\",\n        \"description\": \"\"\n      }\n    },\n    {\n      \"column\": \"Intercept\",\n      \"properties\": {\n        \"dtype\": \"number\",\n        \"std\": 0.0,\n        \"min\": 1.0,\n        \"max\": 1.0,\n        \"num_unique_values\": 1,\n        \"samples\": [\n          1.0\n        ],\n        \"semantic_type\": \"\",\n        \"description\": \"\"\n      }\n    },\n    {\n      \"column\": \"Age\",\n      \"properties\": {\n        \"dtype\": \"number\",\n        \"std\": 2.009359741160681,\n        \"min\": 0.0003223670138316363,\n        \"max\": 16.807602879622483,\n        \"num_unique_values\": 1000,\n        \"samples\": [\n          3.670553059402055\n        ],\n        \"semantic_type\": \"\",\n        \"description\": \"\"\n      }\n    },\n    {\n      \"column\": \"Income\",\n      \"properties\": {\n        \"dtype\": \"number\",\n        \"std\": 0.9987720434322399,\n        \"min\": -4.219996063572007,\n        \"max\": 2.095088301824916,\n        \"num_unique_values\": 1000,\n        \"samples\": [\n          -0.6862339176222298\n        ],\n        \"semantic_type\": \"\",\n        \"description\": \"\"\n      }\n    }\n  ]\n}"
            }
          },
          "metadata": {},
          "execution_count": 5
        }
      ]
    },
    {
      "cell_type": "markdown",
      "metadata": {
        "id": "8wpgsP8w-z1O"
      },
      "source": [
        "## OLS estimator\n",
        "\n",
        "$\\beta = (X'X)^{-1}X^{T}y$"
      ]
    },
    {
      "cell_type": "code",
      "metadata": {
        "colab": {
          "base_uri": "https://localhost:8080/"
        },
        "id": "gWP_fk36-c_T",
        "outputId": "c6d190d7-da9a-4b4d-e1cd-d3bde19cdc28"
      },
      "source": [
        "b = np.matmul(np.matmul(inv(np.matmul(np.transpose(X),X)),np.transpose(X)),y)\n",
        "print(b)"
      ],
      "execution_count": 6,
      "outputs": [
        {
          "output_type": "stream",
          "name": "stdout",
          "text": [
            "[[ 2.01760072]\n",
            " [-2.98040451]\n",
            " [ 0.52837441]]\n"
          ]
        }
      ]
    },
    {
      "cell_type": "code",
      "source": [
        "inv((X.T)@X)@(X.T)@y"
      ],
      "metadata": {
        "colab": {
          "base_uri": "https://localhost:8080/"
        },
        "id": "dIpxWpuKPorD",
        "outputId": "988ab5f3-553d-469e-9e23-a75534f900bd"
      },
      "execution_count": 7,
      "outputs": [
        {
          "output_type": "execute_result",
          "data": {
            "text/plain": [
              "array([[ 2.01760072],\n",
              "       [-2.98040451],\n",
              "       [ 0.52837441]])"
            ]
          },
          "metadata": {},
          "execution_count": 7
        }
      ]
    },
    {
      "cell_type": "code",
      "metadata": {
        "id": "-7ZOHZpuyWZs",
        "colab": {
          "base_uri": "https://localhost:8080/"
        },
        "outputId": "92fc5058-3478-42d9-8836-6ff05eb04109"
      },
      "source": [
        "X=np.asmatrix(X)\n",
        "y=np.asmatrix(y)\n",
        "((((X.T)*X).I)*X.T)*y"
      ],
      "execution_count": 8,
      "outputs": [
        {
          "output_type": "execute_result",
          "data": {
            "text/plain": [
              "matrix([[ 2.01760072],\n",
              "        [-2.98040451],\n",
              "        [ 0.52837441]])"
            ]
          },
          "metadata": {},
          "execution_count": 8
        }
      ]
    },
    {
      "cell_type": "markdown",
      "metadata": {
        "id": "3G-6zfu1_8ps"
      },
      "source": [
        "Compare with estimates from OLS package"
      ]
    },
    {
      "cell_type": "code",
      "metadata": {
        "id": "d2MdQ0PF-5Kw"
      },
      "source": [
        "result = sm.ols('Spending ~ Age + Income',data=df).fit()"
      ],
      "execution_count": 9,
      "outputs": []
    },
    {
      "cell_type": "code",
      "metadata": {
        "colab": {
          "base_uri": "https://localhost:8080/"
        },
        "id": "Qjjk_EsCARAw",
        "outputId": "45e5b218-0eee-409f-a1c7-c132a5211875"
      },
      "source": [
        "print(result.summary())"
      ],
      "execution_count": 10,
      "outputs": [
        {
          "output_type": "stream",
          "name": "stdout",
          "text": [
            "                            OLS Regression Results                            \n",
            "==============================================================================\n",
            "Dep. Variable:               Spending   R-squared:                       0.950\n",
            "Model:                            OLS   Adj. R-squared:                  0.950\n",
            "Method:                 Least Squares   F-statistic:                     9400.\n",
            "Date:                Wed, 20 Nov 2024   Prob (F-statistic):               0.00\n",
            "Time:                        07:11:54   Log-Likelihood:                -1740.9\n",
            "No. Observations:                1000   AIC:                             3488.\n",
            "Df Residuals:                     997   BIC:                             3502.\n",
            "Df Model:                           2                                         \n",
            "Covariance Type:            nonrobust                                         \n",
            "==============================================================================\n",
            "                 coef    std err          t      P>|t|      [0.025      0.975]\n",
            "------------------------------------------------------------------------------\n",
            "Intercept      2.0176      0.078     25.945      0.000       1.865       2.170\n",
            "Age           -2.9804      0.022   -136.904      0.000      -3.023      -2.938\n",
            "Income         0.5284      0.044     12.064      0.000       0.442       0.614\n",
            "==============================================================================\n",
            "Omnibus:                        1.303   Durbin-Watson:                   1.914\n",
            "Prob(Omnibus):                  0.521   Jarque-Bera (JB):                1.289\n",
            "Skew:                          -0.007   Prob(JB):                        0.525\n",
            "Kurtosis:                       2.825   Cond. No.                         5.84\n",
            "==============================================================================\n",
            "\n",
            "Notes:\n",
            "[1] Standard Errors assume that the covariance matrix of the errors is correctly specified.\n"
          ]
        }
      ]
    },
    {
      "cell_type": "markdown",
      "source": [
        "# Exogeneity condition does not hold\n",
        "\n",
        "\n",
        "Generate data according to the linear model $Y = 2 - 3X_{1} + 0.5X_{2} + \\epsilon$, but $X_{1}$ and $\\epsilon$ are correlated. Hence, $E[\\epsilon|X_{1}] \\neq 0$"
      ],
      "metadata": {
        "id": "wwb23csca-BR"
      }
    },
    {
      "cell_type": "code",
      "source": [
        "n = 1000 #sample size, number of observations\n",
        "\n",
        "#e and x1 are correlated from a multivariate normal\n",
        "samples = np.random.multivariate_normal([0, -2], [[1, 0.5], [0.5, 1]], n)\n",
        "e = samples[:, 0].reshape(-1,1)  # First column as 'e'\n",
        "x1 = samples[:, 1].reshape(-1,1) # Second column as 'x1'\n",
        "x2 = np.random.exponential(2,(n,1))\n",
        "y = 2 - 3*x1 + 0.5*x2 + e"
      ],
      "metadata": {
        "id": "r5M6E4Bta9ep"
      },
      "execution_count": 74,
      "outputs": []
    },
    {
      "cell_type": "code",
      "source": [
        "X = np.concatenate((np.ones((n,1)),x1,x2),axis=1)\n",
        "df = pd.DataFrame(np.concatenate((y,X),axis=1),columns=['Spending', 'Intercept', 'Age','Income'])"
      ],
      "metadata": {
        "id": "LbtMJH1JcIih"
      },
      "execution_count": 75,
      "outputs": []
    },
    {
      "cell_type": "code",
      "source": [
        "inv((X.T)@X)@(X.T)@y"
      ],
      "metadata": {
        "id": "oRukoASZcJXM",
        "outputId": "c82b4d58-63b1-4909-8b94-1dc59449f216",
        "colab": {
          "base_uri": "https://localhost:8080/"
        }
      },
      "execution_count": 76,
      "outputs": [
        {
          "output_type": "execute_result",
          "data": {
            "text/plain": [
              "array([[ 2.90807443],\n",
              "       [-2.52989792],\n",
              "       [ 0.5245614 ]])"
            ]
          },
          "metadata": {},
          "execution_count": 76
        }
      ]
    },
    {
      "cell_type": "markdown",
      "source": [
        "Here we say that $X_1$ is endogenous, and we see that the OLS estimator of $\\beta_{2}$ is biased. When $\\epsilon$ and $X_{1}$ are negatively correlated, then we underestimate $\\beta_{2}$, but if they are positively correlated, then we overestimate $\\beta_{2}$. The OLS estimator for $\\beta_{3}$ appears to be unbiased and unaffected."
      ],
      "metadata": {
        "id": "UeEUVPSodRfG"
      }
    },
    {
      "cell_type": "markdown",
      "metadata": {
        "id": "W_utsVNpcYpw"
      },
      "source": [
        "Compare with estimates from OLS package"
      ]
    },
    {
      "cell_type": "code",
      "source": [
        "sm.ols('Spending ~ Age + Income',data=df).fit().summary()"
      ],
      "metadata": {
        "id": "HPtiGvyHcaQC",
        "outputId": "72891738-2f2a-445c-f227-07639ec52704",
        "colab": {
          "base_uri": "https://localhost:8080/",
          "height": 473
        }
      },
      "execution_count": 34,
      "outputs": [
        {
          "output_type": "execute_result",
          "data": {
            "text/plain": [
              "<class 'statsmodels.iolib.summary.Summary'>\n",
              "\"\"\"\n",
              "                            OLS Regression Results                            \n",
              "==============================================================================\n",
              "Dep. Variable:               Spending   R-squared:                       0.944\n",
              "Model:                            OLS   Adj. R-squared:                  0.943\n",
              "Method:                 Least Squares   F-statistic:                     8329.\n",
              "Date:                Wed, 20 Nov 2024   Prob (F-statistic):               0.00\n",
              "Time:                        07:27:37   Log-Likelihood:                -1310.8\n",
              "No. Observations:                1000   AIC:                             2628.\n",
              "Df Residuals:                     997   BIC:                             2642.\n",
              "Df Model:                           2                                         \n",
              "Covariance Type:            nonrobust                                         \n",
              "==============================================================================\n",
              "                 coef    std err          t      P>|t|      [0.025      0.975]\n",
              "------------------------------------------------------------------------------\n",
              "Intercept      0.9618      0.069     13.888      0.000       0.826       1.098\n",
              "Age           -3.4959      0.028   -123.793      0.000      -3.551      -3.441\n",
              "Income         0.5090      0.014     36.478      0.000       0.482       0.536\n",
              "==============================================================================\n",
              "Omnibus:                        3.489   Durbin-Watson:                   2.044\n",
              "Prob(Omnibus):                  0.175   Jarque-Bera (JB):                3.809\n",
              "Skew:                          -0.050   Prob(JB):                        0.149\n",
              "Kurtosis:                       3.285   Cond. No.                         8.89\n",
              "==============================================================================\n",
              "\n",
              "Notes:\n",
              "[1] Standard Errors assume that the covariance matrix of the errors is correctly specified.\n",
              "\"\"\""
            ],
            "text/html": [
              "<table class=\"simpletable\">\n",
              "<caption>OLS Regression Results</caption>\n",
              "<tr>\n",
              "  <th>Dep. Variable:</th>        <td>Spending</td>     <th>  R-squared:         </th> <td>   0.944</td>\n",
              "</tr>\n",
              "<tr>\n",
              "  <th>Model:</th>                   <td>OLS</td>       <th>  Adj. R-squared:    </th> <td>   0.943</td>\n",
              "</tr>\n",
              "<tr>\n",
              "  <th>Method:</th>             <td>Least Squares</td>  <th>  F-statistic:       </th> <td>   8329.</td>\n",
              "</tr>\n",
              "<tr>\n",
              "  <th>Date:</th>             <td>Wed, 20 Nov 2024</td> <th>  Prob (F-statistic):</th>  <td>  0.00</td> \n",
              "</tr>\n",
              "<tr>\n",
              "  <th>Time:</th>                 <td>07:27:37</td>     <th>  Log-Likelihood:    </th> <td> -1310.8</td>\n",
              "</tr>\n",
              "<tr>\n",
              "  <th>No. Observations:</th>      <td>  1000</td>      <th>  AIC:               </th> <td>   2628.</td>\n",
              "</tr>\n",
              "<tr>\n",
              "  <th>Df Residuals:</th>          <td>   997</td>      <th>  BIC:               </th> <td>   2642.</td>\n",
              "</tr>\n",
              "<tr>\n",
              "  <th>Df Model:</th>              <td>     2</td>      <th>                     </th>     <td> </td>   \n",
              "</tr>\n",
              "<tr>\n",
              "  <th>Covariance Type:</th>      <td>nonrobust</td>    <th>                     </th>     <td> </td>   \n",
              "</tr>\n",
              "</table>\n",
              "<table class=\"simpletable\">\n",
              "<tr>\n",
              "      <td></td>         <th>coef</th>     <th>std err</th>      <th>t</th>      <th>P>|t|</th>  <th>[0.025</th>    <th>0.975]</th>  \n",
              "</tr>\n",
              "<tr>\n",
              "  <th>Intercept</th> <td>    0.9618</td> <td>    0.069</td> <td>   13.888</td> <td> 0.000</td> <td>    0.826</td> <td>    1.098</td>\n",
              "</tr>\n",
              "<tr>\n",
              "  <th>Age</th>       <td>   -3.4959</td> <td>    0.028</td> <td> -123.793</td> <td> 0.000</td> <td>   -3.551</td> <td>   -3.441</td>\n",
              "</tr>\n",
              "<tr>\n",
              "  <th>Income</th>    <td>    0.5090</td> <td>    0.014</td> <td>   36.478</td> <td> 0.000</td> <td>    0.482</td> <td>    0.536</td>\n",
              "</tr>\n",
              "</table>\n",
              "<table class=\"simpletable\">\n",
              "<tr>\n",
              "  <th>Omnibus:</th>       <td> 3.489</td> <th>  Durbin-Watson:     </th> <td>   2.044</td>\n",
              "</tr>\n",
              "<tr>\n",
              "  <th>Prob(Omnibus):</th> <td> 0.175</td> <th>  Jarque-Bera (JB):  </th> <td>   3.809</td>\n",
              "</tr>\n",
              "<tr>\n",
              "  <th>Skew:</th>          <td>-0.050</td> <th>  Prob(JB):          </th> <td>   0.149</td>\n",
              "</tr>\n",
              "<tr>\n",
              "  <th>Kurtosis:</th>      <td> 3.285</td> <th>  Cond. No.          </th> <td>    8.89</td>\n",
              "</tr>\n",
              "</table><br/><br/>Notes:<br/>[1] Standard Errors assume that the covariance matrix of the errors is correctly specified."
            ],
            "text/latex": "\\begin{center}\n\\begin{tabular}{lclc}\n\\toprule\n\\textbf{Dep. Variable:}    &     Spending     & \\textbf{  R-squared:         } &     0.944   \\\\\n\\textbf{Model:}            &       OLS        & \\textbf{  Adj. R-squared:    } &     0.943   \\\\\n\\textbf{Method:}           &  Least Squares   & \\textbf{  F-statistic:       } &     8329.   \\\\\n\\textbf{Date:}             & Wed, 20 Nov 2024 & \\textbf{  Prob (F-statistic):} &     0.00    \\\\\n\\textbf{Time:}             &     07:27:37     & \\textbf{  Log-Likelihood:    } &   -1310.8   \\\\\n\\textbf{No. Observations:} &        1000      & \\textbf{  AIC:               } &     2628.   \\\\\n\\textbf{Df Residuals:}     &         997      & \\textbf{  BIC:               } &     2642.   \\\\\n\\textbf{Df Model:}         &           2      & \\textbf{                     } &             \\\\\n\\textbf{Covariance Type:}  &    nonrobust     & \\textbf{                     } &             \\\\\n\\bottomrule\n\\end{tabular}\n\\begin{tabular}{lcccccc}\n                   & \\textbf{coef} & \\textbf{std err} & \\textbf{t} & \\textbf{P$> |$t$|$} & \\textbf{[0.025} & \\textbf{0.975]}  \\\\\n\\midrule\n\\textbf{Intercept} &       0.9618  &        0.069     &    13.888  &         0.000        &        0.826    &        1.098     \\\\\n\\textbf{Age}       &      -3.4959  &        0.028     &  -123.793  &         0.000        &       -3.551    &       -3.441     \\\\\n\\textbf{Income}    &       0.5090  &        0.014     &    36.478  &         0.000        &        0.482    &        0.536     \\\\\n\\bottomrule\n\\end{tabular}\n\\begin{tabular}{lclc}\n\\textbf{Omnibus:}       &  3.489 & \\textbf{  Durbin-Watson:     } &    2.044  \\\\\n\\textbf{Prob(Omnibus):} &  0.175 & \\textbf{  Jarque-Bera (JB):  } &    3.809  \\\\\n\\textbf{Skew:}          & -0.050 & \\textbf{  Prob(JB):          } &    0.149  \\\\\n\\textbf{Kurtosis:}      &  3.285 & \\textbf{  Cond. No.          } &     8.89  \\\\\n\\bottomrule\n\\end{tabular}\n%\\caption{OLS Regression Results}\n\\end{center}\n\nNotes: \\newline\n [1] Standard Errors assume that the covariance matrix of the errors is correctly specified."
          },
          "metadata": {},
          "execution_count": 34
        }
      ]
    },
    {
      "cell_type": "markdown",
      "source": [
        "# Unbiasedness of OLS"
      ],
      "metadata": {
        "id": "DjswYzBkjNzj"
      }
    },
    {
      "cell_type": "code",
      "source": [
        "n = 1000  # Sample size\n",
        "num_iterations = 10000  # Number of repetitions\n",
        "\n",
        "# Store the estimated coefficients for each iteration\n",
        "estimated_coeffs = []\n",
        "\n",
        "for _ in range(num_iterations):\n",
        "    # Generate data\n",
        "    e = np.random.normal(0, np.sqrt(2), (n, 1))\n",
        "    x1 = np.random.exponential(2, (n, 1))\n",
        "    x2 = np.random.normal(-1, 1, (n, 1))\n",
        "    y = 2 - 3 * x1 + 0.5 * x2 + e\n",
        "\n",
        "    # Construct the design matrix\n",
        "    X = np.concatenate((np.ones((n, 1)), x1, x2), axis=1)\n",
        "\n",
        "    # Calculate the OLS estimator\n",
        "    b = inv(X.T @ X) @ X.T @ y\n",
        "\n",
        "    # Store the estimated coefficients\n",
        "    estimated_coeffs.append(b)\n",
        "\n",
        "# Convert the list of estimated coefficients to a NumPy array\n",
        "estimated_coeffs = np.array(estimated_coeffs)\n",
        "\n",
        "# Calculate the mean of the estimated coefficients\n",
        "mean_coeffs = np.mean(estimated_coeffs, axis=0)\n",
        "\n",
        "# Print the mean coefficients\n",
        "print(\"Mean of estimated coefficients:\")\n",
        "print(mean_coeffs)"
      ],
      "metadata": {
        "id": "sB4E3NsKjkyM",
        "outputId": "1368e3c7-b570-4447-f0a9-867491a3900e",
        "colab": {
          "base_uri": "https://localhost:8080/"
        }
      },
      "execution_count": 59,
      "outputs": [
        {
          "output_type": "stream",
          "name": "stdout",
          "text": [
            "Mean of estimated coefficients:\n",
            "[[ 1.99906687]\n",
            " [-2.99970232]\n",
            " [ 0.49956056]]\n"
          ]
        }
      ]
    },
    {
      "cell_type": "markdown",
      "source": [
        "Calculate the bias when one of the regressors is endogenous"
      ],
      "metadata": {
        "id": "vhgS89zA6FtN"
      }
    },
    {
      "cell_type": "code",
      "source": [
        "n = 1000  # Sample size\n",
        "num_iterations = 10000  # Number of repetitions\n",
        "\n",
        "# Store the estimated coefficients for each iteration\n",
        "estimated_coeffs = []\n",
        "\n",
        "for _ in range(num_iterations):\n",
        "    # Generate data\n",
        "    samples = np.random.multivariate_normal([0, -2], [[1, -0.5], [-0.5, 1]], n)\n",
        "    e = samples[:, 0].reshape(-1,1)  # First column as 'e'\n",
        "    x1 = samples[:, 1].reshape(-1,1) # Second column as 'x1'\n",
        "    x2 = np.random.exponential(2,(n,1))\n",
        "    y = 2 - 3*x1 + 0.5*x2 + e\n",
        "\n",
        "    # Construct the design matrix\n",
        "    X = np.concatenate((np.ones((n, 1)), x1, x2), axis=1)\n",
        "\n",
        "    # Calculate the OLS estimator\n",
        "    b = inv(X.T @ X) @ X.T @ y\n",
        "\n",
        "    # Store the estimated coefficients\n",
        "    estimated_coeffs.append(b)\n",
        "\n",
        "# Convert the list of estimated coefficients to a NumPy array\n",
        "estimated_coeffs = np.array(estimated_coeffs)\n",
        "\n",
        "# Calculate the mean of the estimated coefficients\n",
        "mean_coeffs = np.mean(estimated_coeffs, axis=0)\n",
        "\n",
        "# Print the mean coefficients\n",
        "print(\"Mean of estimated coefficients:\")\n",
        "print(mean_coeffs)"
      ],
      "metadata": {
        "id": "nHs0-i9Q56jd",
        "outputId": "eb2ce2c4-54eb-4ce7-d5f1-9d1ca278bfb2",
        "colab": {
          "base_uri": "https://localhost:8080/"
        }
      },
      "execution_count": 140,
      "outputs": [
        {
          "output_type": "stream",
          "name": "stdout",
          "text": [
            "Mean of estimated coefficients:\n",
            "[[ 0.99980721]\n",
            " [-3.50025736]\n",
            " [ 0.49982782]]\n"
          ]
        }
      ]
    },
    {
      "cell_type": "markdown",
      "metadata": {
        "id": "SIvMBkWNSzpX"
      },
      "source": [
        "# Multicollinearity"
      ]
    },
    {
      "cell_type": "markdown",
      "metadata": {
        "id": "8A7AE9euS-OH"
      },
      "source": [
        "When the regressors are highly collinear, OLS estimates become highly imprecise, even though the regressors are exogenous."
      ]
    },
    {
      "cell_type": "code",
      "metadata": {
        "colab": {
          "base_uri": "https://localhost:8080/"
        },
        "id": "M4-2tLz7S2XS",
        "outputId": "e66e707c-b23f-4398-8bbc-1a56ca08ef94"
      },
      "source": [
        "n = 1000 #sample size, number of observations\n",
        "e = np.random.normal(0,np.sqrt(2),(n,1)) #error term\n",
        "x1 = np.random.exponential(2,(n,1))\n",
        "x2 = 3*x1 - 2 + np.random.normal(0,0.0001,(n,1))\n",
        "y = 2 - 3*x1 + 0.5*x2 + e\n",
        "\n",
        "X = np.concatenate((np.ones((n,1)),x1,x2),axis=1) #stack data in a data matrix\n",
        "b = inv((X.T)@X)@(X.T)@y\n",
        "print(b)\n",
        "#run this block multiple times"
      ],
      "execution_count": 54,
      "outputs": [
        {
          "output_type": "stream",
          "name": "stdout",
          "text": [
            "[[-1112.66006955]\n",
            " [ 1669.06321518]\n",
            " [ -556.84817582]]\n"
          ]
        }
      ]
    },
    {
      "cell_type": "markdown",
      "metadata": {
        "id": "-AJl807kS1ox"
      },
      "source": [
        "When the condition number of X'X is above 30, the regression may have significant multicollinearity"
      ]
    },
    {
      "cell_type": "code",
      "metadata": {
        "colab": {
          "base_uri": "https://localhost:8080/"
        },
        "id": "bYW9Fbs5UFkh",
        "outputId": "20a0ad8f-892b-4a2b-abb5-188f0541250f"
      },
      "source": [
        "np.linalg.cond((X.T)@X)"
      ],
      "execution_count": 55,
      "outputs": [
        {
          "output_type": "execute_result",
          "data": {
            "text/plain": [
              "75227219356.26456"
            ]
          },
          "metadata": {},
          "execution_count": 55
        }
      ]
    },
    {
      "cell_type": "code",
      "metadata": {
        "colab": {
          "base_uri": "https://localhost:8080/"
        },
        "id": "XLPQbh-nezII",
        "outputId": "e917113f-9d55-4f07-b4cf-f4e37d0bd642"
      },
      "source": [
        "X = np.concatenate((np.ones((n,1)),x1,x2),axis=1)\n",
        "df = pd.DataFrame(np.concatenate((y,X),axis=1),columns=['Spending', 'Intercept', 'Age','Income'])\n",
        "result = sm.ols('Spending ~ Age + Income',data=df).fit()\n",
        "print(result.summary())"
      ],
      "execution_count": 56,
      "outputs": [
        {
          "output_type": "stream",
          "name": "stdout",
          "text": [
            "                            OLS Regression Results                            \n",
            "==============================================================================\n",
            "Dep. Variable:               Spending   R-squared:                       0.816\n",
            "Model:                            OLS   Adj. R-squared:                  0.816\n",
            "Method:                 Least Squares   F-statistic:                     2213.\n",
            "Date:                Wed, 20 Nov 2024   Prob (F-statistic):               0.00\n",
            "Time:                        07:35:40   Log-Likelihood:                -1739.8\n",
            "No. Observations:                1000   AIC:                             3486.\n",
            "Df Residuals:                     997   BIC:                             3500.\n",
            "Df Model:                           2                                         \n",
            "Covariance Type:            nonrobust                                         \n",
            "==============================================================================\n",
            "                 coef    std err          t      P>|t|      [0.025      0.975]\n",
            "------------------------------------------------------------------------------\n",
            "Intercept  -1112.6602    859.964     -1.294      0.196   -2800.207     574.887\n",
            "Age         1669.0634   1289.947      1.294      0.196    -862.259    4200.386\n",
            "Income      -556.8483    429.982     -1.295      0.196   -1400.622     286.925\n",
            "==============================================================================\n",
            "Omnibus:                        4.383   Durbin-Watson:                   2.084\n",
            "Prob(Omnibus):                  0.112   Jarque-Bera (JB):                4.615\n",
            "Skew:                          -0.096   Prob(JB):                       0.0995\n",
            "Kurtosis:                       3.272   Cond. No.                     2.74e+05\n",
            "==============================================================================\n",
            "\n",
            "Notes:\n",
            "[1] Standard Errors assume that the covariance matrix of the errors is correctly specified.\n",
            "[2] The condition number is large, 2.74e+05. This might indicate that there are\n",
            "strong multicollinearity or other numerical problems.\n"
          ]
        }
      ]
    },
    {
      "cell_type": "markdown",
      "metadata": {
        "id": "d854aoShDNjg"
      },
      "source": [
        "## Omitting a variable\n",
        "\n",
        "Suppose we omit x2 (estimating a misspecified model)."
      ]
    },
    {
      "cell_type": "code",
      "source": [
        "n = 1000 #sample size, number of observations\n",
        "e = np.random.normal(0,np.sqrt(2),(n,1)) #error term\n",
        "x1 = np.random.exponential(2,(n,1))\n",
        "x2 = np.random.normal(-1,1,(n,1))\n",
        "y = 2 - 3*x1 + 0.5*x2 + e"
      ],
      "metadata": {
        "id": "Z5C_Hqq3SBw-"
      },
      "execution_count": 60,
      "outputs": []
    },
    {
      "cell_type": "code",
      "metadata": {
        "id": "t-GG6H7BArgS"
      },
      "source": [
        "X = np.concatenate((np.ones((n,1)),x1),axis=1)"
      ],
      "execution_count": 61,
      "outputs": []
    },
    {
      "cell_type": "code",
      "metadata": {
        "colab": {
          "base_uri": "https://localhost:8080/"
        },
        "id": "JIJTKQEYDdQp",
        "outputId": "c98df485-cc0c-4af2-d5ae-a51d9848b596"
      },
      "source": [
        "b = inv((X.T)@X)@(X.T)@y\n",
        "print(b)"
      ],
      "execution_count": 62,
      "outputs": [
        {
          "output_type": "stream",
          "name": "stdout",
          "text": [
            "[[ 1.47410201]\n",
            " [-2.98197186]]\n"
          ]
        }
      ]
    },
    {
      "cell_type": "markdown",
      "metadata": {
        "id": "1CIiiQPHDl5d"
      },
      "source": [
        "Surprisingly, we still get consistent estimate for the coefficient of x1! That is because x1 and x2 are independent. Now assume a data-generating process where x1 and x2 are not independent.\n"
      ]
    },
    {
      "cell_type": "code",
      "metadata": {
        "id": "RjA3ncXhDhPr"
      },
      "source": [
        "n = 1000 #sample size, number of observations\n",
        "e = np.random.normal(0,np.sqrt(2),(n,)) #error term\n",
        "sigma = np.array([[1,0.75],[0.75,1]])\n",
        "x = np.random.multivariate_normal(np.array([-1,2]),sigma,(n,))\n",
        "np.shape(x)\n",
        "y = 2 - 3*x[:,0] + 0.5*x[:,1] + e"
      ],
      "execution_count": 136,
      "outputs": []
    },
    {
      "cell_type": "code",
      "metadata": {
        "colab": {
          "base_uri": "https://localhost:8080/"
        },
        "id": "-FSk5GLIEJNa",
        "outputId": "b2fb30af-faaf-4ee8-a656-9d6a4a857df7"
      },
      "source": [
        "#ols estimator for the correct specification\n",
        "X = np.concatenate((np.ones((n,1)),x),axis=1) #stack data in a data matrix\n",
        "b = inv((X.T)@X)@(X.T)@y\n",
        "print(b)"
      ],
      "execution_count": 137,
      "outputs": [
        {
          "output_type": "stream",
          "name": "stdout",
          "text": [
            "[ 1.9629114  -2.96270261  0.50607632]\n"
          ]
        }
      ]
    },
    {
      "cell_type": "code",
      "metadata": {
        "colab": {
          "base_uri": "https://localhost:8080/"
        },
        "id": "PZ0KM0CRFSsa",
        "outputId": "4e54276b-f8bc-42be-8422-cc340cb88359"
      },
      "source": [
        "#ols estimator omitting x2\n",
        "X = np.concatenate((np.ones((n,1)),x[:,0].reshape(-1,1)),axis=1) #stack data in a data matrix\n",
        "b = inv((X.T)@X)@(X.T)@y\n",
        "print(b)"
      ],
      "execution_count": 138,
      "outputs": [
        {
          "output_type": "stream",
          "name": "stdout",
          "text": [
            "[ 3.32868391 -2.60312045]\n"
          ]
        }
      ]
    },
    {
      "cell_type": "markdown",
      "source": [
        "What is the direction of the bias? $X_1$ and $X_2$ are positively correlated here, and the OLS estimate is larger than the true value, hence OLS estimate is biased upwards\n",
        "\n",
        "What if $X_1$ and $X_2$ are negatively correlated?"
      ],
      "metadata": {
        "id": "o1hy8anLSmYt"
      }
    },
    {
      "cell_type": "code",
      "source": [
        "n = 1000 #sample size, number of observations\n",
        "e = np.random.normal(0,np.sqrt(2),(n,)) #error term\n",
        "sigma = np.array([[1,-1.5],[-1.5,3]])\n",
        "x = np.random.multivariate_normal(np.array([1,2]),sigma,(n,))\n",
        "y = 2 - 3*x[:,0] + 0.5*x[:,1] + e"
      ],
      "metadata": {
        "id": "lJrk9fFASe0V"
      },
      "execution_count": 66,
      "outputs": []
    },
    {
      "cell_type": "code",
      "source": [
        "#ols estimator omitting x2\n",
        "X = np.concatenate((np.ones((n,1)),x[:,0].reshape(-1,1)),axis=1) #stack data in a data matrix\n",
        "b = inv((X.T)@X)@(X.T)@y\n",
        "print(b)"
      ],
      "metadata": {
        "colab": {
          "base_uri": "https://localhost:8080/"
        },
        "id": "V0HISU6dSiVR",
        "outputId": "e161f9a2-5059-4a49-df43-483f9306f6ee"
      },
      "execution_count": 67,
      "outputs": [
        {
          "output_type": "stream",
          "name": "stdout",
          "text": [
            "[ 3.72540368 -3.7722727 ]\n"
          ]
        }
      ]
    },
    {
      "cell_type": "markdown",
      "source": [
        "If $X_1$ and $X_2$ are negatively correlated? The OLS estimate is smaller than the true value, hence OLS estimate is biased downwards."
      ],
      "metadata": {
        "id": "bnwWMJZ8TEoI"
      }
    }
  ]
}