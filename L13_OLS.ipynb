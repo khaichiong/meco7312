{
  "nbformat": 4,
  "nbformat_minor": 0,
  "metadata": {
    "colab": {
      "name": "L13_OLS.ipynb",
      "provenance": [],
      "authorship_tag": "ABX9TyMuvxmrv4pAWCcxusA46ahy",
      "include_colab_link": true
    },
    "kernelspec": {
      "name": "python3",
      "display_name": "Python 3"
    },
    "language_info": {
      "name": "python"
    }
  },
  "cells": [
    {
      "cell_type": "markdown",
      "metadata": {
        "id": "view-in-github",
        "colab_type": "text"
      },
      "source": [
        "<a href=\"https://colab.research.google.com/github/khaichiong/meco7312/blob/master/L13_OLS.ipynb\" target=\"_parent\"><img src=\"https://colab.research.google.com/assets/colab-badge.svg\" alt=\"Open In Colab\"/></a>"
      ]
    },
    {
      "cell_type": "code",
      "metadata": {
        "id": "IxZnbdOs5xFS"
      },
      "source": [
        "import numpy as np\n",
        "import pandas as pd\n",
        "import os\n",
        "import matplotlib.pyplot as plt\n",
        "import statsmodels.formula.api as sm\n",
        "from numpy.linalg import inv"
      ],
      "execution_count": 2,
      "outputs": []
    },
    {
      "cell_type": "markdown",
      "metadata": {
        "id": "Ucp5PC7a7oo0"
      },
      "source": [
        "## Generate data\n",
        "\n",
        "Generate data according to the linear model $Y = 2 - 4X_{1} + 0.5X_{2} + \\epsilon$"
      ]
    },
    {
      "cell_type": "code",
      "metadata": {
        "id": "TBd2rpp-7pDF"
      },
      "source": [
        "n = 1000 #sample size, number of observations\n",
        "e = np.random.normal(0,np.sqrt(2),(n,1)) #error term\n",
        "x1 = np.random.exponential(2,(n,1))\n",
        "x2 = np.random.normal(-1,1,(n,1))\n",
        "y = 2 - 3*x1 + 0.5*x2 + e"
      ],
      "execution_count": 7,
      "outputs": []
    },
    {
      "cell_type": "markdown",
      "metadata": {
        "id": "dnmRh5K78YC9"
      },
      "source": [
        "Stack data in a data matrix, and create pandas dataframe object"
      ]
    },
    {
      "cell_type": "code",
      "metadata": {
        "id": "In9vDk1q8MhO"
      },
      "source": [
        "X = np.concatenate((np.ones((n,1)),x1,x2),axis=1)\n",
        "df = pd.DataFrame(np.concatenate((y,X),axis=1),columns=['Spending', 'Intercept', 'Age','Income'])"
      ],
      "execution_count": 8,
      "outputs": []
    },
    {
      "cell_type": "code",
      "metadata": {
        "colab": {
          "base_uri": "https://localhost:8080/",
          "height": 206
        },
        "id": "OsyEpKtM8jTY",
        "outputId": "c0a45988-8451-4f49-e9d6-f13e9b9a612b"
      },
      "source": [
        "df.head()"
      ],
      "execution_count": 9,
      "outputs": [
        {
          "output_type": "execute_result",
          "data": {
            "text/plain": [
              "    Spending  Intercept       Age    Income\n",
              "0 -24.440565        1.0  8.240716 -0.748951\n",
              "1  -1.086150        1.0  0.417885 -1.925114\n",
              "2  -3.423740        1.0  2.532255  1.238727\n",
              "3  -0.385652        1.0  0.730117 -0.971147\n",
              "4  -3.319178        1.0  1.124163 -2.241811"
            ],
            "text/html": [
              "\n",
              "  <div id=\"df-fe2fdc67-cf79-4d1c-ad5a-2a552bb64875\" class=\"colab-df-container\">\n",
              "    <div>\n",
              "<style scoped>\n",
              "    .dataframe tbody tr th:only-of-type {\n",
              "        vertical-align: middle;\n",
              "    }\n",
              "\n",
              "    .dataframe tbody tr th {\n",
              "        vertical-align: top;\n",
              "    }\n",
              "\n",
              "    .dataframe thead th {\n",
              "        text-align: right;\n",
              "    }\n",
              "</style>\n",
              "<table border=\"1\" class=\"dataframe\">\n",
              "  <thead>\n",
              "    <tr style=\"text-align: right;\">\n",
              "      <th></th>\n",
              "      <th>Spending</th>\n",
              "      <th>Intercept</th>\n",
              "      <th>Age</th>\n",
              "      <th>Income</th>\n",
              "    </tr>\n",
              "  </thead>\n",
              "  <tbody>\n",
              "    <tr>\n",
              "      <th>0</th>\n",
              "      <td>-24.440565</td>\n",
              "      <td>1.0</td>\n",
              "      <td>8.240716</td>\n",
              "      <td>-0.748951</td>\n",
              "    </tr>\n",
              "    <tr>\n",
              "      <th>1</th>\n",
              "      <td>-1.086150</td>\n",
              "      <td>1.0</td>\n",
              "      <td>0.417885</td>\n",
              "      <td>-1.925114</td>\n",
              "    </tr>\n",
              "    <tr>\n",
              "      <th>2</th>\n",
              "      <td>-3.423740</td>\n",
              "      <td>1.0</td>\n",
              "      <td>2.532255</td>\n",
              "      <td>1.238727</td>\n",
              "    </tr>\n",
              "    <tr>\n",
              "      <th>3</th>\n",
              "      <td>-0.385652</td>\n",
              "      <td>1.0</td>\n",
              "      <td>0.730117</td>\n",
              "      <td>-0.971147</td>\n",
              "    </tr>\n",
              "    <tr>\n",
              "      <th>4</th>\n",
              "      <td>-3.319178</td>\n",
              "      <td>1.0</td>\n",
              "      <td>1.124163</td>\n",
              "      <td>-2.241811</td>\n",
              "    </tr>\n",
              "  </tbody>\n",
              "</table>\n",
              "</div>\n",
              "    <div class=\"colab-df-buttons\">\n",
              "\n",
              "  <div class=\"colab-df-container\">\n",
              "    <button class=\"colab-df-convert\" onclick=\"convertToInteractive('df-fe2fdc67-cf79-4d1c-ad5a-2a552bb64875')\"\n",
              "            title=\"Convert this dataframe to an interactive table.\"\n",
              "            style=\"display:none;\">\n",
              "\n",
              "  <svg xmlns=\"http://www.w3.org/2000/svg\" height=\"24px\" viewBox=\"0 -960 960 960\">\n",
              "    <path d=\"M120-120v-720h720v720H120Zm60-500h600v-160H180v160Zm220 220h160v-160H400v160Zm0 220h160v-160H400v160ZM180-400h160v-160H180v160Zm440 0h160v-160H620v160ZM180-180h160v-160H180v160Zm440 0h160v-160H620v160Z\"/>\n",
              "  </svg>\n",
              "    </button>\n",
              "\n",
              "  <style>\n",
              "    .colab-df-container {\n",
              "      display:flex;\n",
              "      gap: 12px;\n",
              "    }\n",
              "\n",
              "    .colab-df-convert {\n",
              "      background-color: #E8F0FE;\n",
              "      border: none;\n",
              "      border-radius: 50%;\n",
              "      cursor: pointer;\n",
              "      display: none;\n",
              "      fill: #1967D2;\n",
              "      height: 32px;\n",
              "      padding: 0 0 0 0;\n",
              "      width: 32px;\n",
              "    }\n",
              "\n",
              "    .colab-df-convert:hover {\n",
              "      background-color: #E2EBFA;\n",
              "      box-shadow: 0px 1px 2px rgba(60, 64, 67, 0.3), 0px 1px 3px 1px rgba(60, 64, 67, 0.15);\n",
              "      fill: #174EA6;\n",
              "    }\n",
              "\n",
              "    .colab-df-buttons div {\n",
              "      margin-bottom: 4px;\n",
              "    }\n",
              "\n",
              "    [theme=dark] .colab-df-convert {\n",
              "      background-color: #3B4455;\n",
              "      fill: #D2E3FC;\n",
              "    }\n",
              "\n",
              "    [theme=dark] .colab-df-convert:hover {\n",
              "      background-color: #434B5C;\n",
              "      box-shadow: 0px 1px 3px 1px rgba(0, 0, 0, 0.15);\n",
              "      filter: drop-shadow(0px 1px 2px rgba(0, 0, 0, 0.3));\n",
              "      fill: #FFFFFF;\n",
              "    }\n",
              "  </style>\n",
              "\n",
              "    <script>\n",
              "      const buttonEl =\n",
              "        document.querySelector('#df-fe2fdc67-cf79-4d1c-ad5a-2a552bb64875 button.colab-df-convert');\n",
              "      buttonEl.style.display =\n",
              "        google.colab.kernel.accessAllowed ? 'block' : 'none';\n",
              "\n",
              "      async function convertToInteractive(key) {\n",
              "        const element = document.querySelector('#df-fe2fdc67-cf79-4d1c-ad5a-2a552bb64875');\n",
              "        const dataTable =\n",
              "          await google.colab.kernel.invokeFunction('convertToInteractive',\n",
              "                                                    [key], {});\n",
              "        if (!dataTable) return;\n",
              "\n",
              "        const docLinkHtml = 'Like what you see? Visit the ' +\n",
              "          '<a target=\"_blank\" href=https://colab.research.google.com/notebooks/data_table.ipynb>data table notebook</a>'\n",
              "          + ' to learn more about interactive tables.';\n",
              "        element.innerHTML = '';\n",
              "        dataTable['output_type'] = 'display_data';\n",
              "        await google.colab.output.renderOutput(dataTable, element);\n",
              "        const docLink = document.createElement('div');\n",
              "        docLink.innerHTML = docLinkHtml;\n",
              "        element.appendChild(docLink);\n",
              "      }\n",
              "    </script>\n",
              "  </div>\n",
              "\n",
              "\n",
              "<div id=\"df-31d8bcba-06f2-493a-a192-63ffed94af88\">\n",
              "  <button class=\"colab-df-quickchart\" onclick=\"quickchart('df-31d8bcba-06f2-493a-a192-63ffed94af88')\"\n",
              "            title=\"Suggest charts\"\n",
              "            style=\"display:none;\">\n",
              "\n",
              "<svg xmlns=\"http://www.w3.org/2000/svg\" height=\"24px\"viewBox=\"0 0 24 24\"\n",
              "     width=\"24px\">\n",
              "    <g>\n",
              "        <path d=\"M19 3H5c-1.1 0-2 .9-2 2v14c0 1.1.9 2 2 2h14c1.1 0 2-.9 2-2V5c0-1.1-.9-2-2-2zM9 17H7v-7h2v7zm4 0h-2V7h2v10zm4 0h-2v-4h2v4z\"/>\n",
              "    </g>\n",
              "</svg>\n",
              "  </button>\n",
              "\n",
              "<style>\n",
              "  .colab-df-quickchart {\n",
              "      --bg-color: #E8F0FE;\n",
              "      --fill-color: #1967D2;\n",
              "      --hover-bg-color: #E2EBFA;\n",
              "      --hover-fill-color: #174EA6;\n",
              "      --disabled-fill-color: #AAA;\n",
              "      --disabled-bg-color: #DDD;\n",
              "  }\n",
              "\n",
              "  [theme=dark] .colab-df-quickchart {\n",
              "      --bg-color: #3B4455;\n",
              "      --fill-color: #D2E3FC;\n",
              "      --hover-bg-color: #434B5C;\n",
              "      --hover-fill-color: #FFFFFF;\n",
              "      --disabled-bg-color: #3B4455;\n",
              "      --disabled-fill-color: #666;\n",
              "  }\n",
              "\n",
              "  .colab-df-quickchart {\n",
              "    background-color: var(--bg-color);\n",
              "    border: none;\n",
              "    border-radius: 50%;\n",
              "    cursor: pointer;\n",
              "    display: none;\n",
              "    fill: var(--fill-color);\n",
              "    height: 32px;\n",
              "    padding: 0;\n",
              "    width: 32px;\n",
              "  }\n",
              "\n",
              "  .colab-df-quickchart:hover {\n",
              "    background-color: var(--hover-bg-color);\n",
              "    box-shadow: 0 1px 2px rgba(60, 64, 67, 0.3), 0 1px 3px 1px rgba(60, 64, 67, 0.15);\n",
              "    fill: var(--button-hover-fill-color);\n",
              "  }\n",
              "\n",
              "  .colab-df-quickchart-complete:disabled,\n",
              "  .colab-df-quickchart-complete:disabled:hover {\n",
              "    background-color: var(--disabled-bg-color);\n",
              "    fill: var(--disabled-fill-color);\n",
              "    box-shadow: none;\n",
              "  }\n",
              "\n",
              "  .colab-df-spinner {\n",
              "    border: 2px solid var(--fill-color);\n",
              "    border-color: transparent;\n",
              "    border-bottom-color: var(--fill-color);\n",
              "    animation:\n",
              "      spin 1s steps(1) infinite;\n",
              "  }\n",
              "\n",
              "  @keyframes spin {\n",
              "    0% {\n",
              "      border-color: transparent;\n",
              "      border-bottom-color: var(--fill-color);\n",
              "      border-left-color: var(--fill-color);\n",
              "    }\n",
              "    20% {\n",
              "      border-color: transparent;\n",
              "      border-left-color: var(--fill-color);\n",
              "      border-top-color: var(--fill-color);\n",
              "    }\n",
              "    30% {\n",
              "      border-color: transparent;\n",
              "      border-left-color: var(--fill-color);\n",
              "      border-top-color: var(--fill-color);\n",
              "      border-right-color: var(--fill-color);\n",
              "    }\n",
              "    40% {\n",
              "      border-color: transparent;\n",
              "      border-right-color: var(--fill-color);\n",
              "      border-top-color: var(--fill-color);\n",
              "    }\n",
              "    60% {\n",
              "      border-color: transparent;\n",
              "      border-right-color: var(--fill-color);\n",
              "    }\n",
              "    80% {\n",
              "      border-color: transparent;\n",
              "      border-right-color: var(--fill-color);\n",
              "      border-bottom-color: var(--fill-color);\n",
              "    }\n",
              "    90% {\n",
              "      border-color: transparent;\n",
              "      border-bottom-color: var(--fill-color);\n",
              "    }\n",
              "  }\n",
              "</style>\n",
              "\n",
              "  <script>\n",
              "    async function quickchart(key) {\n",
              "      const quickchartButtonEl =\n",
              "        document.querySelector('#' + key + ' button');\n",
              "      quickchartButtonEl.disabled = true;  // To prevent multiple clicks.\n",
              "      quickchartButtonEl.classList.add('colab-df-spinner');\n",
              "      try {\n",
              "        const charts = await google.colab.kernel.invokeFunction(\n",
              "            'suggestCharts', [key], {});\n",
              "      } catch (error) {\n",
              "        console.error('Error during call to suggestCharts:', error);\n",
              "      }\n",
              "      quickchartButtonEl.classList.remove('colab-df-spinner');\n",
              "      quickchartButtonEl.classList.add('colab-df-quickchart-complete');\n",
              "    }\n",
              "    (() => {\n",
              "      let quickchartButtonEl =\n",
              "        document.querySelector('#df-31d8bcba-06f2-493a-a192-63ffed94af88 button');\n",
              "      quickchartButtonEl.style.display =\n",
              "        google.colab.kernel.accessAllowed ? 'block' : 'none';\n",
              "    })();\n",
              "  </script>\n",
              "</div>\n",
              "\n",
              "    </div>\n",
              "  </div>\n"
            ]
          },
          "metadata": {},
          "execution_count": 9
        }
      ]
    },
    {
      "cell_type": "markdown",
      "metadata": {
        "id": "8wpgsP8w-z1O"
      },
      "source": [
        "## OLS estimator\n",
        "\n",
        "$\\beta = (X'X)^{-1}X^{T}y$"
      ]
    },
    {
      "cell_type": "code",
      "metadata": {
        "colab": {
          "base_uri": "https://localhost:8080/"
        },
        "id": "gWP_fk36-c_T",
        "outputId": "09fba755-92e0-4dff-f0e0-3289ca15beaa"
      },
      "source": [
        "b = np.matmul(np.matmul(inv(np.matmul(np.transpose(X),X)),np.transpose(X)),y)\n",
        "print(b)"
      ],
      "execution_count": 18,
      "outputs": [
        {
          "output_type": "stream",
          "name": "stdout",
          "text": [
            "[[ 1.91491138]\n",
            " [-2.96912964]\n",
            " [ 0.46134125]]\n"
          ]
        }
      ]
    },
    {
      "cell_type": "code",
      "source": [
        "inv((X.T)@X)@(X.T)@y"
      ],
      "metadata": {
        "id": "dIpxWpuKPorD",
        "outputId": "8e8c0515-1f61-46b9-e0ab-37e709526fe1",
        "colab": {
          "base_uri": "https://localhost:8080/"
        }
      },
      "execution_count": 19,
      "outputs": [
        {
          "output_type": "execute_result",
          "data": {
            "text/plain": [
              "array([[ 1.91491138],\n",
              "       [-2.96912964],\n",
              "       [ 0.46134125]])"
            ]
          },
          "metadata": {},
          "execution_count": 19
        }
      ]
    },
    {
      "cell_type": "code",
      "metadata": {
        "id": "-7ZOHZpuyWZs",
        "outputId": "dc707e81-15d1-4dba-d86d-8a88c5123a97",
        "colab": {
          "base_uri": "https://localhost:8080/"
        }
      },
      "source": [
        "X=np.asmatrix(X)\n",
        "y=np.asmatrix(y)\n",
        "((((X.T)*X).I)*X.T)*y"
      ],
      "execution_count": 20,
      "outputs": [
        {
          "output_type": "execute_result",
          "data": {
            "text/plain": [
              "matrix([[ 1.91491138],\n",
              "        [-2.96912964],\n",
              "        [ 0.46134125]])"
            ]
          },
          "metadata": {},
          "execution_count": 20
        }
      ]
    },
    {
      "cell_type": "markdown",
      "metadata": {
        "id": "3G-6zfu1_8ps"
      },
      "source": [
        "Compare with estimates from OLS package"
      ]
    },
    {
      "cell_type": "code",
      "metadata": {
        "id": "d2MdQ0PF-5Kw"
      },
      "source": [
        "result = sm.ols('Spending ~ Age + Income',data=df).fit()"
      ],
      "execution_count": 21,
      "outputs": []
    },
    {
      "cell_type": "code",
      "metadata": {
        "colab": {
          "base_uri": "https://localhost:8080/"
        },
        "id": "Qjjk_EsCARAw",
        "outputId": "c4921c9a-dbac-4991-e0bd-8a54719f1222"
      },
      "source": [
        "print(result.summary())"
      ],
      "execution_count": 22,
      "outputs": [
        {
          "output_type": "stream",
          "name": "stdout",
          "text": [
            "                            OLS Regression Results                            \n",
            "==============================================================================\n",
            "Dep. Variable:               Spending   R-squared:                       0.943\n",
            "Model:                            OLS   Adj. R-squared:                  0.943\n",
            "Method:                 Least Squares   F-statistic:                     8276.\n",
            "Date:                Wed, 29 Nov 2023   Prob (F-statistic):               0.00\n",
            "Time:                        08:43:45   Log-Likelihood:                -1791.9\n",
            "No. Observations:                1000   AIC:                             3590.\n",
            "Df Residuals:                     997   BIC:                             3604.\n",
            "Df Model:                           2                                         \n",
            "Covariance Type:            nonrobust                                         \n",
            "==============================================================================\n",
            "                 coef    std err          t      P>|t|      [0.025      0.975]\n",
            "------------------------------------------------------------------------------\n",
            "Intercept      1.9149      0.082     23.393      0.000       1.754       2.076\n",
            "Age           -2.9691      0.023   -128.486      0.000      -3.014      -2.924\n",
            "Income         0.4613      0.047      9.797      0.000       0.369       0.554\n",
            "==============================================================================\n",
            "Omnibus:                        2.774   Durbin-Watson:                   2.019\n",
            "Prob(Omnibus):                  0.250   Jarque-Bera (JB):                2.470\n",
            "Skew:                          -0.038   Prob(JB):                        0.291\n",
            "Kurtosis:                       2.769   Cond. No.                         5.90\n",
            "==============================================================================\n",
            "\n",
            "Notes:\n",
            "[1] Standard Errors assume that the covariance matrix of the errors is correctly specified.\n"
          ]
        }
      ]
    },
    {
      "cell_type": "markdown",
      "metadata": {
        "id": "SIvMBkWNSzpX"
      },
      "source": [
        "## Multicollinearity"
      ]
    },
    {
      "cell_type": "markdown",
      "metadata": {
        "id": "8A7AE9euS-OH"
      },
      "source": [
        "When the regressors are highly collinear, OLS estimates become highly imprecise"
      ]
    },
    {
      "cell_type": "code",
      "metadata": {
        "colab": {
          "base_uri": "https://localhost:8080/"
        },
        "id": "M4-2tLz7S2XS",
        "outputId": "d9d610e8-22aa-4ad2-b4e4-b701bbbfaf98"
      },
      "source": [
        "n = 1000 #sample size, number of observations\n",
        "e = np.random.normal(0,np.sqrt(2),(n,1)) #error term\n",
        "x1 = np.random.exponential(2,(n,1))\n",
        "x2 = 3*x1 - 2 + np.random.normal(0,0.0001,(n,1))\n",
        "y = 2 - 3*x1 + 0.5*x2 + e\n",
        "X = np.concatenate((np.ones((n,1)),x1,x2),axis=1) #stack data in a data matrix\n",
        "b = inv((X.T)@X)@(X.T)@y\n",
        "print(b)\n",
        "#run this block multiple times"
      ],
      "execution_count": 24,
      "outputs": [
        {
          "output_type": "stream",
          "name": "stdout",
          "text": [
            "[[ 216.46730624]\n",
            " [-324.85183457]\n",
            " [ 107.79066331]]\n"
          ]
        }
      ]
    },
    {
      "cell_type": "markdown",
      "metadata": {
        "id": "-AJl807kS1ox"
      },
      "source": [
        "When the condition number of X'X is above 30, the regression may have significant multicollinearity"
      ]
    },
    {
      "cell_type": "code",
      "metadata": {
        "colab": {
          "base_uri": "https://localhost:8080/"
        },
        "id": "bYW9Fbs5UFkh",
        "outputId": "f60d70e4-88ef-45e4-bbd6-a4c4a100aa3c"
      },
      "source": [
        "np.linalg.cond((X.T)@X)"
      ],
      "execution_count": 27,
      "outputs": [
        {
          "output_type": "execute_result",
          "data": {
            "text/plain": [
              "79292753073.28932"
            ]
          },
          "metadata": {},
          "execution_count": 27
        }
      ]
    },
    {
      "cell_type": "code",
      "metadata": {
        "colab": {
          "base_uri": "https://localhost:8080/"
        },
        "id": "XLPQbh-nezII",
        "outputId": "d7d7eb1d-457b-46bd-9de2-4f200488362a"
      },
      "source": [
        "X = np.concatenate((np.ones((n,1)),x1,x2),axis=1)\n",
        "df = pd.DataFrame(np.concatenate((y,X),axis=1),columns=['Spending', 'Intercept', 'Age','Income'])\n",
        "result = sm.ols('Spending ~ Age + Income',data=df).fit()\n",
        "print(result.summary())"
      ],
      "execution_count": 26,
      "outputs": [
        {
          "output_type": "stream",
          "name": "stdout",
          "text": [
            "                            OLS Regression Results                            \n",
            "==============================================================================\n",
            "Dep. Variable:               Spending   R-squared:                       0.817\n",
            "Model:                            OLS   Adj. R-squared:                  0.817\n",
            "Method:                 Least Squares   F-statistic:                     2225.\n",
            "Date:                Wed, 29 Nov 2023   Prob (F-statistic):               0.00\n",
            "Time:                        08:49:36   Log-Likelihood:                -1741.2\n",
            "No. Observations:                1000   AIC:                             3488.\n",
            "Df Residuals:                     997   BIC:                             3503.\n",
            "Df Model:                           2                                         \n",
            "Covariance Type:            nonrobust                                         \n",
            "==============================================================================\n",
            "                 coef    std err          t      P>|t|      [0.025      0.975]\n",
            "------------------------------------------------------------------------------\n",
            "Intercept    216.4654    861.401      0.251      0.802   -1473.901    1906.832\n",
            "Age         -324.8490   1292.098     -0.251      0.802   -2860.393    2210.695\n",
            "Income       107.7897    430.699      0.250      0.802    -737.392     952.971\n",
            "==============================================================================\n",
            "Omnibus:                        0.700   Durbin-Watson:                   1.959\n",
            "Prob(Omnibus):                  0.705   Jarque-Bera (JB):                0.575\n",
            "Skew:                          -0.036   Prob(JB):                        0.750\n",
            "Kurtosis:                       3.094   Cond. No.                     2.82e+05\n",
            "==============================================================================\n",
            "\n",
            "Notes:\n",
            "[1] Standard Errors assume that the covariance matrix of the errors is correctly specified.\n",
            "[2] The condition number is large, 2.82e+05. This might indicate that there are\n",
            "strong multicollinearity or other numerical problems.\n"
          ]
        }
      ]
    },
    {
      "cell_type": "markdown",
      "metadata": {
        "id": "d854aoShDNjg"
      },
      "source": [
        "## Omitting a variable\n",
        "\n",
        "Suppose we omit x2 (estimating a misspecified model)."
      ]
    },
    {
      "cell_type": "code",
      "metadata": {
        "id": "t-GG6H7BArgS"
      },
      "source": [
        "X = np.concatenate((np.ones((n,1)),x1),axis=1)"
      ],
      "execution_count": null,
      "outputs": []
    },
    {
      "cell_type": "code",
      "metadata": {
        "colab": {
          "base_uri": "https://localhost:8080/"
        },
        "id": "JIJTKQEYDdQp",
        "outputId": "7fb3197b-b5ef-48ef-983b-c8be3eb09402"
      },
      "source": [
        "b = np.matmul(np.matmul(inv(np.matmul(np.transpose(X),X)),np.transpose(X)),y)\n",
        "print(b)"
      ],
      "execution_count": null,
      "outputs": [
        {
          "output_type": "stream",
          "name": "stdout",
          "text": [
            "[[ 0.93606163]\n",
            " [-1.5042855 ]]\n"
          ]
        }
      ]
    },
    {
      "cell_type": "markdown",
      "metadata": {
        "id": "1CIiiQPHDl5d"
      },
      "source": [
        "Surprisingly, we still get consistent estimate for the coefficient of x1! That is because x1 and x2 are independent. Now assume a data-generating process where x1 and x2 are not independent.\n"
      ]
    },
    {
      "cell_type": "code",
      "metadata": {
        "id": "RjA3ncXhDhPr"
      },
      "source": [
        "n = 1000 #sample size, number of observations\n",
        "e = np.random.normal(0,np.sqrt(2),(n,)) #error term\n",
        "sigma = np.array([[1,1.5],[1.5,3]])\n",
        "x = np.random.multivariate_normal(np.array([1,2]),sigma,(n,))\n",
        "np.shape(x)\n",
        "y = 2 - 3*x[:,0] + 0.5*x[:,1] + e"
      ],
      "execution_count": null,
      "outputs": []
    },
    {
      "cell_type": "code",
      "metadata": {
        "colab": {
          "base_uri": "https://localhost:8080/"
        },
        "id": "-FSk5GLIEJNa",
        "outputId": "4bb9315c-cd12-41b2-b674-6fa134a0fc12"
      },
      "source": [
        "#ols estimator for the correct specification\n",
        "X = np.concatenate((np.ones((n,1)),x),axis=1) #stack data in a data matrix\n",
        "b = np.matmul(np.matmul(inv(np.matmul(np.transpose(X),X)),np.transpose(X)),y)\n",
        "print(b)"
      ],
      "execution_count": null,
      "outputs": [
        {
          "output_type": "stream",
          "name": "stdout",
          "text": [
            "[ 1.94584289 -2.92398208  0.49657136]\n"
          ]
        }
      ]
    },
    {
      "cell_type": "code",
      "metadata": {
        "colab": {
          "base_uri": "https://localhost:8080/"
        },
        "id": "PZ0KM0CRFSsa",
        "outputId": "325339e8-6e73-4a89-918d-090323cdda1f"
      },
      "source": [
        "#ols estimator omitting x2\n",
        "X = np.concatenate((np.ones((n,1)),x[:,0].reshape(-1,1)),axis=1) #stack data in a data matrix\n",
        "b = np.matmul(np.matmul(inv(np.matmul(np.transpose(X),X)),np.transpose(X)),y)\n",
        "print(b)"
      ],
      "execution_count": null,
      "outputs": [
        {
          "output_type": "stream",
          "name": "stdout",
          "text": [
            "[ 2.18939954 -2.19825046]\n"
          ]
        }
      ]
    },
    {
      "cell_type": "code",
      "metadata": {
        "id": "lkpbh4g-GDsx"
      },
      "source": [],
      "execution_count": null,
      "outputs": []
    }
  ]
}