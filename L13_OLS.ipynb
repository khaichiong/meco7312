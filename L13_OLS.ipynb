{
  "nbformat": 4,
  "nbformat_minor": 0,
  "metadata": {
    "colab": {
      "name": "L13_OLS.ipynb",
      "provenance": [],
      "authorship_tag": "ABX9TyPsZw7hDcUbxBMjkk74EfY6",
      "include_colab_link": true
    },
    "kernelspec": {
      "name": "python3",
      "display_name": "Python 3"
    },
    "language_info": {
      "name": "python"
    }
  },
  "cells": [
    {
      "cell_type": "markdown",
      "metadata": {
        "id": "view-in-github",
        "colab_type": "text"
      },
      "source": [
        "<a href=\"https://colab.research.google.com/github/khaichiong/meco7312/blob/master/L13_OLS.ipynb\" target=\"_parent\"><img src=\"https://colab.research.google.com/assets/colab-badge.svg\" alt=\"Open In Colab\"/></a>"
      ]
    },
    {
      "cell_type": "code",
      "metadata": {
        "colab": {
          "base_uri": "https://localhost:8080/"
        },
        "id": "IxZnbdOs5xFS",
        "outputId": "710b6e05-d853-42ff-dc40-fd5c97784db0"
      },
      "source": [
        "import numpy as np\n",
        "import pandas as pd\n",
        "import os\n",
        "import matplotlib.pyplot as plt\n",
        "import statsmodels.formula.api as sm\n",
        "from numpy.linalg import inv"
      ],
      "execution_count": null,
      "outputs": [
        {
          "output_type": "stream",
          "name": "stderr",
          "text": [
            "/usr/local/lib/python3.7/dist-packages/statsmodels/tools/_testing.py:19: FutureWarning: pandas.util.testing is deprecated. Use the functions in the public API at pandas.testing instead.\n",
            "  import pandas.util.testing as tm\n"
          ]
        }
      ]
    },
    {
      "cell_type": "markdown",
      "metadata": {
        "id": "Ucp5PC7a7oo0"
      },
      "source": [
        "## Generate data\n",
        "\n",
        "Generate data according to the linear model $y_{i} = 2 - 4x_{i1} + 0.5x_{i2} + \\epsilon_{i}$"
      ]
    },
    {
      "cell_type": "code",
      "metadata": {
        "id": "TBd2rpp-7pDF"
      },
      "source": [
        "n = 1000 #sample size, number of observations\n",
        "e = np.random.normal(0,np.sqrt(2),(n,1)) #error term\n",
        "x1 = np.random.exponential(2,(n,1)) \n",
        "x2 = np.random.normal(-1,1,(n,1))\n",
        "y = 2 - 3*x1 + 0.5*x2 + e"
      ],
      "execution_count": null,
      "outputs": []
    },
    {
      "cell_type": "markdown",
      "metadata": {
        "id": "dnmRh5K78YC9"
      },
      "source": [
        "Stack data in a data matrix, and create pandas dataframe object"
      ]
    },
    {
      "cell_type": "code",
      "metadata": {
        "id": "In9vDk1q8MhO"
      },
      "source": [
        "X = np.concatenate((np.ones((n,1)),x1,x2),axis=1)\n",
        "df = pd.DataFrame(np.concatenate((y,X),axis=1),columns=['Spending', 'Intercept', 'Age','Income'])"
      ],
      "execution_count": null,
      "outputs": []
    },
    {
      "cell_type": "code",
      "metadata": {
        "colab": {
          "base_uri": "https://localhost:8080/",
          "height": 204
        },
        "id": "OsyEpKtM8jTY",
        "outputId": "dd627439-2b28-48d5-a5dd-7a36491e3176"
      },
      "source": [
        "df.head()"
      ],
      "execution_count": null,
      "outputs": [
        {
          "output_type": "execute_result",
          "data": {
            "text/html": [
              "<div>\n",
              "<style scoped>\n",
              "    .dataframe tbody tr th:only-of-type {\n",
              "        vertical-align: middle;\n",
              "    }\n",
              "\n",
              "    .dataframe tbody tr th {\n",
              "        vertical-align: top;\n",
              "    }\n",
              "\n",
              "    .dataframe thead th {\n",
              "        text-align: right;\n",
              "    }\n",
              "</style>\n",
              "<table border=\"1\" class=\"dataframe\">\n",
              "  <thead>\n",
              "    <tr style=\"text-align: right;\">\n",
              "      <th></th>\n",
              "      <th>Spending</th>\n",
              "      <th>Intercept</th>\n",
              "      <th>Age</th>\n",
              "      <th>Income</th>\n",
              "    </tr>\n",
              "  </thead>\n",
              "  <tbody>\n",
              "    <tr>\n",
              "      <th>0</th>\n",
              "      <td>-2.177458</td>\n",
              "      <td>1.0</td>\n",
              "      <td>1.282780</td>\n",
              "      <td>-0.427104</td>\n",
              "    </tr>\n",
              "    <tr>\n",
              "      <th>1</th>\n",
              "      <td>-1.029388</td>\n",
              "      <td>1.0</td>\n",
              "      <td>0.815241</td>\n",
              "      <td>-0.002973</td>\n",
              "    </tr>\n",
              "    <tr>\n",
              "      <th>2</th>\n",
              "      <td>-9.342586</td>\n",
              "      <td>1.0</td>\n",
              "      <td>4.293476</td>\n",
              "      <td>-0.508050</td>\n",
              "    </tr>\n",
              "    <tr>\n",
              "      <th>3</th>\n",
              "      <td>-5.305171</td>\n",
              "      <td>1.0</td>\n",
              "      <td>2.293010</td>\n",
              "      <td>-0.608761</td>\n",
              "    </tr>\n",
              "    <tr>\n",
              "      <th>4</th>\n",
              "      <td>-3.403129</td>\n",
              "      <td>1.0</td>\n",
              "      <td>1.220889</td>\n",
              "      <td>-1.796661</td>\n",
              "    </tr>\n",
              "  </tbody>\n",
              "</table>\n",
              "</div>"
            ],
            "text/plain": [
              "   Spending  Intercept       Age    Income\n",
              "0 -2.177458        1.0  1.282780 -0.427104\n",
              "1 -1.029388        1.0  0.815241 -0.002973\n",
              "2 -9.342586        1.0  4.293476 -0.508050\n",
              "3 -5.305171        1.0  2.293010 -0.608761\n",
              "4 -3.403129        1.0  1.220889 -1.796661"
            ]
          },
          "metadata": {},
          "execution_count": 4
        }
      ]
    },
    {
      "cell_type": "markdown",
      "metadata": {
        "id": "8wpgsP8w-z1O"
      },
      "source": [
        "## OLS estimator\n",
        "\n",
        "$\\beta = (X'X)^{-1}X^{T}y$"
      ]
    },
    {
      "cell_type": "code",
      "metadata": {
        "colab": {
          "base_uri": "https://localhost:8080/"
        },
        "id": "gWP_fk36-c_T",
        "outputId": "c7f1761b-e2fd-4b75-aa85-e6f6d07fb25d"
      },
      "source": [
        "b = np.matmul(np.matmul(inv(np.matmul(np.transpose(X),X)),np.transpose(X)),y)\n",
        "print(b)"
      ],
      "execution_count": null,
      "outputs": [
        {
          "output_type": "stream",
          "name": "stdout",
          "text": [
            "[[ 2.07943462]\n",
            " [-3.01277273]\n",
            " [ 0.51327929]]\n"
          ]
        }
      ]
    },
    {
      "cell_type": "code",
      "metadata": {
        "id": "-7ZOHZpuyWZs"
      },
      "source": [
        "X=np.asmatrix(X)\n",
        "y=np.asmatrix(y)\n",
        "((((X.T)*X).I)*X.T)*y"
      ],
      "execution_count": null,
      "outputs": []
    },
    {
      "cell_type": "markdown",
      "metadata": {
        "id": "3G-6zfu1_8ps"
      },
      "source": [
        "Compare with estimates from OLS package"
      ]
    },
    {
      "cell_type": "code",
      "metadata": {
        "id": "d2MdQ0PF-5Kw"
      },
      "source": [
        "result = sm.ols('Spending ~ Age + Income',data=df).fit()"
      ],
      "execution_count": null,
      "outputs": []
    },
    {
      "cell_type": "code",
      "metadata": {
        "colab": {
          "base_uri": "https://localhost:8080/"
        },
        "id": "Qjjk_EsCARAw",
        "outputId": "037a2d80-afb7-427b-d9a1-8a96f765148a"
      },
      "source": [
        "print(result.summary())"
      ],
      "execution_count": null,
      "outputs": [
        {
          "output_type": "stream",
          "name": "stdout",
          "text": [
            "                            OLS Regression Results                            \n",
            "==============================================================================\n",
            "Dep. Variable:               Spending   R-squared:                       0.950\n",
            "Model:                            OLS   Adj. R-squared:                  0.950\n",
            "Method:                 Least Squares   F-statistic:                     9461.\n",
            "Date:                Wed, 17 Nov 2021   Prob (F-statistic):               0.00\n",
            "Time:                        10:40:38   Log-Likelihood:                -1768.7\n",
            "No. Observations:                1000   AIC:                             3543.\n",
            "Df Residuals:                     997   BIC:                             3558.\n",
            "Df Model:                           2                                         \n",
            "Covariance Type:            nonrobust                                         \n",
            "==============================================================================\n",
            "                 coef    std err          t      P>|t|      [0.025      0.975]\n",
            "------------------------------------------------------------------------------\n",
            "Intercept      2.0794      0.078     26.602      0.000       1.926       2.233\n",
            "Age           -3.0128      0.022   -137.227      0.000      -3.056      -2.970\n",
            "Income         0.5133      0.044     11.574      0.000       0.426       0.600\n",
            "==============================================================================\n",
            "Omnibus:                        5.951   Durbin-Watson:                   1.962\n",
            "Prob(Omnibus):                  0.051   Jarque-Bera (JB):                7.484\n",
            "Skew:                          -0.042   Prob(JB):                       0.0237\n",
            "Kurtosis:                       3.415   Cond. No.                         5.73\n",
            "==============================================================================\n",
            "\n",
            "Warnings:\n",
            "[1] Standard Errors assume that the covariance matrix of the errors is correctly specified.\n"
          ]
        }
      ]
    },
    {
      "cell_type": "markdown",
      "metadata": {
        "id": "SIvMBkWNSzpX"
      },
      "source": [
        "## Multicollinearity"
      ]
    },
    {
      "cell_type": "markdown",
      "metadata": {
        "id": "8A7AE9euS-OH"
      },
      "source": [
        "When the regressors are highly collinear, OLS estimates become highly imprecise"
      ]
    },
    {
      "cell_type": "code",
      "metadata": {
        "colab": {
          "base_uri": "https://localhost:8080/"
        },
        "id": "M4-2tLz7S2XS",
        "outputId": "3a137f54-62fd-4ebb-b300-5c1ee851b888"
      },
      "source": [
        "n = 1000 #sample size, number of observations\n",
        "e = np.random.normal(0,np.sqrt(2),(n,1)) #error term\n",
        "x1 = np.random.exponential(2,(n,1)) \n",
        "x2 = 3*x1 - 2 + np.random.normal(0,0.0001,(n,1))\n",
        "y = 2 - 3*x1 + 0.5*x2 + e\n",
        "X = np.concatenate((np.ones((n,1)),x1,x2),axis=1) #stack data in a data matrix\n",
        "b = np.matmul(np.matmul(inv(np.matmul(np.transpose(X),X)),np.transpose(X)),y)\n",
        "print(b)\n",
        "#run this block multiple times"
      ],
      "execution_count": null,
      "outputs": [
        {
          "output_type": "stream",
          "name": "stdout",
          "text": [
            "[[-2157.03970412]\n",
            " [ 3235.46914813]\n",
            " [-1078.99143743]]\n"
          ]
        }
      ]
    },
    {
      "cell_type": "markdown",
      "metadata": {
        "id": "-AJl807kS1ox"
      },
      "source": [
        "When the condition number of X'X is above 30, the regression may have significant multicollinearity"
      ]
    },
    {
      "cell_type": "code",
      "metadata": {
        "colab": {
          "base_uri": "https://localhost:8080/"
        },
        "id": "bYW9Fbs5UFkh",
        "outputId": "f665c063-cc89-40e4-956d-2733dbc46e2f"
      },
      "source": [
        "np.linalg.cond(np.matmul(np.transpose(X),X))"
      ],
      "execution_count": null,
      "outputs": [
        {
          "output_type": "execute_result",
          "data": {
            "text/plain": [
              "68348614111.67602"
            ]
          },
          "metadata": {},
          "execution_count": 9
        }
      ]
    },
    {
      "cell_type": "code",
      "metadata": {
        "colab": {
          "base_uri": "https://localhost:8080/"
        },
        "id": "XLPQbh-nezII",
        "outputId": "3a6f96c4-2c04-47b1-e348-d4f0eaa207b4"
      },
      "source": [
        "X = np.concatenate((np.ones((n,1)),x1,x2),axis=1)\n",
        "df = pd.DataFrame(np.concatenate((y,X),axis=1),columns=['Spending', 'Intercept', 'Age','Income'])\n",
        "result = sm.ols('Spending ~ Age + Income',data=df).fit()\n",
        "print(result.summary())"
      ],
      "execution_count": null,
      "outputs": [
        {
          "output_type": "stream",
          "name": "stdout",
          "text": [
            "                            OLS Regression Results                            \n",
            "==============================================================================\n",
            "Dep. Variable:               Spending   R-squared:                       0.779\n",
            "Model:                            OLS   Adj. R-squared:                  0.779\n",
            "Method:                 Least Squares   F-statistic:                     1760.\n",
            "Date:                Wed, 17 Nov 2021   Prob (F-statistic):               0.00\n",
            "Time:                        10:40:38   Log-Likelihood:                -1780.8\n",
            "No. Observations:                1000   AIC:                             3568.\n",
            "Df Residuals:                     997   BIC:                             3582.\n",
            "Df Model:                           2                                         \n",
            "Covariance Type:            nonrobust                                         \n",
            "==============================================================================\n",
            "                 coef    std err          t      P>|t|      [0.025      0.975]\n",
            "------------------------------------------------------------------------------\n",
            "Intercept  -2157.0402    909.904     -2.371      0.018   -3942.588    -371.493\n",
            "Age         3235.4700   1364.861      2.371      0.018     557.140    5913.800\n",
            "Income     -1078.9917    454.954     -2.372      0.018   -1971.768    -186.215\n",
            "==============================================================================\n",
            "Omnibus:                        0.614   Durbin-Watson:                   2.036\n",
            "Prob(Omnibus):                  0.736   Jarque-Bera (JB):                0.692\n",
            "Skew:                           0.050   Prob(JB):                        0.708\n",
            "Kurtosis:                       2.919   Cond. No.                     2.61e+05\n",
            "==============================================================================\n",
            "\n",
            "Warnings:\n",
            "[1] Standard Errors assume that the covariance matrix of the errors is correctly specified.\n",
            "[2] The condition number is large, 2.61e+05. This might indicate that there are\n",
            "strong multicollinearity or other numerical problems.\n"
          ]
        }
      ]
    },
    {
      "cell_type": "markdown",
      "metadata": {
        "id": "d854aoShDNjg"
      },
      "source": [
        "## Omitting a variable\n",
        "\n",
        "Suppose we omit x2 (estimating a misspecified model)."
      ]
    },
    {
      "cell_type": "code",
      "metadata": {
        "id": "t-GG6H7BArgS"
      },
      "source": [
        "X = np.concatenate((np.ones((n,1)),x1),axis=1)"
      ],
      "execution_count": null,
      "outputs": []
    },
    {
      "cell_type": "code",
      "metadata": {
        "colab": {
          "base_uri": "https://localhost:8080/"
        },
        "id": "JIJTKQEYDdQp",
        "outputId": "7fb3197b-b5ef-48ef-983b-c8be3eb09402"
      },
      "source": [
        "b = np.matmul(np.matmul(inv(np.matmul(np.transpose(X),X)),np.transpose(X)),y)\n",
        "print(b)"
      ],
      "execution_count": null,
      "outputs": [
        {
          "output_type": "stream",
          "name": "stdout",
          "text": [
            "[[ 0.93606163]\n",
            " [-1.5042855 ]]\n"
          ]
        }
      ]
    },
    {
      "cell_type": "markdown",
      "metadata": {
        "id": "1CIiiQPHDl5d"
      },
      "source": [
        "Surprisingly, we still get consistent estimate for the coefficient of x1! That is because x1 and x2 are independent. Now assume a data-generating process where x1 and x2 are not independent.\n"
      ]
    },
    {
      "cell_type": "code",
      "metadata": {
        "id": "RjA3ncXhDhPr"
      },
      "source": [
        "n = 1000 #sample size, number of observations\n",
        "e = np.random.normal(0,np.sqrt(2),(n,)) #error term\n",
        "sigma = np.array([[1,1.5],[1.5,3]])\n",
        "x = np.random.multivariate_normal(np.array([1,2]),sigma,(n,))\n",
        "np.shape(x)\n",
        "y = 2 - 3*x[:,0] + 0.5*x[:,1] + e"
      ],
      "execution_count": null,
      "outputs": []
    },
    {
      "cell_type": "code",
      "metadata": {
        "colab": {
          "base_uri": "https://localhost:8080/"
        },
        "id": "-FSk5GLIEJNa",
        "outputId": "4bb9315c-cd12-41b2-b674-6fa134a0fc12"
      },
      "source": [
        "#ols estimator for the correct specification\n",
        "X = np.concatenate((np.ones((n,1)),x),axis=1) #stack data in a data matrix\n",
        "b = np.matmul(np.matmul(inv(np.matmul(np.transpose(X),X)),np.transpose(X)),y)\n",
        "print(b)"
      ],
      "execution_count": null,
      "outputs": [
        {
          "output_type": "stream",
          "name": "stdout",
          "text": [
            "[ 1.94584289 -2.92398208  0.49657136]\n"
          ]
        }
      ]
    },
    {
      "cell_type": "code",
      "metadata": {
        "colab": {
          "base_uri": "https://localhost:8080/"
        },
        "id": "PZ0KM0CRFSsa",
        "outputId": "325339e8-6e73-4a89-918d-090323cdda1f"
      },
      "source": [
        "#ols estimator omitting x2\n",
        "X = np.concatenate((np.ones((n,1)),x[:,0].reshape(-1,1)),axis=1) #stack data in a data matrix\n",
        "b = np.matmul(np.matmul(inv(np.matmul(np.transpose(X),X)),np.transpose(X)),y)\n",
        "print(b)"
      ],
      "execution_count": null,
      "outputs": [
        {
          "output_type": "stream",
          "name": "stdout",
          "text": [
            "[ 2.18939954 -2.19825046]\n"
          ]
        }
      ]
    },
    {
      "cell_type": "code",
      "metadata": {
        "id": "lkpbh4g-GDsx"
      },
      "source": [
        ""
      ],
      "execution_count": null,
      "outputs": []
    }
  ]
}