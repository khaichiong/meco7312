{
  "nbformat": 4,
  "nbformat_minor": 0,
  "metadata": {
    "colab": {
      "name": "L13_OLS.ipynb",
      "provenance": [],
      "authorship_tag": "ABX9TyPfYEdE/wdRgxRWYjWSTNsC",
      "include_colab_link": true
    },
    "kernelspec": {
      "name": "python3",
      "display_name": "Python 3"
    },
    "language_info": {
      "name": "python"
    }
  },
  "cells": [
    {
      "cell_type": "markdown",
      "metadata": {
        "id": "view-in-github",
        "colab_type": "text"
      },
      "source": [
        "<a href=\"https://colab.research.google.com/github/khaichiong/meco7312/blob/master/L13_OLS.ipynb\" target=\"_parent\"><img src=\"https://colab.research.google.com/assets/colab-badge.svg\" alt=\"Open In Colab\"/></a>"
      ]
    },
    {
      "cell_type": "code",
      "metadata": {
        "id": "IxZnbdOs5xFS"
      },
      "source": [
        "import numpy as np\n",
        "import pandas as pd\n",
        "import os\n",
        "import matplotlib.pyplot as plt\n",
        "import statsmodels.formula.api as sm\n",
        "from numpy.linalg import inv"
      ],
      "execution_count": 44,
      "outputs": []
    },
    {
      "cell_type": "markdown",
      "metadata": {
        "id": "Ucp5PC7a7oo0"
      },
      "source": [
        "## Generate data\n",
        "\n",
        "Generate data according to the linear model $y_{i} = 2 - 4x_{i1} + 0.5x_{i2} + \\epsilon_{i}$"
      ]
    },
    {
      "cell_type": "code",
      "metadata": {
        "id": "TBd2rpp-7pDF"
      },
      "source": [
        "n = 1000 #sample size, number of observations\n",
        "e = np.random.normal(0,np.sqrt(2),(n,1)) #error term\n",
        "x1 = np.random.exponential(2,(n,1)) \n",
        "x2 = np.random.normal(-1,1,(n,1))\n",
        "y = 2 - 3*x1 + 0.5*x2 + e"
      ],
      "execution_count": 100,
      "outputs": []
    },
    {
      "cell_type": "markdown",
      "metadata": {
        "id": "dnmRh5K78YC9"
      },
      "source": [
        "Stack data in a data matrix, and create pandas dataframe object"
      ]
    },
    {
      "cell_type": "code",
      "metadata": {
        "id": "In9vDk1q8MhO"
      },
      "source": [
        "X = np.concatenate((np.ones((n,1)),x1,x2),axis=1)\n",
        "df = pd.DataFrame(np.concatenate((y,X),axis=1),columns=['Spending', 'Intercept', 'Age','Income'])"
      ],
      "execution_count": 101,
      "outputs": []
    },
    {
      "cell_type": "code",
      "metadata": {
        "colab": {
          "base_uri": "https://localhost:8080/",
          "height": 204
        },
        "id": "OsyEpKtM8jTY",
        "outputId": "27683c3b-b0a2-4aa9-c2ce-b1cc47f56e9b"
      },
      "source": [
        "df.head()"
      ],
      "execution_count": 35,
      "outputs": [
        {
          "output_type": "execute_result",
          "data": {
            "text/html": [
              "<div>\n",
              "<style scoped>\n",
              "    .dataframe tbody tr th:only-of-type {\n",
              "        vertical-align: middle;\n",
              "    }\n",
              "\n",
              "    .dataframe tbody tr th {\n",
              "        vertical-align: top;\n",
              "    }\n",
              "\n",
              "    .dataframe thead th {\n",
              "        text-align: right;\n",
              "    }\n",
              "</style>\n",
              "<table border=\"1\" class=\"dataframe\">\n",
              "  <thead>\n",
              "    <tr style=\"text-align: right;\">\n",
              "      <th></th>\n",
              "      <th>Spending</th>\n",
              "      <th>Intercept</th>\n",
              "      <th>Age</th>\n",
              "      <th>Income</th>\n",
              "    </tr>\n",
              "  </thead>\n",
              "  <tbody>\n",
              "    <tr>\n",
              "      <th>0</th>\n",
              "      <td>-13.086769</td>\n",
              "      <td>1.0</td>\n",
              "      <td>5.068038</td>\n",
              "      <td>-3.541896</td>\n",
              "    </tr>\n",
              "    <tr>\n",
              "      <th>1</th>\n",
              "      <td>0.426572</td>\n",
              "      <td>1.0</td>\n",
              "      <td>0.467618</td>\n",
              "      <td>-0.607608</td>\n",
              "    </tr>\n",
              "    <tr>\n",
              "      <th>2</th>\n",
              "      <td>-1.522705</td>\n",
              "      <td>1.0</td>\n",
              "      <td>1.464857</td>\n",
              "      <td>-0.649126</td>\n",
              "    </tr>\n",
              "    <tr>\n",
              "      <th>3</th>\n",
              "      <td>-2.166404</td>\n",
              "      <td>1.0</td>\n",
              "      <td>1.104383</td>\n",
              "      <td>-1.131389</td>\n",
              "    </tr>\n",
              "    <tr>\n",
              "      <th>4</th>\n",
              "      <td>2.872789</td>\n",
              "      <td>1.0</td>\n",
              "      <td>0.017304</td>\n",
              "      <td>-0.671162</td>\n",
              "    </tr>\n",
              "  </tbody>\n",
              "</table>\n",
              "</div>"
            ],
            "text/plain": [
              "    Spending  Intercept       Age    Income\n",
              "0 -13.086769        1.0  5.068038 -3.541896\n",
              "1   0.426572        1.0  0.467618 -0.607608\n",
              "2  -1.522705        1.0  1.464857 -0.649126\n",
              "3  -2.166404        1.0  1.104383 -1.131389\n",
              "4   2.872789        1.0  0.017304 -0.671162"
            ]
          },
          "metadata": {},
          "execution_count": 35
        }
      ]
    },
    {
      "cell_type": "markdown",
      "metadata": {
        "id": "8wpgsP8w-z1O"
      },
      "source": [
        "## OLS estimator\n",
        "\n",
        "$\\beta = (X'X)^{-1}X^{T}y$"
      ]
    },
    {
      "cell_type": "code",
      "metadata": {
        "colab": {
          "base_uri": "https://localhost:8080/"
        },
        "id": "gWP_fk36-c_T",
        "outputId": "aaad4b84-052e-4c73-870e-70597567e611"
      },
      "source": [
        "b = np.matmul(np.matmul(inv(np.matmul(np.transpose(X),X)),np.transpose(X)),y)\n",
        "print(b)"
      ],
      "execution_count": 58,
      "outputs": [
        {
          "output_type": "stream",
          "name": "stdout",
          "text": [
            "[[ 1.50029657]\n",
            " [-3.00075668]]\n"
          ]
        }
      ]
    },
    {
      "cell_type": "markdown",
      "metadata": {
        "id": "3G-6zfu1_8ps"
      },
      "source": [
        "Compare with estimates from OLS package"
      ]
    },
    {
      "cell_type": "code",
      "metadata": {
        "id": "d2MdQ0PF-5Kw"
      },
      "source": [
        "result = sm.ols('Spending ~ Age + Income',data=df).fit()"
      ],
      "execution_count": 51,
      "outputs": []
    },
    {
      "cell_type": "code",
      "metadata": {
        "colab": {
          "base_uri": "https://localhost:8080/"
        },
        "id": "Qjjk_EsCARAw",
        "outputId": "d8131477-5338-49f0-d0f4-f04dcf723bd7"
      },
      "source": [
        "print(result.summary())"
      ],
      "execution_count": 54,
      "outputs": [
        {
          "output_type": "stream",
          "name": "stdout",
          "text": [
            "                            OLS Regression Results                            \n",
            "==============================================================================\n",
            "Dep. Variable:               Spending   R-squared:                       0.957\n",
            "Model:                            OLS   Adj. R-squared:                  0.957\n",
            "Method:                 Least Squares   F-statistic:                 1.116e+04\n",
            "Date:                Wed, 17 Nov 2021   Prob (F-statistic):               0.00\n",
            "Time:                        08:28:28   Log-Likelihood:                -1736.9\n",
            "No. Observations:                1000   AIC:                             3480.\n",
            "Df Residuals:                     997   BIC:                             3494.\n",
            "Df Model:                           2                                         \n",
            "Covariance Type:            nonrobust                                         \n",
            "==============================================================================\n",
            "                 coef    std err          t      P>|t|      [0.025      0.975]\n",
            "------------------------------------------------------------------------------\n",
            "Intercept      2.0308      0.073     27.763      0.000       1.887       2.174\n",
            "Age           -3.0011      0.020   -148.835      0.000      -3.041      -2.962\n",
            "Income         0.5525      0.042     13.033      0.000       0.469       0.636\n",
            "==============================================================================\n",
            "Omnibus:                        1.465   Durbin-Watson:                   2.086\n",
            "Prob(Omnibus):                  0.481   Jarque-Bera (JB):                1.367\n",
            "Skew:                           0.034   Prob(JB):                        0.505\n",
            "Kurtosis:                       3.168   Cond. No.                         5.75\n",
            "==============================================================================\n",
            "\n",
            "Warnings:\n",
            "[1] Standard Errors assume that the covariance matrix of the errors is correctly specified.\n"
          ]
        }
      ]
    },
    {
      "cell_type": "markdown",
      "metadata": {
        "id": "SIvMBkWNSzpX"
      },
      "source": [
        "## Multicollinearity"
      ]
    },
    {
      "cell_type": "markdown",
      "metadata": {
        "id": "8A7AE9euS-OH"
      },
      "source": [
        "When the regressors are highly collinear, OLS estimates become highly imprecise"
      ]
    },
    {
      "cell_type": "code",
      "metadata": {
        "colab": {
          "base_uri": "https://localhost:8080/"
        },
        "id": "M4-2tLz7S2XS",
        "outputId": "05b0b9f6-51ea-4303-d91f-f7b7d8a92b14"
      },
      "source": [
        "n = 1000 #sample size, number of observations\n",
        "e = np.random.normal(0,np.sqrt(2),(n,1)) #error term\n",
        "x1 = np.random.exponential(2,(n,1)) \n",
        "x2 = 3*x1 - 2 + np.random.normal(0,0.0001,(n,1))\n",
        "y = 2 - 3*x1 + 0.5*x2 + e\n",
        "X = np.concatenate((np.ones((n,1)),x1,x2),axis=1) #stack data in a data matrix\n",
        "b = np.matmul(np.matmul(inv(np.matmul(np.transpose(X),X)),np.transpose(X)),y)\n",
        "print(b)\n",
        "#run this block multiple times"
      ],
      "execution_count": 133,
      "outputs": [
        {
          "output_type": "stream",
          "name": "stdout",
          "text": [
            "[[ 482.81302311]\n",
            " [-724.28424139]\n",
            " [ 240.93513062]]\n"
          ]
        }
      ]
    },
    {
      "cell_type": "markdown",
      "metadata": {
        "id": "-AJl807kS1ox"
      },
      "source": [
        "When the condition number of X'X is above 30, the regression may have significant multicollinearity"
      ]
    },
    {
      "cell_type": "code",
      "metadata": {
        "colab": {
          "base_uri": "https://localhost:8080/"
        },
        "id": "bYW9Fbs5UFkh",
        "outputId": "47119a5c-14eb-4988-f4f1-de10f0a3eefa"
      },
      "source": [
        "np.linalg.cond(np.matmul(np.transpose(X),X))"
      ],
      "execution_count": 134,
      "outputs": [
        {
          "output_type": "execute_result",
          "data": {
            "text/plain": [
              "77330048965.87491"
            ]
          },
          "metadata": {},
          "execution_count": 134
        }
      ]
    },
    {
      "cell_type": "markdown",
      "metadata": {
        "id": "d854aoShDNjg"
      },
      "source": [
        "## Omitting a variable\n",
        "\n",
        "Suppose we omit x2 (estimating a misspecified model)."
      ]
    },
    {
      "cell_type": "code",
      "metadata": {
        "id": "t-GG6H7BArgS"
      },
      "source": [
        "X = np.concatenate((np.ones((n,1)),x1),axis=1)"
      ],
      "execution_count": 102,
      "outputs": []
    },
    {
      "cell_type": "code",
      "metadata": {
        "colab": {
          "base_uri": "https://localhost:8080/"
        },
        "id": "JIJTKQEYDdQp",
        "outputId": "e554a8ec-28f5-4d34-fa45-f980e98e3e6f"
      },
      "source": [
        "b = np.matmul(np.matmul(inv(np.matmul(np.transpose(X),X)),np.transpose(X)),y)\n",
        "print(b)"
      ],
      "execution_count": 103,
      "outputs": [
        {
          "output_type": "stream",
          "name": "stdout",
          "text": [
            "[[ 1.35518965]\n",
            " [-2.95971221]]\n"
          ]
        }
      ]
    },
    {
      "cell_type": "markdown",
      "metadata": {
        "id": "1CIiiQPHDl5d"
      },
      "source": [
        "Surprisingly, we still get consistent estimate for the coefficient of x1! That is because x1 and x2 are independent. Now assume a data-generating process where x1 and x2 are not independent.\n"
      ]
    },
    {
      "cell_type": "code",
      "metadata": {
        "id": "RjA3ncXhDhPr"
      },
      "source": [
        "n = 1000 #sample size, number of observations\n",
        "e = np.random.normal(0,np.sqrt(2),(n,)) #error term\n",
        "sigma = np.array([[1,1.5],[1.5,3]])\n",
        "x = np.random.multivariate_normal(np.array([1,2]),sigma,(n,))\n",
        "np.shape(x)\n",
        "y = 2 - 3*x[:,0] + 0.5*x[:,1] + e"
      ],
      "execution_count": 84,
      "outputs": []
    },
    {
      "cell_type": "code",
      "metadata": {
        "colab": {
          "base_uri": "https://localhost:8080/"
        },
        "id": "-FSk5GLIEJNa",
        "outputId": "c0b7abfa-7970-45cc-e2c3-105ba520f42f"
      },
      "source": [
        "#ols estimator for the correct specification\n",
        "X = np.concatenate((np.ones((n,1)),x),axis=1) #stack data in a data matrix\n",
        "b = np.matmul(np.matmul(inv(np.matmul(np.transpose(X),X)),np.transpose(X)),y)\n",
        "print(b)"
      ],
      "execution_count": 94,
      "outputs": [
        {
          "output_type": "stream",
          "name": "stdout",
          "text": [
            "[ 2.02532012 -3.01368559  0.4914241 ]\n"
          ]
        }
      ]
    },
    {
      "cell_type": "code",
      "metadata": {
        "colab": {
          "base_uri": "https://localhost:8080/"
        },
        "id": "PZ0KM0CRFSsa",
        "outputId": "66818941-ed22-4c2e-ec1f-14c65bf2f3c2"
      },
      "source": [
        "#ols estimator omitting x2\n",
        "X = np.concatenate((np.ones((n,1)),x[:,0].reshape(-1,1)),axis=1) #stack data in a data matrix\n",
        "b = np.matmul(np.matmul(inv(np.matmul(np.transpose(X),X)),np.transpose(X)),y)\n",
        "print(b)"
      ],
      "execution_count": 98,
      "outputs": [
        {
          "output_type": "stream",
          "name": "stdout",
          "text": [
            "[ 2.25342743 -2.25596839]\n"
          ]
        }
      ]
    },
    {
      "cell_type": "code",
      "metadata": {
        "id": "lkpbh4g-GDsx"
      },
      "source": [
        ""
      ],
      "execution_count": null,
      "outputs": []
    }
  ]
}