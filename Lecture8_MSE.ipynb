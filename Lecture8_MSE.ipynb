{
  "nbformat": 4,
  "nbformat_minor": 0,
  "metadata": {
    "colab": {
      "name": "Lecture8_MSE.ipynb",
      "provenance": [],
      "authorship_tag": "ABX9TyPcftCQO8jmkabRNZa0Cphy",
      "include_colab_link": true
    },
    "kernelspec": {
      "name": "python3",
      "display_name": "Python 3"
    },
    "language_info": {
      "name": "python"
    }
  },
  "cells": [
    {
      "cell_type": "markdown",
      "metadata": {
        "id": "view-in-github",
        "colab_type": "text"
      },
      "source": [
        "<a href=\"https://colab.research.google.com/github/khaichiong/meco7312/blob/master/Lecture8_MSE.ipynb\" target=\"_parent\"><img src=\"https://colab.research.google.com/assets/colab-badge.svg\" alt=\"Open In Colab\"/></a>"
      ]
    },
    {
      "cell_type": "markdown",
      "metadata": {
        "id": "N-R2Moc4af28"
      },
      "source": [
        "# Monte Carlo simulation for calculating bias and variance of an estimator"
      ]
    },
    {
      "cell_type": "code",
      "metadata": {
        "id": "kIY7Nh2aaMZy"
      },
      "source": [
        "import numpy as np"
      ],
      "execution_count": 1,
      "outputs": []
    },
    {
      "cell_type": "code",
      "metadata": {
        "id": "1Q6oB1bBaQmm"
      },
      "source": [
        "n = 20 #sample size\n",
        "s = 10000 #number of experiments\n",
        "x = np.random.uniform(0,2,(n,s))"
      ],
      "execution_count": 39,
      "outputs": []
    },
    {
      "cell_type": "code",
      "metadata": {
        "id": "HLluPPqxad3G"
      },
      "source": [
        "sample_mean = np.mean(x,axis=0)"
      ],
      "execution_count": 26,
      "outputs": []
    },
    {
      "cell_type": "markdown",
      "metadata": {
        "id": "CHJIC7V5badV"
      },
      "source": [
        "$bias^2 = (E[\\hat{\\theta}] - \\theta)^2$"
      ]
    },
    {
      "cell_type": "code",
      "metadata": {
        "colab": {
          "base_uri": "https://localhost:8080/"
        },
        "id": "irjryBUPatu5",
        "outputId": "07363bfb-5951-4d83-d717-19726de7e027"
      },
      "source": [
        "#ground truth, population mean parameter\n",
        "theta = 1 \n",
        "#square of bias\n",
        "(np.mean(sample_mean) - theta)**2"
      ],
      "execution_count": 27,
      "outputs": [
        {
          "output_type": "execute_result",
          "data": {
            "text/plain": [
              "2.461716260388471e-07"
            ]
          },
          "metadata": {},
          "execution_count": 27
        }
      ]
    },
    {
      "cell_type": "markdown",
      "metadata": {
        "id": "BNRP65wccWhU"
      },
      "source": [
        "Variance of estimator = $Var(\\hat{\\theta})$"
      ]
    },
    {
      "cell_type": "code",
      "metadata": {
        "colab": {
          "base_uri": "https://localhost:8080/"
        },
        "id": "jr6fGrCibW23",
        "outputId": "dae30894-b78d-4c1a-d128-d03e97eb64fc"
      },
      "source": [
        "np.var(sample_mean)"
      ],
      "execution_count": 28,
      "outputs": [
        {
          "output_type": "execute_result",
          "data": {
            "text/plain": [
              "0.003359908017635363"
            ]
          },
          "metadata": {},
          "execution_count": 28
        }
      ]
    },
    {
      "cell_type": "markdown",
      "metadata": {
        "id": "iENst1Eoci23"
      },
      "source": [
        "Mean square error $E[(\\hat{\\theta} - \\theta)^2] = bias^2 + Var(\\hat{\\theta})$"
      ]
    },
    {
      "cell_type": "code",
      "metadata": {
        "colab": {
          "base_uri": "https://localhost:8080/"
        },
        "id": "elLkYVLTceg2",
        "outputId": "0d451d06-3f5a-4362-f421-6e7e26d61847"
      },
      "source": [
        "(np.mean(sample_mean) - theta)**2 + np.var(sample_mean) "
      ],
      "execution_count": 29,
      "outputs": [
        {
          "output_type": "execute_result",
          "data": {
            "text/plain": [
              "0.003360154189261402"
            ]
          },
          "metadata": {},
          "execution_count": 29
        }
      ]
    },
    {
      "cell_type": "markdown",
      "metadata": {
        "id": "TEVebVrfd-gQ"
      },
      "source": [
        "# Comparing the MSE of sample variance vs maximum likelihood estimator of variance, when DGP is uniform distribution"
      ]
    },
    {
      "cell_type": "code",
      "metadata": {
        "id": "vPp7CYHteMu9"
      },
      "source": [
        "n = 20 #sample size\n",
        "s = 10000 #number of experiments\n",
        "x = np.random.uniform(0,2,(n,s))\n",
        "#population variance, ground truth\n",
        "sigma = 1/3 "
      ],
      "execution_count": 48,
      "outputs": []
    },
    {
      "cell_type": "code",
      "metadata": {
        "id": "l28XDxQecu49"
      },
      "source": [
        "sample_var = np.var(x,axis=0,ddof=1)"
      ],
      "execution_count": 79,
      "outputs": []
    },
    {
      "cell_type": "code",
      "metadata": {
        "id": "Xo1A3DoidCp7"
      },
      "source": [
        "mle_var = np.var(x,axis=0,ddof=0)"
      ],
      "execution_count": 80,
      "outputs": []
    },
    {
      "cell_type": "code",
      "metadata": {
        "colab": {
          "base_uri": "https://localhost:8080/"
        },
        "id": "yHznOtWIdSDP",
        "outputId": "3db2af1f-57b3-4e26-fa02-4d7d6ab063f9"
      },
      "source": [
        "(np.mean(sample_var) - sigma)**2"
      ],
      "execution_count": 81,
      "outputs": [
        {
          "output_type": "execute_result",
          "data": {
            "text/plain": [
              "3.1809411402543624e-06"
            ]
          },
          "metadata": {},
          "execution_count": 81
        }
      ]
    },
    {
      "cell_type": "code",
      "metadata": {
        "colab": {
          "base_uri": "https://localhost:8080/"
        },
        "id": "AUvrhhf1dscO",
        "outputId": "e374aada-1731-49d1-a208-4268219399c9"
      },
      "source": [
        "(np.mean(mle_var) - sigma)**2"
      ],
      "execution_count": 82,
      "outputs": [
        {
          "output_type": "execute_result",
          "data": {
            "text/plain": [
              "0.002333436464633173"
            ]
          },
          "metadata": {},
          "execution_count": 82
        }
      ]
    },
    {
      "cell_type": "code",
      "metadata": {
        "colab": {
          "base_uri": "https://localhost:8080/"
        },
        "id": "H-xxJ0tmdHWB",
        "outputId": "79cc8e79-9375-48ac-874d-ec3a0391e1d2"
      },
      "source": [
        "(np.mean(sample_var) - sigma)**2  + np.var(sample_var)"
      ],
      "execution_count": 83,
      "outputs": [
        {
          "output_type": "execute_result",
          "data": {
            "text/plain": [
              "0.41626358301400523"
            ]
          },
          "metadata": {},
          "execution_count": 83
        }
      ]
    },
    {
      "cell_type": "code",
      "metadata": {
        "colab": {
          "base_uri": "https://localhost:8080/"
        },
        "id": "KfqRRiKKd2o1",
        "outputId": "a7d773f9-bb4c-40c5-d80a-285436366ce6"
      },
      "source": [
        "(np.mean(mle_var) - sigma)**2  + np.var(mle_var)"
      ],
      "execution_count": 84,
      "outputs": [
        {
          "output_type": "execute_result",
          "data": {
            "text/plain": [
              "0.3780084493353938"
            ]
          },
          "metadata": {},
          "execution_count": 84
        }
      ]
    },
    {
      "cell_type": "code",
      "metadata": {
        "id": "hWyLw6xKd4M6"
      },
      "source": [
        "n = 20 #sample size\n",
        "s = 10000 #number of experiments\n",
        "x = np.random.normal(0,1,(n,s))\n",
        "sigma = 1"
      ],
      "execution_count": 98,
      "outputs": []
    },
    {
      "cell_type": "code",
      "metadata": {
        "colab": {
          "base_uri": "https://localhost:8080/"
        },
        "id": "aqXu8uvVfPe4",
        "outputId": "2bbc3b3b-7502-4535-82f7-8b62b92a4481"
      },
      "source": [
        "sample_var = np.var(x,axis=0,ddof=1)\n",
        "mle_var = np.var(x,axis=0,ddof=0)\n",
        "print((np.mean(sample_var) - sigma)**2  + np.var(sample_var))\n",
        "print((np.mean(mle_var) - sigma)**2  + np.var(mle_var))"
      ],
      "execution_count": 99,
      "outputs": [
        {
          "output_type": "stream",
          "name": "stdout",
          "text": [
            "0.10669819469789023\n",
            "0.09907519457328147\n"
          ]
        }
      ]
    },
    {
      "cell_type": "code",
      "metadata": {
        "id": "4lr3rsh7ekP3"
      },
      "source": [
        "n = 10 #sample size\n",
        "s = 10000 #number of experiments\n",
        "x = np.random.exponential(1,(n,s))\n",
        "sigma = 1"
      ],
      "execution_count": 100,
      "outputs": []
    },
    {
      "cell_type": "code",
      "metadata": {
        "colab": {
          "base_uri": "https://localhost:8080/"
        },
        "id": "9fOh3eqYfBHU",
        "outputId": "83b0b0de-c8dc-417a-c044-e789824a3a52"
      },
      "source": [
        "sample_var = np.var(x,axis=0,ddof=1)\n",
        "mle_var = np.var(x,axis=0,ddof=0)\n",
        "print((np.mean(sample_var) - sigma)**2  + np.var(sample_var))\n",
        "print((np.mean(mle_var) - sigma)**2  + np.var(mle_var))"
      ],
      "execution_count": 101,
      "outputs": [
        {
          "output_type": "stream",
          "name": "stdout",
          "text": [
            "0.8172036806286984\n",
            "0.6714191815627986\n"
          ]
        }
      ]
    },
    {
      "cell_type": "code",
      "metadata": {
        "id": "IibNTODXfZGx"
      },
      "source": [
        ""
      ],
      "execution_count": null,
      "outputs": []
    }
  ]
}