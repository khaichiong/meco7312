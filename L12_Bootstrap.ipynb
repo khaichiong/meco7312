{
  "nbformat": 4,
  "nbformat_minor": 0,
  "metadata": {
    "colab": {
      "name": "L12_Bootstrap.ipynb",
      "provenance": [],
      "authorship_tag": "ABX9TyMuYsIn+prwK5CSeAT3G6HY",
      "include_colab_link": true
    },
    "kernelspec": {
      "name": "python3",
      "display_name": "Python 3"
    },
    "language_info": {
      "name": "python"
    }
  },
  "cells": [
    {
      "cell_type": "markdown",
      "metadata": {
        "id": "view-in-github",
        "colab_type": "text"
      },
      "source": [
        "<a href=\"https://colab.research.google.com/github/khaichiong/meco7312/blob/master/L12_Bootstrap.ipynb\" target=\"_parent\"><img src=\"https://colab.research.google.com/assets/colab-badge.svg\" alt=\"Open In Colab\"/></a>"
      ]
    },
    {
      "cell_type": "markdown",
      "metadata": {
        "id": "NueJK7sN5B9D"
      },
      "source": [
        "# Bootstrapping as a tool to obtain the sampling distribution of a statistic"
      ]
    },
    {
      "cell_type": "code",
      "metadata": {
        "id": "hkqjrKpIrHDK"
      },
      "source": [
        "import numpy as np\n",
        "import matplotlib.pyplot as plt\n",
        "from scipy.stats import norm"
      ],
      "execution_count": 296,
      "outputs": []
    },
    {
      "cell_type": "markdown",
      "source": [
        "The data-generating process is exponential with parameter ld"
      ],
      "metadata": {
        "id": "rGDjzkIwkxaL"
      }
    },
    {
      "cell_type": "code",
      "source": [
        "ld = 0.5 #rate parameter\n",
        "n = 1000 #sample size"
      ],
      "metadata": {
        "id": "4xSpiHmAkcqq"
      },
      "execution_count": 297,
      "outputs": []
    },
    {
      "cell_type": "markdown",
      "metadata": {
        "id": "1UA37fuBzmiE"
      },
      "source": [
        "## Generate one random sample"
      ]
    },
    {
      "cell_type": "code",
      "metadata": {
        "id": "ruR_JeX5zCxr"
      },
      "source": [
        "x = np.random.exponential(1/ld,(n,)) #this is our sample"
      ],
      "execution_count": 298,
      "outputs": []
    },
    {
      "cell_type": "markdown",
      "metadata": {
        "id": "JsDu4J1Azn5H"
      },
      "source": [
        "## Bootstrapping"
      ]
    },
    {
      "cell_type": "code",
      "metadata": {
        "id": "R8OdVQS8ztL8"
      },
      "source": [
        "B = 10000 #number of bootstrapped samples\n",
        "Bs = []\n",
        "for b in range(0,B):\n",
        "  Bs.append(np.random.choice(x,n,replace=True))\n"
      ],
      "execution_count": 299,
      "outputs": []
    },
    {
      "cell_type": "code",
      "source": [
        "#Bs stores all the bootstrapped samples\n",
        "Bs = np.asarray(Bs)\n",
        "Bs.shape"
      ],
      "metadata": {
        "colab": {
          "base_uri": "https://localhost:8080/"
        },
        "id": "6RBgHZUGjvsl",
        "outputId": "d07347b4-24be-41ee-bb7b-f2d848978dde"
      },
      "execution_count": 300,
      "outputs": [
        {
          "output_type": "execute_result",
          "data": {
            "text/plain": [
              "(10000, 1000)"
            ]
          },
          "metadata": {},
          "execution_count": 300
        }
      ]
    },
    {
      "cell_type": "code",
      "metadata": {
        "colab": {
          "base_uri": "https://localhost:8080/"
        },
        "id": "KWSpY1P70j_-",
        "outputId": "8d0c246c-08d6-4ab9-df77-7d640e0d0900"
      },
      "source": [
        "Bs = Bs.transpose()\n",
        "Bs.shape"
      ],
      "execution_count": 301,
      "outputs": [
        {
          "output_type": "execute_result",
          "data": {
            "text/plain": [
              "(1000, 10000)"
            ]
          },
          "metadata": {},
          "execution_count": 301
        }
      ]
    },
    {
      "cell_type": "markdown",
      "metadata": {
        "id": "HaQ6Dbts1Hn7"
      },
      "source": [
        "## Compute bootstrapped statistic"
      ]
    },
    {
      "cell_type": "code",
      "metadata": {
        "id": "GE_Z5aA41Lez"
      },
      "source": [
        "#statistic of interest\n",
        "def statistic(x):\n",
        "  return np.var(x)"
      ],
      "execution_count": 302,
      "outputs": []
    },
    {
      "cell_type": "code",
      "metadata": {
        "id": "IuariYfC1bmM"
      },
      "source": [
        "#compute statistic on each column using list comprehension\n",
        "t_boostrapped = [statistic(Bs[:,i]) for i in range(0,B)]"
      ],
      "execution_count": 303,
      "outputs": []
    },
    {
      "cell_type": "code",
      "metadata": {
        "colab": {
          "base_uri": "https://localhost:8080/",
          "height": 430
        },
        "id": "At3r4_Vm2k7d",
        "outputId": "13a49e55-c1d4-484d-b962-e4cabcaada76"
      },
      "source": [
        "plt.hist(t_boostrapped,bins = 15,density=True)\n",
        "plt.show()"
      ],
      "execution_count": 304,
      "outputs": [
        {
          "output_type": "display_data",
          "data": {
            "text/plain": [
              "<Figure size 640x480 with 1 Axes>"
            ],
            "image/png": "[encoded data removed]"
          },
          "metadata": {}
        }
      ]
    },
    {
      "cell_type": "markdown",
      "metadata": {
        "id": "XSSYoYlq3JcZ"
      },
      "source": [
        "## Compare with monte-carlo sampling distribution"
      ]
    },
    {
      "cell_type": "code",
      "metadata": {
        "id": "EOCAtwSe24mP"
      },
      "source": [
        "s = 10000 #number of monte carlo experiments\n",
        "x_mc = np.random.exponential(1/ld,(n,s))"
      ],
      "execution_count": 305,
      "outputs": []
    },
    {
      "cell_type": "code",
      "metadata": {
        "id": "WMVuV9Im3XUF"
      },
      "source": [
        "t_mc = [statistic(x_mc[:,i]) for i in range(0,s)]"
      ],
      "execution_count": 306,
      "outputs": []
    },
    {
      "cell_type": "code",
      "metadata": {
        "colab": {
          "base_uri": "https://localhost:8080/",
          "height": 430
        },
        "id": "FeEDQa0y3ivz",
        "outputId": "bf27f9f3-e980-4e43-bf3d-2bee62b5b810"
      },
      "source": [
        "plt.hist(t_mc,bins = 15,density=True, alpha=0.5,label=\"Actual sampling distribution\")\n",
        "plt.hist(t_boostrapped,bins = 15,density=True, alpha=0.5,label=\"Bootstrapped sampling distribution\")\n",
        "plt.legend(loc='upper right')\n",
        "plt.show()"
      ],
      "execution_count": 307,
      "outputs": [
        {
          "output_type": "display_data",
          "data": {
            "text/plain": [
              "<Figure size 640x480 with 1 Axes>"
            ],
            "image/png": "[encoded data removed]"
          },
          "metadata": {}
        }
      ]
    },
    {
      "cell_type": "markdown",
      "metadata": {
        "id": "kWck2D0Azsf9"
      },
      "source": [
        "Try different values of sample size and number of bootstraps"
      ]
    },
    {
      "cell_type": "markdown",
      "source": [
        "## Bootstrapped standard errors"
      ],
      "metadata": {
        "id": "RK4SAzYZlTcl"
      }
    },
    {
      "cell_type": "code",
      "source": [
        "np.std(t_boostrapped)"
      ],
      "metadata": {
        "colab": {
          "base_uri": "https://localhost:8080/"
        },
        "id": "wYM1SQ1SlXnw",
        "outputId": "170cb991-4b83-4667-ba7e-7eddb828ad67"
      },
      "execution_count": 308,
      "outputs": [
        {
          "output_type": "execute_result",
          "data": {
            "text/plain": [
              "0.3056418488449242"
            ]
          },
          "metadata": {},
          "execution_count": 308
        }
      ]
    },
    {
      "cell_type": "markdown",
      "source": [
        "Compare to Monte carlo standard errors"
      ],
      "metadata": {
        "id": "zAQC3Xn5ldMg"
      }
    },
    {
      "cell_type": "code",
      "source": [
        "np.std(t_mc)"
      ],
      "metadata": {
        "colab": {
          "base_uri": "https://localhost:8080/"
        },
        "id": "PUB981IalidH",
        "outputId": "4843742e-dedd-4bf0-f3ed-0b3b8c124c6d"
      },
      "execution_count": 309,
      "outputs": [
        {
          "output_type": "execute_result",
          "data": {
            "text/plain": [
              "0.363413848023756"
            ]
          },
          "metadata": {},
          "execution_count": 309
        }
      ]
    },
    {
      "cell_type": "code",
      "source": [
        "statistic(x)"
      ],
      "metadata": {
        "colab": {
          "base_uri": "https://localhost:8080/"
        },
        "id": "dSDaaETDmAZq",
        "outputId": "cbab3c6b-9c2e-4144-ba99-76a2a790869c"
      },
      "execution_count": 310,
      "outputs": [
        {
          "output_type": "execute_result",
          "data": {
            "text/plain": [
              "3.779432521942113"
            ]
          },
          "metadata": {},
          "execution_count": 310
        }
      ]
    },
    {
      "cell_type": "markdown",
      "source": [
        "Bootstrapped confidence interval"
      ],
      "metadata": {
        "id": "__hKdwahlqw3"
      }
    },
    {
      "cell_type": "code",
      "source": [
        "np.percentile(t_boostrapped,[2.5,97.5])"
      ],
      "metadata": {
        "colab": {
          "base_uri": "https://localhost:8080/"
        },
        "id": "FG9p6RIEltJu",
        "outputId": "574fb9f3-9443-43b9-e320-58bbd0c4dccc"
      },
      "execution_count": 311,
      "outputs": [
        {
          "output_type": "execute_result",
          "data": {
            "text/plain": [
              "array([3.19904366, 4.40834132])"
            ]
          },
          "metadata": {},
          "execution_count": 311
        }
      ]
    },
    {
      "cell_type": "markdown",
      "source": [
        "Compare to monte carlo confidence intervals"
      ],
      "metadata": {
        "id": "9ar0o--SmKIa"
      }
    },
    {
      "cell_type": "code",
      "source": [
        "np.percentile(t_mc,[2.5,97.5])"
      ],
      "metadata": {
        "colab": {
          "base_uri": "https://localhost:8080/"
        },
        "id": "Hape5UzTmOTf",
        "outputId": "ab614cf2-48eb-4001-87e0-ffceae581dce"
      },
      "execution_count": 312,
      "outputs": [
        {
          "output_type": "execute_result",
          "data": {
            "text/plain": [
              "array([3.33215013, 4.77282771])"
            ]
          },
          "metadata": {},
          "execution_count": 312
        }
      ]
    },
    {
      "cell_type": "markdown",
      "source": [
        "Compare to asymptotic standard errors. $\\sqrt{n}(s^{2} - \\sigma^{2})  \\xrightarrow{d} N(0,\\mu_{4} - \\sigma^{4})$, where $\\mu_{4} = E[(X-E[X])^{4}]$, and $\\sigma^{4} = Var(X)^{2}$."
      ],
      "metadata": {
        "id": "ZZmlHZvVmhpI"
      }
    },
    {
      "cell_type": "code",
      "source": [
        "np.sqrt((np.mean((x-np.mean(x))**4) - np.var(x)**2)/n)"
      ],
      "metadata": {
        "colab": {
          "base_uri": "https://localhost:8080/"
        },
        "id": "UCEsovOpmfbo",
        "outputId": "2a0f2283-2aa3-4aec-bea0-34ed92c1d2fb"
      },
      "execution_count": 313,
      "outputs": [
        {
          "output_type": "execute_result",
          "data": {
            "text/plain": [
              "0.3038358277439489"
            ]
          },
          "metadata": {},
          "execution_count": 313
        }
      ]
    },
    {
      "cell_type": "markdown",
      "source": [
        "Compare to finite-sample exact standard errors.\n",
        "\n",
        "$Var(S^{2}) = \\frac{\\mu_{4}}{n} - \\frac{\\sigma^{4} (n-3)}{n(n-1)}$"
      ],
      "metadata": {
        "id": "30O237PnnbTm"
      }
    },
    {
      "cell_type": "code",
      "source": [
        "np.sqrt(np.mean((x-np.mean(x))**4)/n - (np.var(x)**2)*(n-3)/(n*(n-1)))"
      ],
      "metadata": {
        "colab": {
          "base_uri": "https://localhost:8080/"
        },
        "id": "xY85l5f-nu-s",
        "outputId": "6efad932-5895-488d-c79e-014084e80abe"
      },
      "execution_count": 314,
      "outputs": [
        {
          "output_type": "execute_result",
          "data": {
            "text/plain": [
              "0.3038828837530071"
            ]
          },
          "metadata": {},
          "execution_count": 314
        }
      ]
    },
    {
      "cell_type": "markdown",
      "source": [
        "## Failure of bootstrapping"
      ],
      "metadata": {
        "id": "p7uBKD-mwVll"
      }
    },
    {
      "cell_type": "code",
      "source": [
        "def statistic(x):\n",
        "  return np.max(x)"
      ],
      "metadata": {
        "id": "lgxgDsRuwabH"
      },
      "execution_count": 288,
      "outputs": []
    },
    {
      "cell_type": "code",
      "source": [
        "#statistic of interest\n",
        "def statistic(x):\n",
        "  return sorted(list(set(x)), reverse=True)[1]"
      ],
      "metadata": {
        "id": "zR5Wg_qmwXuS"
      },
      "execution_count": 341,
      "outputs": []
    },
    {
      "cell_type": "code",
      "source": [
        "def statistic(x):\n",
        "  return np.median(x)"
      ],
      "metadata": {
        "id": "Nx8KLBLMwhak"
      },
      "execution_count": 335,
      "outputs": []
    },
    {
      "cell_type": "code",
      "source": [
        "#compute statistic on each column using list comprehension\n",
        "t_boostrapped = [statistic(Bs[:,i]) for i in range(0,B)]"
      ],
      "metadata": {
        "id": "EaIPejJMwnYb"
      },
      "execution_count": 342,
      "outputs": []
    },
    {
      "cell_type": "code",
      "metadata": {
        "id": "zdCTKi4fw82L"
      },
      "source": [
        "s = 10000 #number of monte carlo experiments\n",
        "x_mc = np.random.exponential(1/ld,(n,s))\n",
        "t_mc = [statistic(x_mc[:,i]) for i in range(0,s)]"
      ],
      "execution_count": 343,
      "outputs": []
    },
    {
      "cell_type": "code",
      "metadata": {
        "colab": {
          "base_uri": "https://localhost:8080/",
          "height": 430
        },
        "outputId": "49f125c1-123f-4493-f4b5-61bdcb0c1d6b",
        "id": "1op1ys69w82M"
      },
      "source": [
        "plt.hist(t_mc,bins = 15,density=True, alpha=0.5,label=\"Actual sampling distribution\")\n",
        "plt.hist(t_boostrapped,bins = 15,density=True, alpha=0.5,label=\"Bootstrapped sampling distribution\")\n",
        "plt.legend(loc='upper right')\n",
        "plt.show()"
      ],
      "execution_count": 344,
      "outputs": [
        {
          "output_type": "display_data",
          "data": {
            "text/plain": [
              "<Figure size 640x480 with 1 Axes>"
            ],
            "image/png": "[encoded data removed]"
          },
          "metadata": {}
        }
      ]
    },
    {
      "cell_type": "code",
      "source": [
        "np.percentile(t_boostrapped,[2.5,97.5])"
      ],
      "metadata": {
        "outputId": "a8aae5ef-6c27-4c27-ed24-1fdede1c7c15",
        "colab": {
          "base_uri": "https://localhost:8080/"
        },
        "id": "_qlGv3dKxVYp"
      },
      "execution_count": 345,
      "outputs": [
        {
          "output_type": "execute_result",
          "data": {
            "text/plain": [
              "array([ 9.33779628, 12.77916307])"
            ]
          },
          "metadata": {},
          "execution_count": 345
        }
      ]
    },
    {
      "cell_type": "markdown",
      "source": [
        "Compare to monte carlo confidence intervals"
      ],
      "metadata": {
        "id": "FQ1IAi3NxVYp"
      }
    },
    {
      "cell_type": "code",
      "source": [
        "np.percentile(t_mc,[2.5,97.5])"
      ],
      "metadata": {
        "outputId": "7e1438a2-0e15-48ca-f014-ec627b9cf26a",
        "colab": {
          "base_uri": "https://localhost:8080/"
        },
        "id": "eiC5TrePxVYq"
      },
      "execution_count": 346,
      "outputs": [
        {
          "output_type": "execute_result",
          "data": {
            "text/plain": [
              "array([10.40090229, 16.57442514])"
            ]
          },
          "metadata": {},
          "execution_count": 346
        }
      ]
    },
    {
      "cell_type": "markdown",
      "source": [
        "# Importance sampling"
      ],
      "metadata": {
        "id": "M4LaV5J37mgt"
      }
    },
    {
      "cell_type": "code",
      "metadata": {
        "id": "SbdcgtXX5dVK"
      },
      "source": [
        "s = 10000\n",
        "x = np.random.normal(0,1,(s,))"
      ],
      "execution_count": 4,
      "outputs": []
    },
    {
      "cell_type": "markdown",
      "source": [
        "Calculate $P(X>4)$ using Monte Carlo sampling"
      ],
      "metadata": {
        "id": "Rh31ASPT7z5e"
      }
    },
    {
      "cell_type": "code",
      "source": [
        "np.mean(x>4)"
      ],
      "metadata": {
        "id": "v-FYGSVV7v67",
        "outputId": "8eaa987f-bfdd-4d6a-fb0c-566807439899",
        "colab": {
          "base_uri": "https://localhost:8080/"
        }
      },
      "execution_count": 5,
      "outputs": [
        {
          "output_type": "execute_result",
          "data": {
            "text/plain": [
              "0.0"
            ]
          },
          "metadata": {},
          "execution_count": 5
        }
      ]
    },
    {
      "cell_type": "markdown",
      "source": [
        "Using importance sampling, let $g(x) \\sim N(4,2)$"
      ],
      "metadata": {
        "id": "ckP59MOR8E_y"
      }
    },
    {
      "cell_type": "code",
      "source": [
        "x_imp = np.random.normal(4,2,(s,))"
      ],
      "metadata": {
        "id": "UMnlGrNn9aC-"
      },
      "execution_count": 6,
      "outputs": []
    },
    {
      "cell_type": "code",
      "source": [
        "#importance weight\n",
        "w = norm.pdf(x_imp,loc=0,scale=1)/norm.pdf(x_imp,loc=4,scale=np.sqrt(2))"
      ],
      "metadata": {
        "id": "3eZfnk9k8cQY"
      },
      "execution_count": 7,
      "outputs": []
    },
    {
      "cell_type": "code",
      "source": [
        "1*(x_imp>4)*w"
      ],
      "metadata": {
        "id": "J03Mp6Sr9Nk4",
        "outputId": "b31fef47-e5e5-4ace-9670-efda70f4e789",
        "colab": {
          "base_uri": "https://localhost:8080/"
        }
      },
      "execution_count": 8,
      "outputs": [
        {
          "output_type": "execute_result",
          "data": {
            "text/plain": [
              "array([0.00000000e+00, 3.39709292e-06, 0.00000000e+00, ...,\n",
              "       0.00000000e+00, 7.62877491e-08, 0.00000000e+00])"
            ]
          },
          "metadata": {},
          "execution_count": 8
        }
      ]
    },
    {
      "cell_type": "markdown",
      "source": [
        "Monte carlo approximation of P(X>4) with importance sampling"
      ],
      "metadata": {
        "id": "GdKV1Z50-Dy1"
      }
    },
    {
      "cell_type": "code",
      "source": [
        "np.mean(1*(x_imp>4)*w)"
      ],
      "metadata": {
        "id": "6gjQhfeE9WpU",
        "outputId": "024f47a4-a4c7-4125-9991-38e27e0c3aaf",
        "colab": {
          "base_uri": "https://localhost:8080/"
        }
      },
      "execution_count": 9,
      "outputs": [
        {
          "output_type": "execute_result",
          "data": {
            "text/plain": [
              "2.2547555943887225e-05"
            ]
          },
          "metadata": {},
          "execution_count": 9
        }
      ]
    },
    {
      "cell_type": "markdown",
      "source": [
        "compare with the actual probability"
      ],
      "metadata": {
        "id": "iueri2ME-GHS"
      }
    },
    {
      "cell_type": "code",
      "source": [
        "1-norm.cdf(4,loc=0,scale=1)"
      ],
      "metadata": {
        "id": "wXJp8tob9jU7",
        "outputId": "c6227f45-0629-4a31-a142-e9b648b006d0",
        "colab": {
          "base_uri": "https://localhost:8080/"
        }
      },
      "execution_count": 10,
      "outputs": [
        {
          "output_type": "execute_result",
          "data": {
            "text/plain": [
              "3.167124183311998e-05"
            ]
          },
          "metadata": {},
          "execution_count": 10
        }
      ]
    },
    {
      "cell_type": "markdown",
      "source": [
        "Example 2: $E[X|X\\in [a,b]]$"
      ],
      "metadata": {
        "id": "nkcGNg60-LUG"
      }
    },
    {
      "cell_type": "code",
      "source": [
        "s = 10000\n",
        "a = 4\n",
        "b = 4.5\n",
        "x = np.random.normal(0,1,(s,))"
      ],
      "metadata": {
        "id": "McrfxJwH9vcQ"
      },
      "execution_count": 11,
      "outputs": []
    },
    {
      "cell_type": "code",
      "source": [
        "#monte carlo approximation without importance sampling\n",
        "np.sum(x*((x>a) & (x<b)))/np.sum((x>a) & (x<b))"
      ],
      "metadata": {
        "id": "KONwoVQ9-afb",
        "outputId": "5b8e5e6e-2095-4e64-88ec-9efc9fdd576a",
        "colab": {
          "base_uri": "https://localhost:8080/"
        }
      },
      "execution_count": 12,
      "outputs": [
        {
          "output_type": "stream",
          "name": "stderr",
          "text": [
            "<ipython-input-12-5259dfe9c2d9>:2: RuntimeWarning: invalid value encountered in scalar divide\n",
            "  np.sum(x*((x>a) & (x<b)))/np.sum((x>a) & (x<b))\n"
          ]
        },
        {
          "output_type": "execute_result",
          "data": {
            "text/plain": [
              "nan"
            ]
          },
          "metadata": {},
          "execution_count": 12
        }
      ]
    },
    {
      "cell_type": "code",
      "source": [
        "#using importance sampling, draw from U[a,b]\n",
        "x_imp = np.random.uniform(a,b,(s,))"
      ],
      "metadata": {
        "id": "BSIjFd99-djk"
      },
      "execution_count": 13,
      "outputs": []
    },
    {
      "cell_type": "code",
      "source": [
        "#compute importance weights\n",
        "f = norm.pdf(x_imp,loc=0,scale=1)/(norm.cdf(b,loc=0,scale=1) - norm.cdf(a,loc=0,scale=1))\n",
        "g = 1/(b-a)\n",
        "w = f/g"
      ],
      "metadata": {
        "id": "UgKuN5hf-r-O"
      },
      "execution_count": 14,
      "outputs": []
    },
    {
      "cell_type": "code",
      "source": [
        "#monte carlo approximation with importance sampling\n",
        "np.mean(w*x_imp)"
      ],
      "metadata": {
        "id": "wJEFGrBV-5es",
        "outputId": "bff81813-29e5-4cc2-d6e6-46e4ad61bfeb",
        "colab": {
          "base_uri": "https://localhost:8080/"
        }
      },
      "execution_count": 15,
      "outputs": [
        {
          "output_type": "execute_result",
          "data": {
            "text/plain": [
              "4.163084620656546"
            ]
          },
          "metadata": {},
          "execution_count": 15
        }
      ]
    },
    {
      "cell_type": "code",
      "source": [
        "#without importance sampling, we would only get accurate results when using many times the samples\n",
        "s = 1000000\n",
        "a = 4\n",
        "b = 4.5\n",
        "x = np.random.normal(0,1,(s,))\n",
        "np.sum(x*((x>a) & (x<b)))/np.sum((x>a) & (x<b))"
      ],
      "metadata": {
        "id": "aTRDZCn5BHQk",
        "outputId": "a5df192f-b275-4583-9761-d99473bb52a2",
        "colab": {
          "base_uri": "https://localhost:8080/"
        }
      },
      "execution_count": 18,
      "outputs": [
        {
          "output_type": "execute_result",
          "data": {
            "text/plain": [
              "4.1402288637905444"
            ]
          },
          "metadata": {},
          "execution_count": 18
        }
      ]
    },
    {
      "cell_type": "markdown",
      "source": [
        "# Markov Chain Monte Carlo\n",
        "\n",
        "## Metropolis-Hastings MCMC algorithm\n",
        "\n",
        "First, test algorithm on a standard distribution"
      ],
      "metadata": {
        "id": "VnNy_Wqt2LVk"
      }
    },
    {
      "cell_type": "code",
      "source": [
        "# Define the target distribution (a mixture of two Gaussians)\n",
        "def target_distribution(x):\n",
        "    # Gaussian 1: mean = -2, std = 0.5; Gaussian 2: mean = 3, std = 1.0\n",
        "    return 0.3 * np.exp(-(x + 2)**2 / (2 * 0.5**2)) / np.sqrt(2 * np.pi * 0.5**2) + \\\n",
        "           0.7 * np.exp(-(x - 3)**2 / (2 * 1.0**2)) / np.sqrt(2 * np.pi * 1.0**2)\n",
        "\n",
        "# MCMC with Metropolis-Hastings\n",
        "def metropolis_hastings(target, n_samples, proposal_width):\n",
        "    samples = [0]  # Starting point\n",
        "    for _ in range(n_samples - 1):\n",
        "        current_sample = samples[-1]\n",
        "        # Proposal distribution (normal centered at the current sample)\n",
        "        proposal = np.random.normal(current_sample, proposal_width)\n",
        "\n",
        "        # Calculate acceptance probability\n",
        "        acceptance_prob = min(1, target(proposal) / target(current_sample))\n",
        "\n",
        "        # Accept or reject\n",
        "        if np.random.rand() < acceptance_prob:\n",
        "            samples.append(proposal)\n",
        "        else:\n",
        "            samples.append(current_sample)\n",
        "\n",
        "    return np.array(samples)\n",
        "\n",
        "# Parameters\n",
        "n_samples = 10000\n",
        "proposal_width = 1.0\n",
        "\n",
        "# Generate samples\n",
        "samples = metropolis_hastings(target_distribution, n_samples, proposal_width)\n",
        "\n",
        "# Plot results\n",
        "x = np.linspace(-6, 6, 1000)\n",
        "plt.plot(x, target_distribution(x), label=\"Target Distribution (True)\")\n",
        "plt.hist(samples, bins=50, density=True, alpha=0.6, color='skyblue', label=\"MCMC Samples\")\n",
        "plt.xlabel(\"x\")\n",
        "plt.ylabel(\"Density\")\n",
        "plt.title(\"MCMC Sampling from a Mixture of Gaussians\")\n",
        "plt.legend()\n",
        "plt.show()\n"
      ],
      "metadata": {
        "id": "opg-H_k190FR",
        "outputId": "8cd1753b-a679-42ba-e77b-5c1b6b000862",
        "colab": {
          "base_uri": "https://localhost:8080/",
          "height": 472
        }
      },
      "execution_count": 383,
      "outputs": [
        {
          "output_type": "display_data",
          "data": {
            "text/plain": [
              "<Figure size 640x480 with 1 Axes>"
            ],
            "image/png": "[encoded data removed]"
          },
          "metadata": {}
        }
      ]
    },
    {
      "cell_type": "markdown",
      "source": [
        "Now use MCMC algorithm on a distribution that cannot be sampled easily using other simpler methods"
      ],
      "metadata": {
        "id": "4bMUtz5R-pyc"
      }
    },
    {
      "cell_type": "code",
      "source": [
        "# Generate some synthetic data\n",
        "np.random.seed(42)\n",
        "data = np.random.normal(loc=1, scale=1, size=100)\n",
        "\n",
        "# Known variance of the data\n",
        "sigma_data = 1.0\n",
        "\n",
        "# Define the likelihood of the data given a mean\n",
        "def likelihood(mu):\n",
        "    return np.exp(-np.sum((data - mu)**2) / (2 * sigma_data**2))\n",
        "\n",
        "# Define the prior for the mean\n",
        "def prior(mu,lambd):\n",
        "  if mu < 0:\n",
        "    return 0\n",
        "  return lambd * np.exp(-lambd * mu)\n",
        "\n",
        "# Define the posterior as the product of the likelihood and prior\n",
        "def posterior(mu):\n",
        "    return likelihood(mu) * prior(mu,0.5)\n",
        "\n",
        "# MCMC with Metropolis-Hastings\n",
        "def metropolis_hastings(posterior, n_samples, proposal_width):\n",
        "    samples = [0]  # Starting point\n",
        "    for _ in range(n_samples - 1):\n",
        "        current_sample = samples[-1]\n",
        "        # Proposal distribution (normal centered at the current sample)\n",
        "        proposal = np.random.normal(current_sample, proposal_width)\n",
        "\n",
        "        # Calculate acceptance probability\n",
        "        acceptance_prob = min(1, posterior(proposal) / posterior(current_sample))\n",
        "\n",
        "        # Accept or reject\n",
        "        if np.random.rand() < acceptance_prob:\n",
        "            samples.append(proposal)\n",
        "        else:\n",
        "            samples.append(current_sample)\n",
        "\n",
        "    return np.array(samples)\n",
        "\n",
        "# Parameters\n",
        "n_samples = 10000\n",
        "proposal_width = 0.1\n",
        "\n",
        "# Generate samples\n",
        "samples = metropolis_hastings(posterior, n_samples, proposal_width)\n",
        "\n",
        "# Plot results\n",
        "plt.hist(samples, bins=40, density=True, alpha=0.6, color='skyblue', label=\"MCMC Samples\")\n",
        "plt.xlabel(\"Mean\")\n",
        "plt.ylabel(\"Density\")\n",
        "plt.title(\"MCMC Sampling from the Posterior\")\n",
        "plt.legend()\n",
        "plt.show()\n"
      ],
      "metadata": {
        "colab": {
          "base_uri": "https://localhost:8080/",
          "height": 472
        },
        "id": "2bc3PqRpY949",
        "outputId": "185192d0-a87d-4a09-8998-acf37926a3e9"
      },
      "execution_count": 377,
      "outputs": [
        {
          "output_type": "display_data",
          "data": {
            "text/plain": [
              "<Figure size 640x480 with 1 Axes>"
            ],
            "image/png": "[encoded data removed]"
          },
          "metadata": {}
        }
      ]
    },
    {
      "cell_type": "code",
      "source": [
        "\n",
        "# Define the prior for the mean\n",
        "def prior(mu,theta,sigma):\n",
        "  return np.exp(-((mu-theta)**2)/(2*sigma**2))\n",
        "\n",
        "# Define the posterior as the product of the likelihood and prior\n",
        "def posterior(mu):\n",
        "    return likelihood(mu) * prior(mu,6,0.5)\n",
        "\n",
        "# MCMC with Metropolis-Hastings\n",
        "def metropolis_hastings(posterior, n_samples, proposal_width):\n",
        "    samples = [0]  # Starting point\n",
        "    for _ in range(n_samples - 1):\n",
        "        current_sample = samples[-1]\n",
        "        # Proposal distribution (normal centered at the current sample)\n",
        "        proposal = np.random.normal(current_sample, proposal_width)\n",
        "\n",
        "        # Calculate acceptance probability\n",
        "        acceptance_prob = min(1, posterior(proposal) / posterior(current_sample))\n",
        "\n",
        "        # Accept or reject\n",
        "        if np.random.rand() < acceptance_prob:\n",
        "            samples.append(proposal)\n",
        "        else:\n",
        "            samples.append(current_sample)\n",
        "\n",
        "    return np.array(samples)\n",
        "\n",
        "# Parameters\n",
        "n_samples = 10000\n",
        "proposal_width = 0.1\n",
        "\n",
        "# Generate samples\n",
        "samples = metropolis_hastings(posterior, n_samples, proposal_width)\n",
        "\n",
        "# Plot results\n",
        "plt.hist(samples, bins=40, density=True, alpha=0.6, color='skyblue', label=\"MCMC Samples\")\n",
        "plt.xlabel(\"Mean\")\n",
        "plt.ylabel(\"Density\")\n",
        "plt.title(\"MCMC Sampling from the Posterior\")\n",
        "plt.legend()\n",
        "plt.show()"
      ],
      "metadata": {
        "colab": {
          "base_uri": "https://localhost:8080/",
          "height": 472
        },
        "id": "SbDATiZe2UgR",
        "outputId": "b5ff56c5-9487-4c85-c24f-04fa8efe4d9d"
      },
      "execution_count": 382,
      "outputs": [
        {
          "output_type": "display_data",
          "data": {
            "text/plain": [
              "<Figure size 640x480 with 1 Axes>"
            ],
            "image/png": "[encoded data removed]"
          },
          "metadata": {}
        }
      ]
    },
    {
      "cell_type": "code",
      "source": [],
      "metadata": {
        "id": "DqKdlGQc7QXa"
      },
      "execution_count": null,
      "outputs": []
    }
  ]
}