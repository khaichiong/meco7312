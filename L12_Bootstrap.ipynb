{
  "nbformat": 4,
  "nbformat_minor": 0,
  "metadata": {
    "colab": {
      "name": "L12_Bootstrap.ipynb",
      "provenance": [],
      "authorship_tag": "ABX9TyOgmFWxUCxw45moykeFf0tz",
      "include_colab_link": true
    },
    "kernelspec": {
      "name": "python3",
      "display_name": "Python 3"
    },
    "language_info": {
      "name": "python"
    }
  },
  "cells": [
    {
      "cell_type": "markdown",
      "metadata": {
        "id": "view-in-github",
        "colab_type": "text"
      },
      "source": [
        "<a href=\"https://colab.research.google.com/github/khaichiong/meco7312/blob/master/L12_Bootstrap.ipynb\" target=\"_parent\"><img src=\"https://colab.research.google.com/assets/colab-badge.svg\" alt=\"Open In Colab\"/></a>"
      ]
    },
    {
      "cell_type": "markdown",
      "metadata": {
        "id": "NueJK7sN5B9D"
      },
      "source": [
        "# Bootstrapping as a tool to obtain the sampling distribution of a statistic"
      ]
    },
    {
      "cell_type": "code",
      "metadata": {
        "id": "hkqjrKpIrHDK"
      },
      "source": [
        "import numpy as np\n",
        "import matplotlib.pyplot as plt\n",
        "from scipy.stats import norm"
      ],
      "execution_count": 1,
      "outputs": []
    },
    {
      "cell_type": "markdown",
      "metadata": {
        "id": "1UA37fuBzmiE"
      },
      "source": [
        "## Generate data"
      ]
    },
    {
      "cell_type": "code",
      "metadata": {
        "id": "ruR_JeX5zCxr"
      },
      "source": [
        "n = 1000 #sample size\n",
        "ld = 0.5 #rate parameter\n",
        "x = np.random.exponential(1/ld,(n,)) #this is our sample"
      ],
      "execution_count": 64,
      "outputs": []
    },
    {
      "cell_type": "markdown",
      "metadata": {
        "id": "JsDu4J1Azn5H"
      },
      "source": [
        "## Bootstrapping"
      ]
    },
    {
      "cell_type": "code",
      "metadata": {
        "id": "R8OdVQS8ztL8"
      },
      "source": [
        "B = 10000 #number of bootstrapped samples\n",
        "Bs = []\n",
        "for b in range(0,B):\n",
        "  Bs.append(np.random.choice(x,n,replace=True))\n"
      ],
      "execution_count": 65,
      "outputs": []
    },
    {
      "cell_type": "code",
      "metadata": {
        "colab": {
          "base_uri": "https://localhost:8080/"
        },
        "id": "KWSpY1P70j_-",
        "outputId": "e3c2f2a1-a1cf-481f-997a-812a2677709d"
      },
      "source": [
        "#Bs stores all the bootstrapped samples\n",
        "Bs = np.asarray(Bs)\n",
        "Bs.shape\n",
        "Bs = Bs.transpose()\n",
        "Bs.shape"
      ],
      "execution_count": 66,
      "outputs": [
        {
          "output_type": "execute_result",
          "data": {
            "text/plain": [
              "(1000, 10000)"
            ]
          },
          "metadata": {},
          "execution_count": 66
        }
      ]
    },
    {
      "cell_type": "markdown",
      "metadata": {
        "id": "HaQ6Dbts1Hn7"
      },
      "source": [
        "## Compute bootstrapped statistic"
      ]
    },
    {
      "cell_type": "code",
      "metadata": {
        "id": "GE_Z5aA41Lez"
      },
      "source": [
        "def svar(X):\n",
        "  return np.var(X)"
      ],
      "execution_count": 67,
      "outputs": []
    },
    {
      "cell_type": "code",
      "metadata": {
        "id": "IuariYfC1bmM"
      },
      "source": [
        "#compute statistic on each column using list comprehension\n",
        "t_boostrapped = [svar(Bs[:,i]) for i in range(0,B)]"
      ],
      "execution_count": 68,
      "outputs": []
    },
    {
      "cell_type": "code",
      "metadata": {
        "colab": {
          "base_uri": "https://localhost:8080/",
          "height": 430
        },
        "id": "At3r4_Vm2k7d",
        "outputId": "2ad4adbf-dda2-4785-d7b0-fc09f91cf9d7"
      },
      "source": [
        "plt.hist(t_boostrapped,bins = 15,density=True)\n",
        "plt.show()"
      ],
      "execution_count": 69,
      "outputs": [
        {
          "output_type": "display_data",
          "data": {
            "text/plain": [
              "<Figure size 640x480 with 1 Axes>"
            ],
            "image/png": "[encoded data removed]"
          },
          "metadata": {}
        }
      ]
    },
    {
      "cell_type": "markdown",
      "metadata": {
        "id": "XSSYoYlq3JcZ"
      },
      "source": [
        "## Compare with actual sampling distribution"
      ]
    },
    {
      "cell_type": "code",
      "metadata": {
        "id": "EOCAtwSe24mP"
      },
      "source": [
        "s = 10000 #number of monte carlo experiments\n",
        "x_mc = np.random.exponential(1/ld,(n,s))"
      ],
      "execution_count": 70,
      "outputs": []
    },
    {
      "cell_type": "code",
      "metadata": {
        "id": "WMVuV9Im3XUF"
      },
      "source": [
        "t_mc = [svar(x_mc[:,i]) for i in range(0,s)]"
      ],
      "execution_count": 71,
      "outputs": []
    },
    {
      "cell_type": "code",
      "metadata": {
        "colab": {
          "base_uri": "https://localhost:8080/",
          "height": 430
        },
        "id": "FeEDQa0y3ivz",
        "outputId": "fd83cf9f-e818-41e7-d433-e8be5d5ddf3c"
      },
      "source": [
        "plt.hist(t_mc,bins = 15,density=True, alpha=0.5,label=\"Actual sampling distribution\")\n",
        "plt.hist(t_boostrapped,bins = 15,density=True, alpha=0.5,label=\"Bootstrapped sampling distribution\")\n",
        "plt.legend(loc='upper right')\n",
        "plt.show()"
      ],
      "execution_count": 72,
      "outputs": [
        {
          "output_type": "display_data",
          "data": {
            "text/plain": [
              "<Figure size 640x480 with 1 Axes>"
            ],
            "image/png": "[encoded data removed]"
          },
          "metadata": {}
        }
      ]
    },
    {
      "cell_type": "markdown",
      "metadata": {
        "id": "kWck2D0Azsf9"
      },
      "source": [
        "Try different values of sample size and number of bootstraps"
      ]
    },
    {
      "cell_type": "markdown",
      "source": [
        "# Importance sampling"
      ],
      "metadata": {
        "id": "M4LaV5J37mgt"
      }
    },
    {
      "cell_type": "code",
      "metadata": {
        "id": "SbdcgtXX5dVK"
      },
      "source": [
        "s = 10000\n",
        "x = np.random.normal(0,1,(s,))"
      ],
      "execution_count": 73,
      "outputs": []
    },
    {
      "cell_type": "markdown",
      "source": [
        "Calculate $P(X>4)$ using Monte Carlo sampling"
      ],
      "metadata": {
        "id": "Rh31ASPT7z5e"
      }
    },
    {
      "cell_type": "code",
      "source": [
        "np.mean(x>4)"
      ],
      "metadata": {
        "id": "v-FYGSVV7v67",
        "outputId": "5dfd7130-3745-4a54-c8d3-8720ecd8869a",
        "colab": {
          "base_uri": "https://localhost:8080/"
        }
      },
      "execution_count": 75,
      "outputs": [
        {
          "output_type": "execute_result",
          "data": {
            "text/plain": [
              "0.0"
            ]
          },
          "metadata": {},
          "execution_count": 75
        }
      ]
    },
    {
      "cell_type": "markdown",
      "source": [
        "Using importance sampling, let $g(x) \\sim N(4,2)$"
      ],
      "metadata": {
        "id": "ckP59MOR8E_y"
      }
    },
    {
      "cell_type": "code",
      "source": [
        "x_imp = np.random.normal(4,2,(s,))"
      ],
      "metadata": {
        "id": "UMnlGrNn9aC-"
      },
      "execution_count": 80,
      "outputs": []
    },
    {
      "cell_type": "code",
      "source": [
        "#importance weight\n",
        "w = norm.pdf(x_imp,loc=0,scale=1)/norm.pdf(x_imp,loc=4,scale=np.sqrt(2))"
      ],
      "metadata": {
        "id": "3eZfnk9k8cQY"
      },
      "execution_count": 81,
      "outputs": []
    },
    {
      "cell_type": "code",
      "source": [
        "1*(x_imp>4)*w"
      ],
      "metadata": {
        "id": "J03Mp6Sr9Nk4",
        "outputId": "438788a9-5de2-4ccd-e060-70fb066ba980",
        "colab": {
          "base_uri": "https://localhost:8080/"
        }
      },
      "execution_count": 82,
      "outputs": [
        {
          "output_type": "execute_result",
          "data": {
            "text/plain": [
              "array([4.95895675e-13, 0.00000000e+00, 0.00000000e+00, ...,\n",
              "       1.95561048e-05, 3.66003808e-15, 7.63822797e-06])"
            ]
          },
          "metadata": {},
          "execution_count": 82
        }
      ]
    },
    {
      "cell_type": "markdown",
      "source": [
        "Monte carlo approximation of P(X>4) with importance sampling"
      ],
      "metadata": {
        "id": "GdKV1Z50-Dy1"
      }
    },
    {
      "cell_type": "code",
      "source": [
        "np.mean(1*(x_imp>4)*w)"
      ],
      "metadata": {
        "id": "6gjQhfeE9WpU",
        "outputId": "7083245c-958b-4cb1-cb8c-9b09bdc59af0",
        "colab": {
          "base_uri": "https://localhost:8080/"
        }
      },
      "execution_count": 85,
      "outputs": [
        {
          "output_type": "execute_result",
          "data": {
            "text/plain": [
              "2.181354470941453e-05"
            ]
          },
          "metadata": {},
          "execution_count": 85
        }
      ]
    },
    {
      "cell_type": "markdown",
      "source": [
        "compare with the actual probability"
      ],
      "metadata": {
        "id": "iueri2ME-GHS"
      }
    },
    {
      "cell_type": "code",
      "source": [
        "1-norm.cdf(4,loc=0,scale=1)"
      ],
      "metadata": {
        "id": "wXJp8tob9jU7",
        "outputId": "edba0630-867c-4c43-cf15-94bc4f131801",
        "colab": {
          "base_uri": "https://localhost:8080/"
        }
      },
      "execution_count": 84,
      "outputs": [
        {
          "output_type": "execute_result",
          "data": {
            "text/plain": [
              "3.167124183311998e-05"
            ]
          },
          "metadata": {},
          "execution_count": 84
        }
      ]
    },
    {
      "cell_type": "markdown",
      "source": [
        "Example 2: $E[X|X\\in [a,b]]$"
      ],
      "metadata": {
        "id": "nkcGNg60-LUG"
      }
    },
    {
      "cell_type": "code",
      "source": [
        "s = 10000\n",
        "a = 4\n",
        "b = 4.5\n",
        "x = np.random.normal(0,1,(s,))"
      ],
      "metadata": {
        "id": "McrfxJwH9vcQ"
      },
      "execution_count": 175,
      "outputs": []
    },
    {
      "cell_type": "code",
      "source": [
        "#monte carlo approximation without importance sampling\n",
        "np.sum(x*((x>a) & (x<b)))/np.sum((x>a) & (x<b))"
      ],
      "metadata": {
        "id": "KONwoVQ9-afb",
        "outputId": "3165bc02-5719-4fb9-98c1-a4f4f86addf3",
        "colab": {
          "base_uri": "https://localhost:8080/"
        }
      },
      "execution_count": 176,
      "outputs": [
        {
          "output_type": "stream",
          "name": "stderr",
          "text": [
            "<ipython-input-176-e202fef33853>:1: RuntimeWarning: invalid value encountered in double_scalars\n",
            "  np.sum(x*((x>a) & (x<b)))/np.sum((x>a) & (x<b))\n"
          ]
        },
        {
          "output_type": "execute_result",
          "data": {
            "text/plain": [
              "nan"
            ]
          },
          "metadata": {},
          "execution_count": 176
        }
      ]
    },
    {
      "cell_type": "code",
      "source": [
        "#using importance sampling, draw from U[a,b]\n",
        "x_imp = np.random.uniform(a,b,(s,))"
      ],
      "metadata": {
        "id": "BSIjFd99-djk"
      },
      "execution_count": 177,
      "outputs": []
    },
    {
      "cell_type": "code",
      "source": [
        "#compute importance weights\n",
        "f = norm.pdf(x_imp,loc=0,scale=1)/(norm.cdf(b,loc=0,scale=1) - norm.cdf(a,loc=0,scale=1))\n",
        "g = 1/(b-a)\n",
        "w = f/g"
      ],
      "metadata": {
        "id": "UgKuN5hf-r-O"
      },
      "execution_count": 178,
      "outputs": []
    },
    {
      "cell_type": "code",
      "source": [
        "#monte carlo approximation with importance sampling\n",
        "np.mean(w*x_imp)"
      ],
      "metadata": {
        "id": "wJEFGrBV-5es",
        "outputId": "e1ecbfdd-98d1-4b90-941e-76ac5cb2bf37",
        "colab": {
          "base_uri": "https://localhost:8080/"
        }
      },
      "execution_count": 179,
      "outputs": [
        {
          "output_type": "execute_result",
          "data": {
            "text/plain": [
              "4.13865116628857"
            ]
          },
          "metadata": {},
          "execution_count": 179
        }
      ]
    },
    {
      "cell_type": "code",
      "source": [
        "#without importance sampling, we would only get accurate results when using many times the samples\n",
        "s = 1000000\n",
        "a = 4\n",
        "b = 4.5\n",
        "x = np.random.normal(0,1,(s,))\n",
        "np.sum(x*((x>a) & (x<b)))/np.sum((x>a) & (x<b))"
      ],
      "metadata": {
        "id": "aTRDZCn5BHQk",
        "outputId": "d1cfb997-40e1-4365-8e26-52b042783b32",
        "colab": {
          "base_uri": "https://localhost:8080/"
        }
      },
      "execution_count": 181,
      "outputs": [
        {
          "output_type": "execute_result",
          "data": {
            "text/plain": [
              "4.2009832247802485"
            ]
          },
          "metadata": {},
          "execution_count": 181
        }
      ]
    },
    {
      "cell_type": "code",
      "source": [],
      "metadata": {
        "id": "RuBGxP7PCO6a"
      },
      "execution_count": null,
      "outputs": []
    }
  ]
}