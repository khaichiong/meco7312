{
  "nbformat": 4,
  "nbformat_minor": 0,
  "metadata": {
    "colab": {
      "name": "L12_Bootstrap.ipynb",
      "provenance": [],
      "authorship_tag": "ABX9TyMPoY8JLvJJx+h0LPfML0pu",
      "include_colab_link": true
    },
    "kernelspec": {
      "name": "python3",
      "display_name": "Python 3"
    },
    "language_info": {
      "name": "python"
    }
  },
  "cells": [
    {
      "cell_type": "markdown",
      "metadata": {
        "id": "view-in-github",
        "colab_type": "text"
      },
      "source": [
        "<a href=\"https://colab.research.google.com/github/khaichiong/meco7312/blob/master/L12_Bootstrap.ipynb\" target=\"_parent\"><img src=\"https://colab.research.google.com/assets/colab-badge.svg\" alt=\"Open In Colab\"/></a>"
      ]
    },
    {
      "cell_type": "markdown",
      "metadata": {
        "id": "NueJK7sN5B9D"
      },
      "source": [
        "# Bootstrapping as a tool to obtain the sampling distribution of a statistic"
      ]
    },
    {
      "cell_type": "code",
      "metadata": {
        "id": "hkqjrKpIrHDK"
      },
      "source": [
        "import numpy as np\n",
        "import matplotlib.pyplot as plt\n"
      ],
      "execution_count": 1,
      "outputs": []
    },
    {
      "cell_type": "markdown",
      "metadata": {
        "id": "1UA37fuBzmiE"
      },
      "source": [
        "## Generate data"
      ]
    },
    {
      "cell_type": "code",
      "metadata": {
        "id": "ruR_JeX5zCxr"
      },
      "source": [
        "n = 1000 #sample size\n",
        "ld = 0.5 #rate parameter\n",
        "x = np.random.exponential(1/ld,(n,)) #this is our sample"
      ],
      "execution_count": 2,
      "outputs": []
    },
    {
      "cell_type": "markdown",
      "metadata": {
        "id": "JsDu4J1Azn5H"
      },
      "source": [
        "## Bootstrapping"
      ]
    },
    {
      "cell_type": "code",
      "metadata": {
        "id": "R8OdVQS8ztL8"
      },
      "source": [
        "B = 10000 #number of bootstrapped samples\n",
        "Bs = []\n",
        "for b in range(0,B):\n",
        "  Bs.append(np.random.choice(x,n,replace=True))\n",
        "Bs = np.asarray(Bs)  "
      ],
      "execution_count": 3,
      "outputs": []
    },
    {
      "cell_type": "code",
      "metadata": {
        "colab": {
          "base_uri": "https://localhost:8080/"
        },
        "id": "KWSpY1P70j_-",
        "outputId": "20346c62-6e6d-4d96-a1c5-b47fe5420baf"
      },
      "source": [
        "#Bs stores all the bootstrapped samples\n",
        "Bs = np.asarray(Bs)  \n",
        "Bs = Bs.transpose()\n",
        "np.shape(Bs)"
      ],
      "execution_count": 4,
      "outputs": [
        {
          "output_type": "execute_result",
          "data": {
            "text/plain": [
              "(1000, 10000)"
            ]
          },
          "metadata": {},
          "execution_count": 4
        }
      ]
    },
    {
      "cell_type": "markdown",
      "metadata": {
        "id": "HaQ6Dbts1Hn7"
      },
      "source": [
        "## Compute bootstrapped statistic"
      ]
    },
    {
      "cell_type": "code",
      "metadata": {
        "id": "GE_Z5aA41Lez"
      },
      "source": [
        "def svar(X):\n",
        "  return np.var(X)"
      ],
      "execution_count": 5,
      "outputs": []
    },
    {
      "cell_type": "code",
      "metadata": {
        "id": "IuariYfC1bmM"
      },
      "source": [
        "#compute statistic on each column using list comprehension\n",
        "t_boostrapped = [svar(Bs[:,i]) for i in range(0,B)]"
      ],
      "execution_count": 6,
      "outputs": []
    },
    {
      "cell_type": "code",
      "metadata": {
        "colab": {
          "base_uri": "https://localhost:8080/",
          "height": 265
        },
        "id": "At3r4_Vm2k7d",
        "outputId": "e4723c0e-39f6-45c9-e99c-41394192d3db"
      },
      "source": [
        "plt.hist(t_boostrapped,bins = 15,density=True)\n",
        "plt.show()"
      ],
      "execution_count": 7,
      "outputs": [
        {
          "output_type": "display_data",
          "data": {
            "image/png": "[encoded data removed]",
            "text/plain": [
              "<Figure size 432x288 with 1 Axes>"
            ]
          },
          "metadata": {
            "needs_background": "light"
          }
        }
      ]
    },
    {
      "cell_type": "markdown",
      "metadata": {
        "id": "XSSYoYlq3JcZ"
      },
      "source": [
        "## Compare with actual sampling distribution"
      ]
    },
    {
      "cell_type": "code",
      "metadata": {
        "id": "EOCAtwSe24mP"
      },
      "source": [
        "s = 10000 #number of monte carlo experiments\n",
        "x_mc = np.random.exponential(1/ld,(n,s))"
      ],
      "execution_count": 8,
      "outputs": []
    },
    {
      "cell_type": "code",
      "metadata": {
        "id": "WMVuV9Im3XUF"
      },
      "source": [
        "t_mc = [svar(x_mc[:,i]) for i in range(0,s)]"
      ],
      "execution_count": 9,
      "outputs": []
    },
    {
      "cell_type": "code",
      "metadata": {
        "colab": {
          "base_uri": "https://localhost:8080/",
          "height": 265
        },
        "id": "FeEDQa0y3ivz",
        "outputId": "427e2fd3-eb0a-4a41-f291-4b7245f2e552"
      },
      "source": [
        "plt.hist(t_mc,bins = 15,density=True, alpha=0.5,label=\"Actual sampling distribution\")\n",
        "plt.hist(t_boostrapped,bins = 15,density=True, alpha=0.5,label=\"Bootstrapped sampling distribution\")\n",
        "plt.legend(loc='upper right')\n",
        "plt.show()"
      ],
      "execution_count": 10,
      "outputs": [
        {
          "output_type": "display_data",
          "data": {
            "image/png": "[encoded data removed]",
            "text/plain": [
              "<Figure size 432x288 with 1 Axes>"
            ]
          },
          "metadata": {
            "needs_background": "light"
          }
        }
      ]
    },
    {
      "cell_type": "markdown",
      "metadata": {
        "id": "kWck2D0Azsf9"
      },
      "source": [
        "Try different values of sample size and number of bootstraps"
      ]
    },
    {
      "cell_type": "code",
      "metadata": {
        "id": "SbdcgtXX5dVK"
      },
      "source": [
        ""
      ],
      "execution_count": null,
      "outputs": []
    }
  ]
}