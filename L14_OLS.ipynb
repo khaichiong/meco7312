{
  "nbformat": 4,
  "nbformat_minor": 0,
  "metadata": {
    "colab": {
      "provenance": [],
      "authorship_tag": "ABX9TyPgn6dkUjUFrZ8XaP+Wjnvp",
      "include_colab_link": true
    },
    "kernelspec": {
      "name": "python3",
      "display_name": "Python 3"
    },
    "language_info": {
      "name": "python"
    }
  },
  "cells": [
    {
      "cell_type": "markdown",
      "metadata": {
        "id": "view-in-github",
        "colab_type": "text"
      },
      "source": [
        "<a href=\"https://colab.research.google.com/github/khaichiong/meco7312/blob/master/L14_OLS.ipynb\" target=\"_parent\"><img src=\"https://colab.research.google.com/assets/colab-badge.svg\" alt=\"Open In Colab\"/></a>"
      ]
    },
    {
      "cell_type": "code",
      "execution_count": 19,
      "metadata": {
        "id": "5tQhfPWtN5g2"
      },
      "outputs": [],
      "source": [
        "import numpy as np\n",
        "import pandas as pd\n",
        "import statsmodels.api as sm\n",
        "from statsmodels.stats.diagnostic import het_breuschpagan\n",
        "from statsmodels.stats.stattools import durbin_watson\n",
        "from statsmodels.sandbox.regression.predstd import wls_prediction_std\n"
      ]
    },
    {
      "cell_type": "markdown",
      "source": [
        "# Generate data"
      ],
      "metadata": {
        "id": "-NL1Y_2kN_tk"
      }
    },
    {
      "cell_type": "code",
      "source": [
        "n = 1000\n",
        "e = np.random.normal(0, 1, n)\n",
        "x1 = np.random.exponential(0.5, n)\n",
        "x2 = np.random.normal(-1, 1, n)\n",
        "y = 2 - 3*x1 + 0.5*x2 + e"
      ],
      "metadata": {
        "id": "uT2yjbwGN6Mf"
      },
      "execution_count": 2,
      "outputs": []
    },
    {
      "cell_type": "markdown",
      "source": [
        "# OLS estimates"
      ],
      "metadata": {
        "id": "RHWxhTe6OTJU"
      }
    },
    {
      "cell_type": "code",
      "source": [
        "X = np.column_stack((np.ones(n), x1, x2))\n",
        "b = np.linalg.inv(X.T @ X) @ X.T @ y\n",
        "print(b)"
      ],
      "metadata": {
        "colab": {
          "base_uri": "https://localhost:8080/"
        },
        "id": "yrLIQEuRN-j5",
        "outputId": "e359083c-7aed-4492-c3e0-0e009abffbad"
      },
      "execution_count": 3,
      "outputs": [
        {
          "output_type": "stream",
          "name": "stdout",
          "text": [
            "[ 1.97162826 -3.01973911  0.48745232]\n"
          ]
        }
      ]
    },
    {
      "cell_type": "markdown",
      "source": [
        "# Variance covariance matrix"
      ],
      "metadata": {
        "id": "r9vyhX37OHre"
      }
    },
    {
      "cell_type": "code",
      "source": [
        "np.linalg.inv(X.T @ X)"
      ],
      "metadata": {
        "id": "W5UamV5uOEFB"
      },
      "execution_count": null,
      "outputs": []
    },
    {
      "cell_type": "markdown",
      "source": [
        "## Standard errors of coefficients"
      ],
      "metadata": {
        "id": "Zivs1pzwOOCP"
      }
    },
    {
      "cell_type": "code",
      "source": [
        "np.sqrt(np.diag(np.linalg.inv(X.T @ X)))"
      ],
      "metadata": {
        "colab": {
          "base_uri": "https://localhost:8080/"
        },
        "id": "5vMjdwPCOOLD",
        "outputId": "9d0ebc4b-98d0-4e4d-876c-30e9fe98fed0"
      },
      "execution_count": 4,
      "outputs": [
        {
          "output_type": "execute_result",
          "data": {
            "text/plain": [
              "array([0.05420703, 0.06112069, 0.03175608])"
            ]
          },
          "metadata": {},
          "execution_count": 4
        }
      ]
    },
    {
      "cell_type": "markdown",
      "source": [
        "# Using built-in package"
      ],
      "metadata": {
        "id": "xHgoPVaGOYo3"
      }
    },
    {
      "cell_type": "code",
      "source": [
        "X_sm = sm.add_constant(np.column_stack((x1, x2)))\n",
        "model = sm.OLS(y, X_sm)\n",
        "results = model.fit()\n",
        "print(results.summary())"
      ],
      "metadata": {
        "colab": {
          "base_uri": "https://localhost:8080/"
        },
        "id": "23AYgr2DOOiF",
        "outputId": "a6ccfc8b-9b24-46eb-bb8a-0b3e5b721fc0"
      },
      "execution_count": 5,
      "outputs": [
        {
          "output_type": "stream",
          "name": "stdout",
          "text": [
            "                            OLS Regression Results                            \n",
            "==============================================================================\n",
            "Dep. Variable:                      y   R-squared:                       0.735\n",
            "Model:                            OLS   Adj. R-squared:                  0.735\n",
            "Method:                 Least Squares   F-statistic:                     1383.\n",
            "Date:                Wed, 06 Dec 2023   Prob (F-statistic):          2.45e-288\n",
            "Time:                        17:42:52   Log-Likelihood:                -1393.4\n",
            "No. Observations:                1000   AIC:                             2793.\n",
            "Df Residuals:                     997   BIC:                             2807.\n",
            "Df Model:                           2                                         \n",
            "Covariance Type:            nonrobust                                         \n",
            "==============================================================================\n",
            "                 coef    std err          t      P>|t|      [0.025      0.975]\n",
            "------------------------------------------------------------------------------\n",
            "const          1.9716      0.053     37.258      0.000       1.868       2.075\n",
            "x1            -3.0197      0.060    -50.609      0.000      -3.137      -2.903\n",
            "x2             0.4875      0.031     15.724      0.000       0.427       0.548\n",
            "==============================================================================\n",
            "Omnibus:                        0.161   Durbin-Watson:                   1.949\n",
            "Prob(Omnibus):                  0.922   Jarque-Bera (JB):                0.229\n",
            "Skew:                          -0.021   Prob(JB):                        0.892\n",
            "Kurtosis:                       2.938   Cond. No.                         3.85\n",
            "==============================================================================\n",
            "\n",
            "Notes:\n",
            "[1] Standard Errors assume that the covariance matrix of the errors is correctly specified.\n"
          ]
        }
      ]
    },
    {
      "cell_type": "markdown",
      "source": [
        "# Check Variance with Collinearity and Sample Size"
      ],
      "metadata": {
        "id": "vymL36WkOhLv"
      }
    },
    {
      "cell_type": "code",
      "source": [
        "#varying n and correlation between x1 and x2\n",
        "n = 100\n",
        "e = np.random.normal(0, 1, n)\n",
        "x1 = np.random.exponential(0.5, n)\n",
        "x2 = x1 + np.random.normal(-1, 0.1, n)\n",
        "y = 2 - 3*x1 + 0.5*x2 + e\n",
        "X = np.column_stack((np.ones(n), x1, x2))\n",
        "np.sqrt(np.diag(np.linalg.inv(X.T @ X)))\n"
      ],
      "metadata": {
        "id": "CdTwOgvROdX_"
      },
      "execution_count": null,
      "outputs": []
    },
    {
      "cell_type": "markdown",
      "source": [
        "# Estimate Variance of Residuals"
      ],
      "metadata": {
        "id": "n65At2cmO1zj"
      }
    },
    {
      "cell_type": "code",
      "source": [
        "residuals = y - X @ b\n",
        "shat = (residuals.T @ residuals) / (n - 3) #(sum of square of residuals)/N-K\n",
        "np.sqrt(np.diag(shat * np.linalg.inv(X.T @ X)))\n"
      ],
      "metadata": {
        "colab": {
          "base_uri": "https://localhost:8080/"
        },
        "id": "wPYnpiw1O04r",
        "outputId": "6b73d30f-c034-4c2b-ff19-d8453e224053"
      },
      "execution_count": 6,
      "outputs": [
        {
          "output_type": "execute_result",
          "data": {
            "text/plain": [
              "array([0.05291879, 0.05966815, 0.0310014 ])"
            ]
          },
          "metadata": {},
          "execution_count": 6
        }
      ]
    },
    {
      "cell_type": "markdown",
      "source": [
        "# Heteroskedastic Errors and Robust Standard Errors"
      ],
      "metadata": {
        "id": "qNpx0SBpPk04"
      }
    },
    {
      "cell_type": "code",
      "source": [
        "# Generation of heteroskedastic errors\n",
        "n = 1000\n",
        "x1 = np.random.exponential(0.5, n)\n",
        "x2 = np.random.normal(-1, 1, n)\n",
        "e = np.random.normal(0, np.sqrt(np.abs(2*x1 + x2)), n) #heteroskedastic errors\n",
        "y = 2 - 3*x1 + 0.5*x2 + e\n",
        "\n",
        "# OLS estimation\n",
        "X = np.column_stack((np.ones(n), x1, x2))\n",
        "b = np.linalg.inv(X.T @ X) @ X.T @ y\n",
        "\n"
      ],
      "metadata": {
        "id": "3cn32QzmPI9S"
      },
      "execution_count": 14,
      "outputs": []
    },
    {
      "cell_type": "code",
      "source": [
        "# Fitted residuals\n",
        "ehat = y - X @ b\n",
        "\n",
        "# White's heteroskedastic-robust standard errors\n",
        "E = np.diag(ehat**2)\n",
        "white = np.linalg.inv(X.T @ X) @ X.T @ E @ X @ np.linalg.inv(X.T @ X)\n",
        "robust_se = np.sqrt(np.diag(white))\n",
        "print(robust_se)\n"
      ],
      "metadata": {
        "colab": {
          "base_uri": "https://localhost:8080/"
        },
        "id": "Uk6-IjbLWuFK",
        "outputId": "5664019d-9d68-4f90-c35f-1feb9573164b"
      },
      "execution_count": 16,
      "outputs": [
        {
          "output_type": "stream",
          "name": "stdout",
          "text": [
            "[0.04955327 0.09609369 0.04641988]\n"
          ]
        }
      ]
    },
    {
      "cell_type": "markdown",
      "source": [
        "## Comparison to non-robust standard errors"
      ],
      "metadata": {
        "id": "UabAgjNyW4RR"
      }
    },
    {
      "cell_type": "code",
      "source": [
        "shat = (ehat.T @ ehat) / (n - 3)\n",
        "non_robust_se = np.sqrt(np.diag(shat * np.linalg.inv(X.T @ X)))\n",
        "print(non_robust_se)\n"
      ],
      "metadata": {
        "colab": {
          "base_uri": "https://localhost:8080/"
        },
        "id": "rNVWbM-MW3lf",
        "outputId": "c8dd4d49-9503-49ab-de07-6d1ac4aa4732"
      },
      "execution_count": 17,
      "outputs": [
        {
          "output_type": "stream",
          "name": "stdout",
          "text": [
            "[0.05694311 0.06876623 0.03338701]\n"
          ]
        }
      ]
    },
    {
      "cell_type": "markdown",
      "source": [
        "## Comparison using standard package"
      ],
      "metadata": {
        "id": "wfP2ygArXDD4"
      }
    },
    {
      "cell_type": "code",
      "source": [
        "model = sm.OLS(y, X)\n",
        "results = model.fit(cov_type='HC0')\n",
        "print(results.summary())"
      ],
      "metadata": {
        "colab": {
          "base_uri": "https://localhost:8080/"
        },
        "id": "xc7nIMlQQCBE",
        "outputId": "a285dcf7-9f81-4dd6-a9c8-b8e16eb64501"
      },
      "execution_count": 21,
      "outputs": [
        {
          "output_type": "stream",
          "name": "stdout",
          "text": [
            "                            OLS Regression Results                            \n",
            "==============================================================================\n",
            "Dep. Variable:                      y   R-squared:                       0.667\n",
            "Model:                            OLS   Adj. R-squared:                  0.667\n",
            "Method:                 Least Squares   F-statistic:                     798.8\n",
            "Date:                Wed, 06 Dec 2023   Prob (F-statistic):          8.56e-208\n",
            "Time:                        18:21:39   Log-Likelihood:                -1455.9\n",
            "No. Observations:                1000   AIC:                             2918.\n",
            "Df Residuals:                     997   BIC:                             2933.\n",
            "Df Model:                           2                                         \n",
            "Covariance Type:                  HC0                                         \n",
            "==============================================================================\n",
            "                 coef    std err          z      P>|z|      [0.025      0.975]\n",
            "------------------------------------------------------------------------------\n",
            "const          1.9562      0.050     39.476      0.000       1.859       2.053\n",
            "x1            -2.9201      0.096    -30.388      0.000      -3.108      -2.732\n",
            "x2             0.4731      0.046     10.193      0.000       0.382       0.564\n",
            "==============================================================================\n",
            "Omnibus:                       56.746   Durbin-Watson:                   1.857\n",
            "Prob(Omnibus):                  0.000   Jarque-Bera (JB):              209.065\n",
            "Skew:                          -0.058   Prob(JB):                     4.00e-46\n",
            "Kurtosis:                       5.237   Cond. No.                         4.02\n",
            "==============================================================================\n",
            "\n",
            "Notes:\n",
            "[1] Standard Errors are heteroscedasticity robust (HC0)\n"
          ]
        }
      ]
    },
    {
      "cell_type": "code",
      "source": [
        "model = sm.OLS(y, X)\n",
        "results = model.fit()\n",
        "print(results.summary())"
      ],
      "metadata": {
        "colab": {
          "base_uri": "https://localhost:8080/"
        },
        "id": "uTBEygKvXVxQ",
        "outputId": "c3bbf135-0333-4713-e99f-e9143b64013f"
      },
      "execution_count": 22,
      "outputs": [
        {
          "output_type": "stream",
          "name": "stdout",
          "text": [
            "                            OLS Regression Results                            \n",
            "==============================================================================\n",
            "Dep. Variable:                      y   R-squared:                       0.667\n",
            "Model:                            OLS   Adj. R-squared:                  0.667\n",
            "Method:                 Least Squares   F-statistic:                     999.3\n",
            "Date:                Wed, 06 Dec 2023   Prob (F-statistic):          6.58e-239\n",
            "Time:                        18:21:54   Log-Likelihood:                -1455.9\n",
            "No. Observations:                1000   AIC:                             2918.\n",
            "Df Residuals:                     997   BIC:                             2933.\n",
            "Df Model:                           2                                         \n",
            "Covariance Type:            nonrobust                                         \n",
            "==============================================================================\n",
            "                 coef    std err          t      P>|t|      [0.025      0.975]\n",
            "------------------------------------------------------------------------------\n",
            "const          1.9562      0.057     34.353      0.000       1.844       2.068\n",
            "x1            -2.9201      0.069    -42.464      0.000      -3.055      -2.785\n",
            "x2             0.4731      0.033     14.171      0.000       0.408       0.539\n",
            "==============================================================================\n",
            "Omnibus:                       56.746   Durbin-Watson:                   1.857\n",
            "Prob(Omnibus):                  0.000   Jarque-Bera (JB):              209.065\n",
            "Skew:                          -0.058   Prob(JB):                     4.00e-46\n",
            "Kurtosis:                       5.237   Cond. No.                         4.02\n",
            "==============================================================================\n",
            "\n",
            "Notes:\n",
            "[1] Standard Errors assume that the covariance matrix of the errors is correctly specified.\n"
          ]
        }
      ]
    },
    {
      "cell_type": "code",
      "source": [
        "model = sm.OLS(y, X)\n",
        "results = model.fit()\n",
        "_, pval, _, f_pval = het_breuschpagan(results.resid, results.model.exog)\n",
        "pval, f_pval"
      ],
      "metadata": {
        "colab": {
          "base_uri": "https://localhost:8080/"
        },
        "id": "sdgkXpokPreQ",
        "outputId": "e1092d94-5c95-4b51-dacd-9e78abb44af0"
      },
      "execution_count": 23,
      "outputs": [
        {
          "output_type": "execute_result",
          "data": {
            "text/plain": [
              "(2.971579062457799e-08, 2.3036613286707456e-08)"
            ]
          },
          "metadata": {},
          "execution_count": 23
        }
      ]
    },
    {
      "cell_type": "code",
      "source": [],
      "metadata": {
        "id": "NYUMxQ6wXtYe"
      },
      "execution_count": null,
      "outputs": []
    }
  ]
}