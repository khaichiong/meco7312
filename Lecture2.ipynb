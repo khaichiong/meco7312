{
  "nbformat": 4,
  "nbformat_minor": 0,
  "metadata": {
    "colab": {
      "name": "Lecture2.ipynb",
      "provenance": [],
      "collapsed_sections": [],
      "authorship_tag": "ABX9TyMk83YYPw9uEPcSNFTfRc5L",
      "include_colab_link": true
    },
    "kernelspec": {
      "name": "python3",
      "display_name": "Python 3"
    },
    "language_info": {
      "name": "python"
    }
  },
  "cells": [
    {
      "cell_type": "markdown",
      "metadata": {
        "id": "view-in-github",
        "colab_type": "text"
      },
      "source": [
        "<a href=\"https://colab.research.google.com/github/khaichiong/meco7312/blob/master/Lecture2.ipynb\" target=\"_parent\"><img src=\"https://colab.research.google.com/assets/colab-badge.svg\" alt=\"Open In Colab\"/></a>"
      ]
    },
    {
      "cell_type": "markdown",
      "metadata": {
        "id": "u-mVtL1rI_-d"
      },
      "source": [
        "MECO 7312 \\\\\n",
        "UT Dallas \\\\\n",
        "Lecture 2 \\\\\n",
        "Author: Khai Chiong \\\\"
      ]
    },
    {
      "cell_type": "code",
      "metadata": {
        "id": "LzO-_GvrAyea"
      },
      "source": [
        "import numpy as np\n",
        "import matplotlib.pyplot as plt"
      ],
      "execution_count": 1,
      "outputs": []
    },
    {
      "cell_type": "markdown",
      "metadata": {
        "id": "7UNS1ppPA04E"
      },
      "source": [
        "# Probability integral transformation"
      ]
    },
    {
      "cell_type": "markdown",
      "metadata": {
        "id": "_X8FCWVcBGNA"
      },
      "source": [
        "Draw $n=1000$ random uniform numbers: $(u_{1},\\dots,u_{n})$ from $U[0,1]$. Plot a histogram of these random uniform numbers."
      ]
    },
    {
      "cell_type": "code",
      "metadata": {
        "id": "MwYMdof2A3IG"
      },
      "source": [
        "n=1000\n",
        "u=np.random.uniform(0,1,n)"
      ],
      "execution_count": 2,
      "outputs": []
    },
    {
      "cell_type": "code",
      "metadata": {
        "colab": {
          "base_uri": "https://localhost:8080/",
          "height": 279
        },
        "id": "3YjGbBTZBcz7",
        "outputId": "e5d8ef0f-dbb1-48cf-8d88-4daa580b82ad"
      },
      "source": [
        "plt.hist(u,bins=20,density=True)\n",
        "plt.xlabel(\"u\")\n",
        "plt.savefig(\"histogram.pdf\")"
      ],
      "execution_count": 3,
      "outputs": [
        {
          "output_type": "display_data",
          "data": {
            "image/png": "[encoded data removed]",
            "text/plain": [
              "<Figure size 432x288 with 1 Axes>"
            ]
          },
          "metadata": {
            "needs_background": "light"
          }
        }
      ]
    },
    {
      "cell_type": "markdown",
      "metadata": {
        "id": "9hiCIF0IDrrG"
      },
      "source": [
        "Our target cdf is: $F_{X}(x) = 1- \\exp(-x)$, which is the exponential distribution with $\\lambda = 1$. The general cdf is $F_{X}(x) = 1- \\exp(-\\lambda x)$, with the pdf $f_{X}(x) = \\lambda \\exp(-\\lambda x)$.\n",
        "\n",
        "The inverse of this cdf is: $\\log(\\frac{1}{1-u_{i}})$"
      ]
    },
    {
      "cell_type": "code",
      "metadata": {
        "id": "Zg5TPAsgCKsB"
      },
      "source": [
        "x = np.log(1/(1-u))"
      ],
      "execution_count": 4,
      "outputs": []
    },
    {
      "cell_type": "code",
      "metadata": {
        "colab": {
          "base_uri": "https://localhost:8080/",
          "height": 282
        },
        "id": "IlHQRFo6EUvc",
        "outputId": "96466c9e-040d-4e72-b057-ee315544fab9"
      },
      "source": [
        "plt.figure()\n",
        "plt.hist(x,bins=20,density=True, label='Probability Integral Transformation')\n",
        "plt.legend(loc='upper right')"
      ],
      "execution_count": 5,
      "outputs": [
        {
          "output_type": "execute_result",
          "data": {
            "text/plain": [
              "<matplotlib.legend.Legend at 0x7fdac8734110>"
            ]
          },
          "metadata": {},
          "execution_count": 5
        },
        {
          "output_type": "display_data",
          "data": {
            "image/png": "[encoded data removed]",
            "text/plain": [
              "<Figure size 432x288 with 1 Axes>"
            ]
          },
          "metadata": {
            "needs_background": "light"
          }
        }
      ]
    },
    {
      "cell_type": "code",
      "metadata": {
        "colab": {
          "base_uri": "https://localhost:8080/",
          "height": 282
        },
        "id": "9i11FIuaFg0D",
        "outputId": "4eae1a7f-0efc-4dbf-d00f-61388c731464"
      },
      "source": [
        "z = np.arange(0,7,0.1)\n",
        "plt.figure()\n",
        "plt.plot(z,np.exp(-z),color='green',label='Theoretical pdf',lw=2.5)\n",
        "plt.hist(x,bins=20,density=True, label='Probability Integral Transformation')\n",
        "plt.legend(loc='upper right')"
      ],
      "execution_count": 6,
      "outputs": [
        {
          "output_type": "execute_result",
          "data": {
            "text/plain": [
              "<matplotlib.legend.Legend at 0x7fdac8703a50>"
            ]
          },
          "metadata": {},
          "execution_count": 6
        },
        {
          "output_type": "display_data",
          "data": {
            "image/png": "[encoded data removed]",
            "text/plain": [
              "<Figure size 432x288 with 1 Axes>"
            ]
          },
          "metadata": {
            "needs_background": "light"
          }
        }
      ]
    },
    {
      "cell_type": "markdown",
      "metadata": {
        "id": "z6aLtR2VEzhJ"
      },
      "source": [
        "Comparison with the numpy's exponential distribution"
      ]
    },
    {
      "cell_type": "code",
      "metadata": {
        "colab": {
          "base_uri": "https://localhost:8080/",
          "height": 282
        },
        "id": "jfsVLjN5EZrp",
        "outputId": "dc2d7647-f3bc-4763-a158-dfb811db3be3"
      },
      "source": [
        "r = np.random.exponential(scale=1.0,size=1000)\n",
        "plt.hist(r,bins=20,density=True,label='Numpy')\n",
        "plt.legend(loc='upper right')"
      ],
      "execution_count": 7,
      "outputs": [
        {
          "output_type": "execute_result",
          "data": {
            "text/plain": [
              "<matplotlib.legend.Legend at 0x7fdac7f3c0d0>"
            ]
          },
          "metadata": {},
          "execution_count": 7
        },
        {
          "output_type": "display_data",
          "data": {
            "image/png": "[encoded data removed]",
            "text/plain": [
              "<Figure size 432x288 with 1 Axes>"
            ]
          },
          "metadata": {
            "needs_background": "light"
          }
        }
      ]
    },
    {
      "cell_type": "markdown",
      "metadata": {
        "id": "Pqv58miZHbiq"
      },
      "source": [
        "Overlapping histograms"
      ]
    },
    {
      "cell_type": "code",
      "metadata": {
        "colab": {
          "base_uri": "https://localhost:8080/",
          "height": 282
        },
        "id": "j6J94v16E-9S",
        "outputId": "f7c6def3-f91c-44b5-967f-e0f1925d787f"
      },
      "source": [
        "plt.figure()\n",
        "plt.hist(r,bins=20,density=True, alpha=0.5, label='Numpy')\n",
        "plt.hist(x,bins=20,density=True, alpha=0.5, label='Transformation')\n",
        "plt.legend(loc='upper right')"
      ],
      "execution_count": 8,
      "outputs": [
        {
          "output_type": "execute_result",
          "data": {
            "text/plain": [
              "<matplotlib.legend.Legend at 0x7fdac7e02c50>"
            ]
          },
          "metadata": {},
          "execution_count": 8
        },
        {
          "output_type": "display_data",
          "data": {
            "image/png": "[encoded data removed]",
            "text/plain": [
              "<Figure size 432x288 with 1 Axes>"
            ]
          },
          "metadata": {
            "needs_background": "light"
          }
        }
      ]
    }
  ]
}