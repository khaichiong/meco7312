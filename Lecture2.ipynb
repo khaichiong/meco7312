{
  "nbformat": 4,
  "nbformat_minor": 0,
  "metadata": {
    "colab": {
      "name": "Lecture2.ipynb",
      "provenance": [],
      "authorship_tag": "ABX9TyPL/mzmgoGWHkCgYdjQpNGF",
      "include_colab_link": true
    },
    "kernelspec": {
      "name": "python3",
      "display_name": "Python 3"
    },
    "language_info": {
      "name": "python"
    }
  },
  "cells": [
    {
      "cell_type": "markdown",
      "metadata": {
        "id": "view-in-github",
        "colab_type": "text"
      },
      "source": [
        "<a href=\"https://colab.research.google.com/github/khaichiong/meco7312/blob/master/Lecture2.ipynb\" target=\"_parent\"><img src=\"https://colab.research.google.com/assets/colab-badge.svg\" alt=\"Open In Colab\"/></a>"
      ]
    },
    {
      "cell_type": "markdown",
      "metadata": {
        "id": "u-mVtL1rI_-d"
      },
      "source": [
        "MECO 7312 \\\\\n",
        "UT Dallas \\\\\n",
        "Lecture 2 \\\\\n",
        "Author: Khai Chiong \\\\"
      ]
    },
    {
      "cell_type": "code",
      "metadata": {
        "id": "LzO-_GvrAyea"
      },
      "source": [
        "import numpy as np\n",
        "import matplotlib.pyplot as plt"
      ],
      "execution_count": 8,
      "outputs": []
    },
    {
      "cell_type": "markdown",
      "metadata": {
        "id": "7UNS1ppPA04E"
      },
      "source": [
        "# Probability integral transformation"
      ]
    },
    {
      "cell_type": "markdown",
      "metadata": {
        "id": "_X8FCWVcBGNA"
      },
      "source": [
        "Draw $n=1000$ random uniform numbers: $(u_{1},\\dots,u_{n})$ from $U[0,1]$. Plot a histogram of these random uniform numbers."
      ]
    },
    {
      "cell_type": "code",
      "metadata": {
        "id": "MwYMdof2A3IG"
      },
      "source": [
        "n=1000\n",
        "u=np.random.uniform(0,1,n)"
      ],
      "execution_count": 67,
      "outputs": []
    },
    {
      "cell_type": "code",
      "metadata": {
        "colab": {
          "base_uri": "https://localhost:8080/",
          "height": 279
        },
        "id": "3YjGbBTZBcz7",
        "outputId": "5bdcd5e6-04ce-4504-8a66-277a9feb0fe6"
      },
      "source": [
        "plt.hist(u,bins=20,density=True)\n",
        "plt.xlabel(\"u\")\n",
        "plt.savefig(\"histogram.pdf\")"
      ],
      "execution_count": 26,
      "outputs": [
        {
          "output_type": "display_data",
          "data": {
            "image/png": "[encoded data removed]",
            "text/plain": [
              "<Figure size 432x288 with 1 Axes>"
            ]
          },
          "metadata": {
            "needs_background": "light"
          }
        }
      ]
    },
    {
      "cell_type": "markdown",
      "metadata": {
        "id": "9hiCIF0IDrrG"
      },
      "source": [
        "Our target cdf is: $F_{X}(x) = 1- \\exp(-x)$, which is the exponential distribution with $\\lambda = 1$. The general cdf is $F_{X}(x) = 1- \\exp(-\\lambda x)$, with the pdf $f_{X}(x) = \\lambda \\exp(-\\lambda x)$.\n",
        "\n",
        "The inverse of this cdf is: $\\log(\\frac{1}{1-u_{i}})$"
      ]
    },
    {
      "cell_type": "code",
      "metadata": {
        "id": "Zg5TPAsgCKsB"
      },
      "source": [
        "x = np.log(1/(1-u))"
      ],
      "execution_count": 28,
      "outputs": []
    },
    {
      "cell_type": "code",
      "metadata": {
        "colab": {
          "base_uri": "https://localhost:8080/",
          "height": 282
        },
        "id": "IlHQRFo6EUvc",
        "outputId": "137a7c90-a73f-44e1-c23e-0c674d928801"
      },
      "source": [
        "plt.figure()\n",
        "plt.hist(x,bins=20,density=True, label='Probability Integral Transformation')\n",
        "plt.legend(loc='upper right')"
      ],
      "execution_count": 61,
      "outputs": [
        {
          "output_type": "execute_result",
          "data": {
            "text/plain": [
              "<matplotlib.legend.Legend at 0x7f2a3b6d2810>"
            ]
          },
          "metadata": {},
          "execution_count": 61
        },
        {
          "output_type": "display_data",
          "data": {
            "image/png": "[encoded data removed]",
            "text/plain": [
              "<Figure size 432x288 with 1 Axes>"
            ]
          },
          "metadata": {
            "needs_background": "light"
          }
        }
      ]
    },
    {
      "cell_type": "code",
      "metadata": {
        "colab": {
          "base_uri": "https://localhost:8080/",
          "height": 282
        },
        "id": "9i11FIuaFg0D",
        "outputId": "6d648def-029b-477e-da32-6a32f6960e05"
      },
      "source": [
        "z = np.arange(0,7,0.1)\n",
        "plt.figure()\n",
        "plt.plot(z,np.exp(-z),color='green',label='Theoretical pdf',lw=2.5)\n",
        "plt.hist(x,bins=20,density=True, label='Probability Integral Transformation')\n",
        "plt.legend(loc='upper right')"
      ],
      "execution_count": 66,
      "outputs": [
        {
          "output_type": "execute_result",
          "data": {
            "text/plain": [
              "<matplotlib.legend.Legend at 0x7f2a3caaa090>"
            ]
          },
          "metadata": {},
          "execution_count": 66
        },
        {
          "output_type": "display_data",
          "data": {
            "image/png": "[encoded data removed]",
            "text/plain": [
              "<Figure size 432x288 with 1 Axes>"
            ]
          },
          "metadata": {
            "needs_background": "light"
          }
        }
      ]
    },
    {
      "cell_type": "markdown",
      "metadata": {
        "id": "z6aLtR2VEzhJ"
      },
      "source": [
        "Comparison with the numpy's exponential distribution"
      ]
    },
    {
      "cell_type": "code",
      "metadata": {
        "colab": {
          "base_uri": "https://localhost:8080/",
          "height": 282
        },
        "id": "jfsVLjN5EZrp",
        "outputId": "880f0426-6ce7-4706-844b-03c2749a0ad4"
      },
      "source": [
        "r = np.random.exponential(scale=1.0,size=1000)\n",
        "plt.hist(r,bins=20,density=True,label='Numpy')\n",
        "plt.legend(loc='upper right')"
      ],
      "execution_count": 59,
      "outputs": [
        {
          "output_type": "execute_result",
          "data": {
            "text/plain": [
              "<matplotlib.legend.Legend at 0x7f2a3b80e1d0>"
            ]
          },
          "metadata": {},
          "execution_count": 59
        },
        {
          "output_type": "display_data",
          "data": {
            "image/png": "[encoded data removed]",
            "text/plain": [
              "<Figure size 432x288 with 1 Axes>"
            ]
          },
          "metadata": {
            "needs_background": "light"
          }
        }
      ]
    },
    {
      "cell_type": "markdown",
      "metadata": {
        "id": "Pqv58miZHbiq"
      },
      "source": [
        "Overlapping histograms"
      ]
    },
    {
      "cell_type": "code",
      "metadata": {
        "colab": {
          "base_uri": "https://localhost:8080/",
          "height": 282
        },
        "id": "j6J94v16E-9S",
        "outputId": "4f353988-72ba-4208-bd56-9fb0776447f5"
      },
      "source": [
        "plt.figure()\n",
        "plt.hist(r,bins=20,density=True, alpha=0.5, label='Numpy')\n",
        "plt.hist(x,bins=20,density=True, alpha=0.5, label='Transformation')\n",
        "plt.legend(loc='upper right')"
      ],
      "execution_count": 71,
      "outputs": [
        {
          "output_type": "execute_result",
          "data": {
            "text/plain": [
              "<matplotlib.legend.Legend at 0x7f2a2f78bed0>"
            ]
          },
          "metadata": {},
          "execution_count": 71
        },
        {
          "output_type": "display_data",
          "data": {
            "image/png": "[encoded data removed]",
            "text/plain": [
              "<Figure size 432x288 with 1 Axes>"
            ]
          },
          "metadata": {
            "needs_background": "light"
          }
        }
      ]
    },
    {
      "cell_type": "code",
      "metadata": {
        "id": "LFi3IGLwt8PM"
      },
      "source": [
        ""
      ],
      "execution_count": null,
      "outputs": []
    }
  ]
}