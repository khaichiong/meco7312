{
  "nbformat": 4,
  "nbformat_minor": 0,
  "metadata": {
    "colab": {
      "name": "Lecture7_GMM.ipynb",
      "provenance": [],
      "authorship_tag": "ABX9TyM1pMqLQ37EP7+QHtlxY17J",
      "include_colab_link": true
    },
    "kernelspec": {
      "name": "python3",
      "display_name": "Python 3"
    },
    "language_info": {
      "name": "python"
    }
  },
  "cells": [
    {
      "cell_type": "markdown",
      "metadata": {
        "id": "view-in-github",
        "colab_type": "text"
      },
      "source": [
        "<a href=\"https://colab.research.google.com/github/khaichiong/meco7312/blob/master/L7_GMM.ipynb\" target=\"_parent\"><img src=\"https://colab.research.google.com/assets/colab-badge.svg\" alt=\"Open In Colab\"/></a>"
      ]
    },
    {
      "cell_type": "code",
      "metadata": {
        "id": "43K35KJGlvAb"
      },
      "source": [
        "import numpy as np\n",
        "from scipy.optimize import minimize_scalar\n",
        "from numpy.linalg import inv\n",
        "from matplotlib import pyplot as plt"
      ],
      "execution_count": 1,
      "outputs": []
    },
    {
      "cell_type": "markdown",
      "metadata": {
        "id": "q6aYAdJvlw-S"
      },
      "source": [
        "#Optimal GMM"
      ]
    },
    {
      "cell_type": "markdown",
      "metadata": {
        "id": "6uy-xfYqmhYO"
      },
      "source": [
        "Vector of moment conditions ${\\bf h}(\\theta,X)$ such that $E[{\\bf h}(\\theta,X)] = \\vec{0}$. \n",
        "\n",
        "Summarizes the restriction of the model."
      ]
    },
    {
      "cell_type": "code",
      "metadata": {
        "id": "Lb5MegDVlx3o"
      },
      "source": [
        "def h(theta,x):\n",
        "  return np.array([[x - theta/2],\n",
        "            [x**2 - (theta**2)/3],\n",
        "            [x**3 - (theta**3)/4]])"
      ],
      "execution_count": 2,
      "outputs": []
    },
    {
      "cell_type": "markdown",
      "metadata": {
        "id": "amcePDtRm2g-"
      },
      "source": [
        "GMM criterion function with equal weight (inefficient but consistent):\n",
        "\n",
        " $Q(\\theta) =  \\left(\\frac{1}{n}\\sum_{i=1}^{n}\t{\\bf h}(\\theta,X_{i})\\right)^{T}  \\left(\\frac{1}{n}\\sum_{i=1}^{n}\t{\\bf h}(\\theta,X_{i})\\right)$\n",
        "\n",
        " Square each of the sample moment, and add them up across moments."
      ]
    },
    {
      "cell_type": "code",
      "metadata": {
        "id": "OHWdMfM5mTLG"
      },
      "source": [
        "def Q(theta, data):\n",
        "  hx=0\n",
        "  for xi in data:\n",
        "    hx += h(theta,xi)/len(data)\n",
        "  return np.matmul(np.transpose(hx),hx)[0][0]"
      ],
      "execution_count": 3,
      "outputs": []
    },
    {
      "cell_type": "markdown",
      "metadata": {
        "id": "8bHMC-1UP_Pn"
      },
      "source": [
        "Suppose we observe the following data"
      ]
    },
    {
      "cell_type": "code",
      "metadata": {
        "id": "Kcv7Ly8KN6YR"
      },
      "source": [
        "data = np.array([0.1,0.2,0.6,1.0])"
      ],
      "execution_count": 4,
      "outputs": []
    },
    {
      "cell_type": "markdown",
      "metadata": {
        "id": "fiqqvCdaOGqH"
      },
      "source": [
        "Method of moments estimator:"
      ]
    },
    {
      "cell_type": "code",
      "metadata": {
        "colab": {
          "base_uri": "https://localhost:8080/"
        },
        "id": "N6_80PZKwcfq",
        "outputId": "6e944542-3166-424c-c837-e1af587daff6"
      },
      "source": [
        "np.mean(data)*2"
      ],
      "execution_count": 5,
      "outputs": [
        {
          "output_type": "execute_result",
          "data": {
            "text/plain": [
              "0.95"
            ]
          },
          "metadata": {},
          "execution_count": 5
        }
      ]
    },
    {
      "cell_type": "markdown",
      "metadata": {
        "id": "qxZ7gXE5OSSg"
      },
      "source": [
        "GMM estimator with identity weighting matrix. Minimizing the criterion function"
      ]
    },
    {
      "cell_type": "code",
      "metadata": {
        "id": "OyAM5i4Znq4z"
      },
      "source": [
        "res = minimize_scalar(Q, args = data)"
      ],
      "execution_count": 6,
      "outputs": []
    },
    {
      "cell_type": "code",
      "metadata": {
        "colab": {
          "base_uri": "https://localhost:8080/"
        },
        "id": "9_HHlO4nntIX",
        "outputId": "7c0313c6-253e-45f0-d0ec-10b901b2079a"
      },
      "source": [
        "res"
      ],
      "execution_count": 7,
      "outputs": [
        {
          "output_type": "execute_result",
          "data": {
            "text/plain": [
              "     fun: 0.002671444829637783\n",
              "    nfev: 16\n",
              "     nit: 12\n",
              " success: True\n",
              "       x: 1.034208326372224"
            ]
          },
          "metadata": {},
          "execution_count": 7
        }
      ]
    },
    {
      "cell_type": "markdown",
      "metadata": {
        "id": "M5d-8bvbtlfj"
      },
      "source": [
        "## Optimal weighting matrix\n",
        "\n",
        "$S = \\frac{1}{n}\\sum_{i=1}^{n} \\vec{h}(\\theta,X_{i})\\vec{h}(\\theta,X_{i})^{T}$\n",
        "\n",
        "$k\\times k$ variance-covariance matrix of the moment equations."
      ]
    },
    {
      "cell_type": "code",
      "metadata": {
        "colab": {
          "base_uri": "https://localhost:8080/"
        },
        "id": "X5kRq_ZBtitK",
        "outputId": "d1664be2-e61c-4f7d-e2a7-d2fab7d30557"
      },
      "source": [
        "theta_hat = res.x\n",
        "S = 0\n",
        "for xi in data: \n",
        "  S += np.matmul(h(theta_hat,xi),np.transpose(h(theta_hat,xi)))/len(data)\n",
        "S\n"
      ],
      "execution_count": 8,
      "outputs": [
        {
          "output_type": "execute_result",
          "data": {
            "text/plain": [
              "array([[0.12864776, 0.13898214, 0.1361055 ],\n",
              "       [0.13898214, 0.15858498, 0.16144969],\n",
              "       [0.1361055 , 0.16144969, 0.16877364]])"
            ]
          },
          "metadata": {},
          "execution_count": 8
        }
      ]
    },
    {
      "cell_type": "code",
      "metadata": {
        "colab": {
          "base_uri": "https://localhost:8080/"
        },
        "id": "1hDtzOdbuvh2",
        "outputId": "c8269a71-a825-4410-dbf1-62ea591283f6"
      },
      "source": [
        "#3 by 3 matrix corresponds to the 3 moment equations\n",
        "inv(S)"
      ],
      "execution_count": 9,
      "outputs": [
        {
          "output_type": "execute_result",
          "data": {
            "text/plain": [
              "array([[  3837.58885062,  -8138.60069147,   4690.64729066],\n",
              "       [ -8138.60069147,  17501.47304576, -10178.71687947],\n",
              "       [  4690.64729066, -10178.71687947,   5960.2186682 ]])"
            ]
          },
          "metadata": {},
          "execution_count": 9
        }
      ]
    },
    {
      "cell_type": "markdown",
      "metadata": {
        "id": "fnooP91iPTjR"
      },
      "source": [
        "Criterion function of optimal GMM with weighting matrix $W$:\n",
        "\n",
        "$Q(\\theta)  = \\left(\\frac{1}{n}\\sum_{i=1}^{n}\t{\\bf h}(\\theta,X_{i})\\right)^{T}  W\\left(\\frac{1}{n}\\sum_{i=1}^{n}\t{\\bf h}(\\theta,X_{i})\\right)$"
      ]
    },
    {
      "cell_type": "code",
      "metadata": {
        "id": "4hVqgh8vvYwJ"
      },
      "source": [
        "def Q_optimal(theta,data,W):\n",
        "  hx=0\n",
        "  for xi in data:\n",
        "    hx += h(theta,xi)/len(data)\n",
        "  return np.matmul(np.matmul(np.transpose(hx),W),hx)[0][0]"
      ],
      "execution_count": 10,
      "outputs": []
    },
    {
      "cell_type": "markdown",
      "metadata": {
        "id": "HTea8vOPP3Jd"
      },
      "source": [
        "Minimizing the GMM objective function with optimal weighting matrix"
      ]
    },
    {
      "cell_type": "code",
      "metadata": {
        "id": "VXhA-Yimvl91"
      },
      "source": [
        "res = minimize_scalar(Q_optimal,args=(data,inv(S)))"
      ],
      "execution_count": 11,
      "outputs": []
    },
    {
      "cell_type": "code",
      "metadata": {
        "colab": {
          "base_uri": "https://localhost:8080/"
        },
        "id": "oIkyPA_uvwu-",
        "outputId": "a504bf76-44cb-42a1-a5fe-2412dc9c5c8f"
      },
      "source": [
        "res"
      ],
      "execution_count": 12,
      "outputs": [
        {
          "output_type": "execute_result",
          "data": {
            "text/plain": [
              "     fun: 0.13244718114744697\n",
              "    nfev: 20\n",
              "     nit: 16\n",
              " success: True\n",
              "       x: 1.1331002461152475"
            ]
          },
          "metadata": {},
          "execution_count": 12
        }
      ]
    },
    {
      "cell_type": "markdown",
      "metadata": {
        "id": "X4lgzm3mQGDC"
      },
      "source": [
        "## More general example\n",
        "More generally, suppose we observe the following data"
      ]
    },
    {
      "cell_type": "code",
      "metadata": {
        "id": "tKQjoG6IQEw6"
      },
      "source": [
        "np.random.seed(2)\n",
        "data = np.random.uniform(0,2.5,(100,))"
      ],
      "execution_count": 13,
      "outputs": []
    },
    {
      "cell_type": "code",
      "metadata": {
        "colab": {
          "base_uri": "https://localhost:8080/"
        },
        "id": "OQ1VIGNJQLEp",
        "outputId": "f1587bd1-6829-4d41-989b-b75cc8c29fbe"
      },
      "source": [
        "#Method of moments\n",
        "np.mean(data)*2"
      ],
      "execution_count": 14,
      "outputs": [
        {
          "output_type": "execute_result",
          "data": {
            "text/plain": [
              "2.300141226760969"
            ]
          },
          "metadata": {},
          "execution_count": 14
        }
      ]
    },
    {
      "cell_type": "code",
      "metadata": {
        "colab": {
          "base_uri": "https://localhost:8080/"
        },
        "id": "y9w5hgqEQYGR",
        "outputId": "46ccfefc-4545-4265-e3c3-14624f46e279"
      },
      "source": [
        "#GMM with identity weighting matrix\n",
        "res = minimize_scalar(Q,args = data)\n",
        "res"
      ],
      "execution_count": 15,
      "outputs": [
        {
          "output_type": "execute_result",
          "data": {
            "text/plain": [
              "     fun: 0.0004997826551992208\n",
              "    nfev: 15\n",
              "     nit: 10\n",
              " success: True\n",
              "       x: 2.31325678529331"
            ]
          },
          "metadata": {},
          "execution_count": 15
        }
      ]
    },
    {
      "cell_type": "code",
      "metadata": {
        "colab": {
          "base_uri": "https://localhost:8080/"
        },
        "id": "K39iYCVpQeAI",
        "outputId": "51924982-c6da-4650-f989-6d89f67ea383"
      },
      "source": [
        "#Optimal GMM\n",
        "theta_hat = res.x\n",
        "S = 0\n",
        "for x_data in data: \n",
        "  S += np.matmul(h(theta_hat,x_data),np.transpose(h(theta_hat,x_data)))/len(data)\n",
        "inv(S)"
      ],
      "execution_count": 16,
      "outputs": [
        {
          "output_type": "execute_result",
          "data": {
            "text/plain": [
              "array([[ 182.9620483 , -168.47873701,   42.53665462],\n",
              "       [-168.47873701,  165.57519418,  -43.49207085],\n",
              "       [  42.53665462,  -43.49207085,   11.74283067]])"
            ]
          },
          "metadata": {},
          "execution_count": 16
        }
      ]
    },
    {
      "cell_type": "code",
      "metadata": {
        "colab": {
          "base_uri": "https://localhost:8080/"
        },
        "id": "O-kZz0tUQhUh",
        "outputId": "06cc07ad-ab44-4566-9f4d-47899ad00455"
      },
      "source": [
        "res = minimize_scalar(Q_optimal,args=(data,inv(S)))\n",
        "res"
      ],
      "execution_count": 17,
      "outputs": [
        {
          "output_type": "execute_result",
          "data": {
            "text/plain": [
              "     fun: 0.03334602289517173\n",
              "    nfev: 19\n",
              "     nit: 14\n",
              " success: True\n",
              "       x: 2.3913022568201696"
            ]
          },
          "metadata": {},
          "execution_count": 17
        }
      ]
    },
    {
      "cell_type": "markdown",
      "metadata": {
        "id": "6slY_xQYXUKP"
      },
      "source": [
        "## Asymptotic variance\n",
        "\n",
        "$\\hat{G} = \\frac{1}{n}\\sum_{i=1}^{n}\t\\frac{\\partial {\\bf h}(\\theta,X_{i})}{\\partial \\theta}\\Big|_{\\theta = \\hat{\\theta}}$"
      ]
    },
    {
      "cell_type": "code",
      "metadata": {
        "id": "LzDpAWJKXWId"
      },
      "source": [
        "def g(theta):\n",
        "  return np.array([[-1/2],\n",
        "            [-(2*theta)/3],\n",
        "            [-3*(theta**2)/4]])"
      ],
      "execution_count": 18,
      "outputs": []
    },
    {
      "cell_type": "code",
      "metadata": {
        "id": "VCKHYsd9XlUs"
      },
      "source": [
        "theta_ogmm = res.x"
      ],
      "execution_count": 19,
      "outputs": []
    },
    {
      "cell_type": "markdown",
      "metadata": {
        "id": "79Sj6exwZAss"
      },
      "source": [
        "Asymptotic variance of optimal GMM is: $\\frac{1}{n}(\\hat{G}^{T} \\hat{S}^{-1} \\hat{G} )^{-1}$"
      ]
    },
    {
      "cell_type": "code",
      "metadata": {
        "colab": {
          "base_uri": "https://localhost:8080/"
        },
        "id": "TSOhaaLCXhdM",
        "outputId": "040a2b50-e677-491f-e5d7-fc101e9040ed"
      },
      "source": [
        "(1/len(data))*(np.matmul(np.matmul(np.transpose(g(theta_ogmm)),inv(S)),g(theta_ogmm)))**-1"
      ],
      "execution_count": 20,
      "outputs": [
        {
          "output_type": "execute_result",
          "data": {
            "text/plain": [
              "array([[0.00604387]])"
            ]
          },
          "metadata": {},
          "execution_count": 20
        }
      ]
    }
  ]
}
