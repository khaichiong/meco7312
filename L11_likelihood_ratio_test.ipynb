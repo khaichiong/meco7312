{
  "nbformat": 4,
  "nbformat_minor": 0,
  "metadata": {
    "colab": {
      "name": "L11_likelihood_ratio_test.ipynb",
      "provenance": [],
      "authorship_tag": "ABX9TyNIFqU3VCYjvj6L8qyC2NIj",
      "include_colab_link": true
    },
    "kernelspec": {
      "name": "python3",
      "display_name": "Python 3"
    },
    "language_info": {
      "name": "python"
    }
  },
  "cells": [
    {
      "cell_type": "markdown",
      "metadata": {
        "id": "view-in-github",
        "colab_type": "text"
      },
      "source": [
        "<a href=\"https://colab.research.google.com/github/khaichiong/meco7312/blob/master/L11_likelihood_ratio_test.ipynb\" target=\"_parent\"><img src=\"https://colab.research.google.com/assets/colab-badge.svg\" alt=\"Open In Colab\"/></a>"
      ]
    },
    {
      "cell_type": "markdown",
      "metadata": {
        "id": "cpNzNJ9LRRNw"
      },
      "source": [
        "# Asymptotic distribution of Likelihood Ratio Test statistics"
      ]
    },
    {
      "cell_type": "code",
      "metadata": {
        "id": "M0JYa5FiRXNt"
      },
      "source": [
        "import numpy as np\n",
        "import matplotlib.pyplot as plt\n",
        "from scipy.stats import chi2"
      ],
      "execution_count": 20,
      "outputs": []
    },
    {
      "cell_type": "markdown",
      "metadata": {
        "id": "QBMF0_TfR2pY"
      },
      "source": [
        "$X_1,\\dots, X_n\\sim$ i.i.d Bernoulli with probability $p$.\n",
        "\n",
        "Test $H_0:\\ p=p_{0}$ vs. $H_1:\\ p\\neq p_{0}$.  \n",
        "\n",
        "The likelihood function is $L(p|x_{1},\\dots,x_{n}) = \\prod_{i=1}^{n} p^{x_{i}}(1-p)^{1-x_{i}} =  p^{\\sum_{i} x_{i}}(1-p)^{n-\\sum_{i} x_{i}}$. \n",
        "\n",
        "The Likelihood Ratio Test statistics is:\n",
        "$$\n",
        "\\lambda(X_{1},\\dots,X_{n}) = \n",
        "\\frac{p_{0}^{\\sum_{i=1}^{n} X_{i}} (1-p_{0})^{n-\\sum_{i=1}^{n} X_{i}}}\n",
        "{\\bar{X}^{\\sum_{i=1}^{n} X_{i}} (1-\\bar{X})^{n-\\sum_{i=1}^{n} X_{i}}}\n",
        "$$\n",
        "The sample mean is $\\bar{X} = \\frac{1}{n} \\sum_{i=1}^{n} X_{i}$."
      ]
    },
    {
      "cell_type": "code",
      "metadata": {
        "id": "ncX0lIfYRZU6"
      },
      "source": [
        "#Data-generating process under the null hypothesis\n",
        "p0 = 0.4 #null hypothesis\n",
        "n = 1000 #sample size \n",
        "s = 10000 #number of simulations\n",
        "x = np.random.binomial(1,p0,(n,s)) "
      ],
      "execution_count": 53,
      "outputs": []
    },
    {
      "cell_type": "markdown",
      "metadata": {
        "id": "Z6JSTygMT1Kg"
      },
      "source": [
        "$$\n",
        "\\log \\lambda(X_{1},\\dots,X_{n}) = (\\log p_{0})\\sum_{i=1}^{n}X_{i} + \\log (1-p_{0})(n-\\sum_{i=1}^{n}X_{i}) - (\\log \\bar{X})\\sum_{i=1}^{n}X_{i}  - \\log (1-\\bar{X})(n-\\sum_{i=1}^{n}X_{i})\n",
        "$$"
      ]
    },
    {
      "cell_type": "code",
      "metadata": {
        "id": "mNh-9ZlcRnAP"
      },
      "source": [
        "#Log of likelihood ratio test statistic\n",
        "sample_sum = np.sum(x,axis=0) #summing across observations within an experiment\n",
        "sample_mean = np.mean(x,axis=0) #mean across observations within an experiment\n",
        "lrt = np.log(p0)*sample_sum  + np.log(1-p0)*(n-sample_sum) - np.log(sample_mean)*sample_sum  - np.log(1-sample_mean)*(n-sample_sum)"
      ],
      "execution_count": 54,
      "outputs": []
    },
    {
      "cell_type": "code",
      "metadata": {
        "colab": {
          "base_uri": "https://localhost:8080/",
          "height": 265
        },
        "id": "h_ElxPSQRtHw",
        "outputId": "a00017c9-fb7c-4951-d73e-2eb9a8a8e6f0"
      },
      "source": [
        "#Histogram of sampling distribution of -2*log of likelihood ratio test statistic\n",
        "plt.hist(-2*lrt,bins = 30,density=True)\n",
        "plt.show()"
      ],
      "execution_count": 55,
      "outputs": [
        {
          "output_type": "display_data",
          "data": {
            "image/png": "[encoded data removed]",
            "text/plain": [
              "<Figure size 432x288 with 1 Axes>"
            ]
          },
          "metadata": {
            "needs_background": "light"
          }
        }
      ]
    },
    {
      "cell_type": "code",
      "metadata": {
        "colab": {
          "base_uri": "https://localhost:8080/",
          "height": 267
        },
        "id": "wrcXDdtfU_o8",
        "outputId": "dc505ef9-8e3c-44b4-a4b0-386ff25478b6"
      },
      "source": [
        "#Compare with chi-squared distribution. Does Wilks' Theorem hold here?\n",
        "z = np.arange(0.1,max(-2*lrt),0.01)\n",
        "fig, ax = plt.subplots(1, 1)\n",
        "ax.plot(z,chi2.pdf(z, df=1),lw=3, alpha=0.6, label='Chi-squared distribution')\n",
        "ax.hist(-2*lrt,bins = 50,density=True,label='Distribution of -2*log of likelihood ratio test statistics')\n",
        "ax.legend(loc='upper right')\n",
        "plt.show()"
      ],
      "execution_count": 56,
      "outputs": [
        {
          "output_type": "display_data",
          "data": {
            "image/png": "[encoded data removed]",
            "text/plain": [
              "<Figure size 432x288 with 1 Axes>"
            ]
          },
          "metadata": {
            "needs_background": "light"
          }
        }
      ]
    },
    {
      "cell_type": "markdown",
      "metadata": {
        "id": "q5OPNGrhYrOA"
      },
      "source": [
        "# Power function\n",
        "\n",
        "$\\beta(p) = P(\\lambda(\\vec{X}) \\leq c |p)$\n",
        "\n",
        "For a size $\\alpha = 0.05$ likelihood ratio test, the asymptotic critical value is 0.1465."
      ]
    },
    {
      "cell_type": "code",
      "metadata": {
        "id": "vFfjxaRxY4j-"
      },
      "source": [
        "power = []\n",
        "for p in np.linspace(0.1,0.9,100):\n",
        "  x = np.random.binomial(1,p,(n,s)) \n",
        "  sample_sum = np.sum(x,axis=0) \n",
        "  sample_mean = np.mean(x,axis=0) \n",
        "  lrt = np.log(p0)*sample_sum  + np.log(1-p0)*(n-sample_sum) - np.log(sample_mean)*sample_sum  - np.log(1-sample_mean)*(n-sample_sum)\n",
        "  #probability of rejecting the null at different values of p in the data-generating process\n",
        "  power.append([np.mean(np.exp(lrt)<0.1465)])"
      ],
      "execution_count": 63,
      "outputs": []
    },
    {
      "cell_type": "code",
      "metadata": {
        "colab": {
          "base_uri": "https://localhost:8080/",
          "height": 286
        },
        "id": "XotrefEWZX4w",
        "outputId": "f7f967bb-c47d-4d0d-a76d-78266cb7aadf"
      },
      "source": [
        "#Plotting the Power function\n",
        "plt.plot(np.linspace(0.1,0.9,100),power,lw=5)\n",
        "plt.ylim((0.05,1.0))"
      ],
      "execution_count": 70,
      "outputs": [
        {
          "output_type": "execute_result",
          "data": {
            "text/plain": [
              "(0.05, 1.0)"
            ]
          },
          "metadata": {},
          "execution_count": 70
        },
        {
          "output_type": "display_data",
          "data": {
            "image/png": "[encoded data removed]",
            "text/plain": [
              "<Figure size 432x288 with 1 Axes>"
            ]
          },
          "metadata": {
            "needs_background": "light"
          }
        }
      ]
    },
    {
      "cell_type": "code",
      "metadata": {
        "id": "pTqpGpCKZYRu"
      },
      "source": [
        ""
      ],
      "execution_count": null,
      "outputs": []
    }
  ]
}