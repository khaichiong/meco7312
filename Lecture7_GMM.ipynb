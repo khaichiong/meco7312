{
  "nbformat": 4,
  "nbformat_minor": 0,
  "metadata": {
    "colab": {
      "name": "Lecture7_GMM.ipynb",
      "provenance": [],
      "authorship_tag": "ABX9TyP7lBtBMpocFHSz6CTlwKci",
      "include_colab_link": true
    },
    "kernelspec": {
      "name": "python3",
      "display_name": "Python 3"
    },
    "language_info": {
      "name": "python"
    }
  },
  "cells": [
    {
      "cell_type": "markdown",
      "metadata": {
        "id": "view-in-github",
        "colab_type": "text"
      },
      "source": [
        "<a href=\"https://colab.research.google.com/github/khaichiong/meco7312/blob/master/Lecture7_GMM.ipynb\" target=\"_parent\"><img src=\"https://colab.research.google.com/assets/colab-badge.svg\" alt=\"Open In Colab\"/></a>"
      ]
    },
    {
      "cell_type": "code",
      "metadata": {
        "id": "43K35KJGlvAb"
      },
      "source": [
        "import numpy as np\n",
        "from scipy.optimize import minimize_scalar\n",
        "from numpy.linalg import inv"
      ],
      "execution_count": 117,
      "outputs": []
    },
    {
      "cell_type": "markdown",
      "metadata": {
        "id": "q6aYAdJvlw-S"
      },
      "source": [
        "#Optimal GMM"
      ]
    },
    {
      "cell_type": "markdown",
      "metadata": {
        "id": "6uy-xfYqmhYO"
      },
      "source": [
        "Vector of moment conditions ${\\bf h}(\\theta,X)$ such that $E[{\\bf h}(\\theta,X)] = \\vec{0}$"
      ]
    },
    {
      "cell_type": "code",
      "metadata": {
        "id": "Lb5MegDVlx3o"
      },
      "source": [
        "def h(theta,x):\n",
        "  return np.array([[x - theta/2],\n",
        "            [x**2 - (theta**2)/3],\n",
        "            [x**3 - (theta**3)/4]])"
      ],
      "execution_count": 293,
      "outputs": []
    },
    {
      "cell_type": "markdown",
      "metadata": {
        "id": "amcePDtRm2g-"
      },
      "source": [
        "GMM criterion function with equal weight (inefficient but consistent):\n",
        "\n",
        " $Q(\\theta) =  \\left(\\frac{1}{n}\\sum_{i=1}^{n}\t{\\bf h}(\\theta,X_{i})\\right)^{T}  \\left(\\frac{1}{n}\\sum_{i=1}^{n}\t{\\bf h}(\\theta,X_{i})\\right)$"
      ]
    },
    {
      "cell_type": "code",
      "metadata": {
        "id": "OHWdMfM5mTLG"
      },
      "source": [
        "def Q(theta, data):\n",
        "  hx=0\n",
        "  for x_data in data:\n",
        "    hx += h(theta,x_data)/len(data)\n",
        "  return np.matmul(np.transpose(hx),hx)[0][0]"
      ],
      "execution_count": 294,
      "outputs": []
    },
    {
      "cell_type": "markdown",
      "metadata": {
        "id": "8bHMC-1UP_Pn"
      },
      "source": [
        "Suppose we observe the following data"
      ]
    },
    {
      "cell_type": "code",
      "metadata": {
        "id": "Kcv7Ly8KN6YR"
      },
      "source": [
        "data = np.array([0.1,0.2,0.6,1.0])"
      ],
      "execution_count": 295,
      "outputs": []
    },
    {
      "cell_type": "markdown",
      "metadata": {
        "id": "fiqqvCdaOGqH"
      },
      "source": [
        "Method of moments estimator:"
      ]
    },
    {
      "cell_type": "code",
      "metadata": {
        "colab": {
          "base_uri": "https://localhost:8080/"
        },
        "id": "N6_80PZKwcfq",
        "outputId": "d61a68e5-5f8f-43f6-860a-a5b2e39720fc"
      },
      "source": [
        "np.mean(data)*2"
      ],
      "execution_count": 296,
      "outputs": [
        {
          "output_type": "execute_result",
          "data": {
            "text/plain": [
              "0.95"
            ]
          },
          "metadata": {},
          "execution_count": 296
        }
      ]
    },
    {
      "cell_type": "markdown",
      "metadata": {
        "id": "qxZ7gXE5OSSg"
      },
      "source": [
        "GMM estimator with identity weighting matrix. Minimizing the criterion function"
      ]
    },
    {
      "cell_type": "code",
      "metadata": {
        "id": "OyAM5i4Znq4z"
      },
      "source": [
        "res = minimize_scalar(Q,args = data)"
      ],
      "execution_count": 297,
      "outputs": []
    },
    {
      "cell_type": "code",
      "metadata": {
        "colab": {
          "base_uri": "https://localhost:8080/"
        },
        "id": "9_HHlO4nntIX",
        "outputId": "c244b1a4-c731-412e-87ed-4faa611da1ea"
      },
      "source": [
        "res"
      ],
      "execution_count": 298,
      "outputs": [
        {
          "output_type": "execute_result",
          "data": {
            "text/plain": [
              "     fun: 0.002671444829637783\n",
              "    nfev: 16\n",
              "     nit: 12\n",
              " success: True\n",
              "       x: 1.034208326372224"
            ]
          },
          "metadata": {},
          "execution_count": 298
        }
      ]
    },
    {
      "cell_type": "markdown",
      "metadata": {
        "id": "M5d-8bvbtlfj"
      },
      "source": [
        "## Optimal weighting matrix"
      ]
    },
    {
      "cell_type": "code",
      "metadata": {
        "colab": {
          "base_uri": "https://localhost:8080/"
        },
        "id": "X5kRq_ZBtitK",
        "outputId": "b2df36d4-5a00-4cde-9b9d-c2ed1453406a"
      },
      "source": [
        "theta_hat = res.x\n",
        "S = 0\n",
        "for x_data in data: \n",
        "  S += np.matmul(h(theta_hat,x_data),np.transpose(h(theta_hat,x_data)))/len(data)\n",
        "S"
      ],
      "execution_count": 299,
      "outputs": [
        {
          "output_type": "execute_result",
          "data": {
            "text/plain": [
              "array([[0.12864776, 0.13898214, 0.1361055 ],\n",
              "       [0.13898214, 0.15858498, 0.16144969],\n",
              "       [0.1361055 , 0.16144969, 0.16877364]])"
            ]
          },
          "metadata": {},
          "execution_count": 299
        }
      ]
    },
    {
      "cell_type": "code",
      "metadata": {
        "colab": {
          "base_uri": "https://localhost:8080/"
        },
        "id": "1hDtzOdbuvh2",
        "outputId": "c006254e-6158-4baa-be11-a2eb9e213e29"
      },
      "source": [
        "#np.linalg.pinv(S)\n",
        "inv(S)"
      ],
      "execution_count": 300,
      "outputs": [
        {
          "output_type": "execute_result",
          "data": {
            "text/plain": [
              "array([[  3837.58885062,  -8138.60069147,   4690.64729066],\n",
              "       [ -8138.60069147,  17501.47304576, -10178.71687947],\n",
              "       [  4690.64729066, -10178.71687947,   5960.2186682 ]])"
            ]
          },
          "metadata": {},
          "execution_count": 300
        }
      ]
    },
    {
      "cell_type": "markdown",
      "metadata": {
        "id": "fnooP91iPTjR"
      },
      "source": [
        "Criterion function of optimal GMM with weighting matrix $W$:\n",
        "\n",
        "$Q(\\theta)  = \\left(\\frac{1}{n}\\sum_{i=1}^{n}\t{\\bf h}(\\theta,X_{i})\\right)^{T}  W\\left(\\frac{1}{n}\\sum_{i=1}^{n}\t{\\bf h}(\\theta,X_{i})\\right)$"
      ]
    },
    {
      "cell_type": "code",
      "metadata": {
        "id": "4hVqgh8vvYwJ"
      },
      "source": [
        "def Q_optimal(theta,data,W):\n",
        "  hx=0\n",
        "  for x_data in data:\n",
        "    hx += h(theta,x_data)/len(data)\n",
        "  return np.matmul(np.matmul(np.transpose(hx),W),hx)[0][0]"
      ],
      "execution_count": 301,
      "outputs": []
    },
    {
      "cell_type": "markdown",
      "metadata": {
        "id": "HTea8vOPP3Jd"
      },
      "source": [
        "Minimizing the GMM objective function with optimal weighting matrix"
      ]
    },
    {
      "cell_type": "code",
      "metadata": {
        "id": "VXhA-Yimvl91"
      },
      "source": [
        "res = minimize_scalar(Q_optimal,args=(data,inv(S)))"
      ],
      "execution_count": 302,
      "outputs": []
    },
    {
      "cell_type": "code",
      "metadata": {
        "colab": {
          "base_uri": "https://localhost:8080/"
        },
        "id": "oIkyPA_uvwu-",
        "outputId": "d653e07d-ff17-49ac-de3d-abd1959d4602"
      },
      "source": [
        "res"
      ],
      "execution_count": 303,
      "outputs": [
        {
          "output_type": "execute_result",
          "data": {
            "text/plain": [
              "     fun: 0.13244718114744697\n",
              "    nfev: 20\n",
              "     nit: 16\n",
              " success: True\n",
              "       x: 1.1331002461152475"
            ]
          },
          "metadata": {},
          "execution_count": 303
        }
      ]
    },
    {
      "cell_type": "markdown",
      "metadata": {
        "id": "X4lgzm3mQGDC"
      },
      "source": [
        "## More general example\n",
        "More generally, suppose we observe the following data"
      ]
    },
    {
      "cell_type": "code",
      "metadata": {
        "id": "tKQjoG6IQEw6"
      },
      "source": [
        "np.random.seed(2)\n",
        "data = np.random.uniform(0,2.5,(100,))"
      ],
      "execution_count": 384,
      "outputs": []
    },
    {
      "cell_type": "code",
      "metadata": {
        "colab": {
          "base_uri": "https://localhost:8080/"
        },
        "id": "OQ1VIGNJQLEp",
        "outputId": "c99149ed-2683-44ef-e5f3-80c0b810dbdb"
      },
      "source": [
        "#Method of moments\n",
        "np.mean(data)*2"
      ],
      "execution_count": 385,
      "outputs": [
        {
          "output_type": "execute_result",
          "data": {
            "text/plain": [
              "2.300141226760969"
            ]
          },
          "metadata": {},
          "execution_count": 385
        }
      ]
    },
    {
      "cell_type": "code",
      "metadata": {
        "colab": {
          "base_uri": "https://localhost:8080/"
        },
        "id": "y9w5hgqEQYGR",
        "outputId": "caef8f75-2c7a-42be-9973-7016f97cc33b"
      },
      "source": [
        "#GMM with identity weighting matrix\n",
        "res = minimize_scalar(Q,args = data)\n",
        "res"
      ],
      "execution_count": 386,
      "outputs": [
        {
          "output_type": "execute_result",
          "data": {
            "text/plain": [
              "     fun: 0.0004997826551992208\n",
              "    nfev: 15\n",
              "     nit: 10\n",
              " success: True\n",
              "       x: 2.31325678529331"
            ]
          },
          "metadata": {},
          "execution_count": 386
        }
      ]
    },
    {
      "cell_type": "code",
      "metadata": {
        "colab": {
          "base_uri": "https://localhost:8080/"
        },
        "id": "K39iYCVpQeAI",
        "outputId": "855062eb-b522-4cd1-ff0c-c7b8d6fe9d7c"
      },
      "source": [
        "#Optimal GMM\n",
        "theta_hat = res.x\n",
        "S = 0\n",
        "for x_data in data: \n",
        "  S += np.matmul(h(theta_hat,x_data),np.transpose(h(theta_hat,x_data)))/len(data)\n",
        "inv(S)"
      ],
      "execution_count": 387,
      "outputs": [
        {
          "output_type": "execute_result",
          "data": {
            "text/plain": [
              "array([[ 182.9620483 , -168.47873701,   42.53665462],\n",
              "       [-168.47873701,  165.57519418,  -43.49207085],\n",
              "       [  42.53665462,  -43.49207085,   11.74283067]])"
            ]
          },
          "metadata": {},
          "execution_count": 387
        }
      ]
    },
    {
      "cell_type": "code",
      "metadata": {
        "colab": {
          "base_uri": "https://localhost:8080/"
        },
        "id": "O-kZz0tUQhUh",
        "outputId": "5f5972b4-a8a3-45a4-af8f-1d950b95bb8a"
      },
      "source": [
        "res = minimize_scalar(Q_optimal,args=(data,inv(S)))\n",
        "res"
      ],
      "execution_count": 388,
      "outputs": [
        {
          "output_type": "execute_result",
          "data": {
            "text/plain": [
              "     fun: 0.03334602289517173\n",
              "    nfev: 19\n",
              "     nit: 14\n",
              " success: True\n",
              "       x: 2.3913022568201696"
            ]
          },
          "metadata": {},
          "execution_count": 388
        }
      ]
    },
    {
      "cell_type": "markdown",
      "metadata": {
        "id": "6slY_xQYXUKP"
      },
      "source": [
        "## Asymptotic variance\n",
        "\n",
        "$\\hat{G} = \\frac{1}{n}\\sum_{i=1}^{n}\t\\frac{\\partial {\\bf h}(\\theta,X_{i})}{\\partial \\theta}\\Big|_{\\theta = \\hat{\\theta}}$"
      ]
    },
    {
      "cell_type": "code",
      "metadata": {
        "id": "LzDpAWJKXWId"
      },
      "source": [
        "def g(theta):\n",
        "  return np.array([[-1/2],\n",
        "            [-(2*theta)/3],\n",
        "            [-3*(theta**2)/4]])"
      ],
      "execution_count": 389,
      "outputs": []
    },
    {
      "cell_type": "code",
      "metadata": {
        "id": "VCKHYsd9XlUs"
      },
      "source": [
        "theta_ogmm = res.x"
      ],
      "execution_count": 390,
      "outputs": []
    },
    {
      "cell_type": "markdown",
      "metadata": {
        "id": "79Sj6exwZAss"
      },
      "source": [
        "Asymptotic variance of optimal GMM is: $\\frac{1}{n}(\\hat{G}^{T} \\hat{S}^{-1} \\hat{G} )^{-1}$"
      ]
    },
    {
      "cell_type": "code",
      "metadata": {
        "colab": {
          "base_uri": "https://localhost:8080/"
        },
        "id": "TSOhaaLCXhdM",
        "outputId": "ff06e92a-6752-4011-c4c4-59ab1bd8d049"
      },
      "source": [
        "(1/len(data))*(np.matmul(np.matmul(np.transpose(g(theta_ogmm)),inv(S)),g(theta_ogmm)))**-1"
      ],
      "execution_count": 391,
      "outputs": [
        {
          "output_type": "execute_result",
          "data": {
            "text/plain": [
              "array([[0.00604387]])"
            ]
          },
          "metadata": {},
          "execution_count": 391
        }
      ]
    },
    {
      "cell_type": "code",
      "metadata": {
        "id": "UIHgBQi8YVN5"
      },
      "source": [
        "np.random.seed(2)\n",
        "data = np.random.uniform(0,2.5,(1000,))"
      ],
      "execution_count": null,
      "outputs": []
    },
    {
      "cell_type": "markdown",
      "metadata": {
        "id": "OMB6YBdxXUR_"
      },
      "source": [
        ""
      ]
    }
  ]
}