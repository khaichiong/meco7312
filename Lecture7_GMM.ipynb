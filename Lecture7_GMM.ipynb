{
  "nbformat": 4,
  "nbformat_minor": 0,
  "metadata": {
    "colab": {
      "name": "Lecture7_GMM.ipynb",
      "provenance": [],
      "authorship_tag": "ABX9TyMfFGEKnRiUuB88SrBsaI28",
      "include_colab_link": true
    },
    "kernelspec": {
      "name": "python3",
      "display_name": "Python 3"
    },
    "language_info": {
      "name": "python"
    }
  },
  "cells": [
    {
      "cell_type": "markdown",
      "metadata": {
        "id": "view-in-github",
        "colab_type": "text"
      },
      "source": [
        "<a href=\"https://colab.research.google.com/github/khaichiong/meco7312/blob/master/Lecture7_GMM.ipynb\" target=\"_parent\"><img src=\"https://colab.research.google.com/assets/colab-badge.svg\" alt=\"Open In Colab\"/></a>"
      ]
    },
    {
      "cell_type": "code",
      "metadata": {
        "id": "43K35KJGlvAb"
      },
      "source": [
        "import numpy as np\n",
        "from scipy.optimize import minimize_scalar\n",
        "from numpy.linalg import inv"
      ],
      "execution_count": 117,
      "outputs": []
    },
    {
      "cell_type": "markdown",
      "metadata": {
        "id": "q6aYAdJvlw-S"
      },
      "source": [
        "#Optimal GMM"
      ]
    },
    {
      "cell_type": "markdown",
      "metadata": {
        "id": "6uy-xfYqmhYO"
      },
      "source": [
        "Vector of moment conditions ${\\bf h}(\\theta,X)$ such that $E[{\\bf h}(\\theta,X)] = \\vec{0}$"
      ]
    },
    {
      "cell_type": "code",
      "metadata": {
        "id": "Lb5MegDVlx3o"
      },
      "source": [
        "def h(theta,x):\n",
        "  return np.array([[x - theta/2],\n",
        "            [x**2 - (theta**2)/3],\n",
        "            [x**3 - (theta**3)/4]])"
      ],
      "execution_count": 293,
      "outputs": []
    },
    {
      "cell_type": "markdown",
      "metadata": {
        "id": "amcePDtRm2g-"
      },
      "source": [
        "GMM criterion function with equal weight (inefficient but consistent):\n",
        "\n",
        " $Q(\\theta) =  \\left(\\frac{1}{n}\\sum_{i=1}^{n}\t{\\bf h}(\\theta,X_{i})\\right)^{T}  \\left(\\frac{1}{n}\\sum_{i=1}^{n}\t{\\bf h}(\\theta,X_{i})\\right)$"
      ]
    },
    {
      "cell_type": "code",
      "metadata": {
        "id": "OHWdMfM5mTLG"
      },
      "source": [
        "def Q(theta, data):\n",
        "  hx=0\n",
        "  for x_data in data:\n",
        "    hx += h(theta,x_data)/len(data)\n",
        "  return np.matmul(np.transpose(hx),hx)[0][0]"
      ],
      "execution_count": 294,
      "outputs": []
    },
    {
      "cell_type": "markdown",
      "metadata": {
        "id": "8bHMC-1UP_Pn"
      },
      "source": [
        "Suppose we observe the following data"
      ]
    },
    {
      "cell_type": "code",
      "metadata": {
        "id": "Kcv7Ly8KN6YR"
      },
      "source": [
        "data = np.array([0.1,0.2,0.6,1.0])"
      ],
      "execution_count": 295,
      "outputs": []
    },
    {
      "cell_type": "markdown",
      "metadata": {
        "id": "fiqqvCdaOGqH"
      },
      "source": [
        "Method of moments estimator:"
      ]
    },
    {
      "cell_type": "code",
      "metadata": {
        "colab": {
          "base_uri": "https://localhost:8080/"
        },
        "id": "N6_80PZKwcfq",
        "outputId": "d61a68e5-5f8f-43f6-860a-a5b2e39720fc"
      },
      "source": [
        "np.mean(data)*2"
      ],
      "execution_count": 296,
      "outputs": [
        {
          "output_type": "execute_result",
          "data": {
            "text/plain": [
              "0.95"
            ]
          },
          "metadata": {},
          "execution_count": 296
        }
      ]
    },
    {
      "cell_type": "markdown",
      "metadata": {
        "id": "qxZ7gXE5OSSg"
      },
      "source": [
        "GMM estimator with identity weighting matrix. Minimizing the criterion function"
      ]
    },
    {
      "cell_type": "code",
      "metadata": {
        "id": "OyAM5i4Znq4z"
      },
      "source": [
        "res = minimize_scalar(Q,args = data)"
      ],
      "execution_count": 297,
      "outputs": []
    },
    {
      "cell_type": "code",
      "metadata": {
        "colab": {
          "base_uri": "https://localhost:8080/"
        },
        "id": "9_HHlO4nntIX",
        "outputId": "c244b1a4-c731-412e-87ed-4faa611da1ea"
      },
      "source": [
        "res"
      ],
      "execution_count": 298,
      "outputs": [
        {
          "output_type": "execute_result",
          "data": {
            "text/plain": [
              "     fun: 0.002671444829637783\n",
              "    nfev: 16\n",
              "     nit: 12\n",
              " success: True\n",
              "       x: 1.034208326372224"
            ]
          },
          "metadata": {},
          "execution_count": 298
        }
      ]
    },
    {
      "cell_type": "markdown",
      "metadata": {
        "id": "M5d-8bvbtlfj"
      },
      "source": [
        "Optimal weighting matrix"
      ]
    },
    {
      "cell_type": "code",
      "metadata": {
        "colab": {
          "base_uri": "https://localhost:8080/"
        },
        "id": "X5kRq_ZBtitK",
        "outputId": "b2df36d4-5a00-4cde-9b9d-c2ed1453406a"
      },
      "source": [
        "theta_hat = res.x\n",
        "S = 0\n",
        "for x_data in data: \n",
        "  S += np.matmul(h(theta_hat,x_data),np.transpose(h(theta_hat,x_data)))/len(data)\n",
        "S"
      ],
      "execution_count": 299,
      "outputs": [
        {
          "output_type": "execute_result",
          "data": {
            "text/plain": [
              "array([[0.12864776, 0.13898214, 0.1361055 ],\n",
              "       [0.13898214, 0.15858498, 0.16144969],\n",
              "       [0.1361055 , 0.16144969, 0.16877364]])"
            ]
          },
          "metadata": {},
          "execution_count": 299
        }
      ]
    },
    {
      "cell_type": "code",
      "metadata": {
        "colab": {
          "base_uri": "https://localhost:8080/"
        },
        "id": "1hDtzOdbuvh2",
        "outputId": "c006254e-6158-4baa-be11-a2eb9e213e29"
      },
      "source": [
        "#np.linalg.pinv(S)\n",
        "inv(S)"
      ],
      "execution_count": 300,
      "outputs": [
        {
          "output_type": "execute_result",
          "data": {
            "text/plain": [
              "array([[  3837.58885062,  -8138.60069147,   4690.64729066],\n",
              "       [ -8138.60069147,  17501.47304576, -10178.71687947],\n",
              "       [  4690.64729066, -10178.71687947,   5960.2186682 ]])"
            ]
          },
          "metadata": {},
          "execution_count": 300
        }
      ]
    },
    {
      "cell_type": "markdown",
      "metadata": {
        "id": "fnooP91iPTjR"
      },
      "source": [
        "Criterion function of optimal GMM with weighting matrix $W$:\n",
        "\n",
        "$Q(\\theta)  = \\left(\\frac{1}{n}\\sum_{i=1}^{n}\t{\\bf h}(\\theta,X_{i})\\right)^{T}  W\\left(\\frac{1}{n}\\sum_{i=1}^{n}\t{\\bf h}(\\theta,X_{i})\\right)$"
      ]
    },
    {
      "cell_type": "code",
      "metadata": {
        "id": "4hVqgh8vvYwJ"
      },
      "source": [
        "def Q_optimal(theta,data,W):\n",
        "  hx=0\n",
        "  for x_data in data:\n",
        "    hx += h(theta,x_data)/len(data)\n",
        "  return np.matmul(np.matmul(np.transpose(hx),W),hx)[0][0]"
      ],
      "execution_count": 301,
      "outputs": []
    },
    {
      "cell_type": "markdown",
      "metadata": {
        "id": "HTea8vOPP3Jd"
      },
      "source": [
        "Minimizing the GMM objective function with optimal weighting matrix"
      ]
    },
    {
      "cell_type": "code",
      "metadata": {
        "id": "VXhA-Yimvl91"
      },
      "source": [
        "res = minimize_scalar(Q_optimal,args=(data,inv(S)))"
      ],
      "execution_count": 302,
      "outputs": []
    },
    {
      "cell_type": "code",
      "metadata": {
        "colab": {
          "base_uri": "https://localhost:8080/"
        },
        "id": "oIkyPA_uvwu-",
        "outputId": "d653e07d-ff17-49ac-de3d-abd1959d4602"
      },
      "source": [
        "res"
      ],
      "execution_count": 303,
      "outputs": [
        {
          "output_type": "execute_result",
          "data": {
            "text/plain": [
              "     fun: 0.13244718114744697\n",
              "    nfev: 20\n",
              "     nit: 16\n",
              " success: True\n",
              "       x: 1.1331002461152475"
            ]
          },
          "metadata": {},
          "execution_count": 303
        }
      ]
    },
    {
      "cell_type": "markdown",
      "metadata": {
        "id": "X4lgzm3mQGDC"
      },
      "source": [
        "More generally, suppose we observe the following data"
      ]
    },
    {
      "cell_type": "code",
      "metadata": {
        "id": "tKQjoG6IQEw6"
      },
      "source": [
        "np.random.seed(2)\n",
        "data = np.random.uniform(0,2.5,(1000,))"
      ],
      "execution_count": 371,
      "outputs": []
    },
    {
      "cell_type": "code",
      "metadata": {
        "colab": {
          "base_uri": "https://localhost:8080/"
        },
        "id": "OQ1VIGNJQLEp",
        "outputId": "dcc00180-1b90-43b8-876a-bbdb4e7eb346"
      },
      "source": [
        "#Method of moments\n",
        "np.mean(data)*2"
      ],
      "execution_count": 372,
      "outputs": [
        {
          "output_type": "execute_result",
          "data": {
            "text/plain": [
              "2.437033133362619"
            ]
          },
          "metadata": {},
          "execution_count": 372
        }
      ]
    },
    {
      "cell_type": "code",
      "metadata": {
        "colab": {
          "base_uri": "https://localhost:8080/"
        },
        "id": "y9w5hgqEQYGR",
        "outputId": "31ebadb7-ff09-4e7c-8ba7-3e1d4c783504"
      },
      "source": [
        "#GMM with identity weighting matrix\n",
        "res = minimize_scalar(Q,args = data)\n",
        "res"
      ],
      "execution_count": 373,
      "outputs": [
        {
          "output_type": "execute_result",
          "data": {
            "text/plain": [
              "     fun: 0.00032783971436775176\n",
              "    nfev: 16\n",
              "     nit: 11\n",
              " success: True\n",
              "       x: 2.4516826787282553"
            ]
          },
          "metadata": {},
          "execution_count": 373
        }
      ]
    },
    {
      "cell_type": "code",
      "metadata": {
        "colab": {
          "base_uri": "https://localhost:8080/"
        },
        "id": "K39iYCVpQeAI",
        "outputId": "7b19b13f-9be0-49f3-8720-04d89a67eb07"
      },
      "source": [
        "#Optimal GMM\n",
        "theta_hat = res.x\n",
        "S = 0\n",
        "for x_data in data: \n",
        "  S += np.matmul(h(theta_hat,x_data),np.transpose(h(theta_hat,x_data)))/len(data)\n",
        "inv(S)"
      ],
      "execution_count": 374,
      "outputs": [
        {
          "output_type": "execute_result",
          "data": {
            "text/plain": [
              "array([[ 196.95151812, -177.57095674,   44.31472848],\n",
              "       [-177.57095674,  170.80893473,  -44.3797855 ],\n",
              "       [  44.31472848,  -44.3797855 ,   11.85107908]])"
            ]
          },
          "metadata": {},
          "execution_count": 374
        }
      ]
    },
    {
      "cell_type": "code",
      "metadata": {
        "colab": {
          "base_uri": "https://localhost:8080/"
        },
        "id": "O-kZz0tUQhUh",
        "outputId": "fd6c6749-1e64-4a80-e4f4-3b0c54340d11"
      },
      "source": [
        "res = minimize_scalar(Q_optimal,args=(data,inv(S)))\n",
        "res"
      ],
      "execution_count": 375,
      "outputs": [
        {
          "output_type": "execute_result",
          "data": {
            "text/plain": [
              "     fun: 0.008827662683287765\n",
              "    nfev: 18\n",
              "     nit: 12\n",
              " success: True\n",
              "       x: 2.5101597133561007"
            ]
          },
          "metadata": {},
          "execution_count": 375
        }
      ]
    },
    {
      "cell_type": "code",
      "metadata": {
        "id": "3X6IE4LSn9Hx"
      },
      "source": [
        "x1 = 0.1\n",
        "x2 = 0.1\n",
        "x3 = 1.0\n",
        "def Q(theta):\n",
        "  q = (h(theta,x1) + h(theta,x2) + h(theta,x3))/3\n",
        "  return np.sum(q**2)"
      ],
      "execution_count": 73,
      "outputs": []
    },
    {
      "cell_type": "code",
      "metadata": {
        "id": "lSUpOs_guvC9"
      },
      "source": [
        ""
      ],
      "execution_count": null,
      "outputs": []
    },
    {
      "cell_type": "code",
      "metadata": {
        "colab": {
          "base_uri": "https://localhost:8080/"
        },
        "id": "qF5dlQnMol8u",
        "outputId": "73a45db8-a341-4f6b-a8ad-2d4b14008776"
      },
      "source": [
        "Q(1.4)"
      ],
      "execution_count": 81,
      "outputs": [
        {
          "output_type": "execute_result",
          "data": {
            "text/plain": [
              "0.31208177777777757"
            ]
          },
          "metadata": {},
          "execution_count": 81
        }
      ]
    },
    {
      "cell_type": "code",
      "metadata": {
        "colab": {
          "base_uri": "https://localhost:8080/"
        },
        "id": "gIbhW6jsomoM",
        "outputId": "f31b4968-4172-4ba4-8f54-befcfc136314"
      },
      "source": [
        "plt.plot(Q(theta))"
      ],
      "execution_count": 25,
      "outputs": [
        {
          "output_type": "execute_result",
          "data": {
            "text/plain": [
              "0.06885461111111112"
            ]
          },
          "metadata": {},
          "execution_count": 25
        }
      ]
    },
    {
      "cell_type": "code",
      "metadata": {
        "colab": {
          "base_uri": "https://localhost:8080/"
        },
        "id": "5XFB_HaYo5G8",
        "outputId": "3f88cc3b-1251-4261-b3a7-10aecb26fe2b"
      },
      "source": [
        "theta=0.0\n",
        "(h(theta,x1) + h(theta,x2) + h(theta,x3))/3"
      ],
      "execution_count": 31,
      "outputs": [
        {
          "output_type": "execute_result",
          "data": {
            "text/plain": [
              "array([[0.4  ],\n",
              "       [0.34 ],\n",
              "       [0.334]])"
            ]
          },
          "metadata": {},
          "execution_count": 31
        }
      ]
    },
    {
      "cell_type": "code",
      "metadata": {
        "colab": {
          "base_uri": "https://localhost:8080/"
        },
        "id": "KPMF1qYzpoK_",
        "outputId": "6955f021-a5ec-432f-f493-99c57712911a"
      },
      "source": [
        "theta=1.0\n",
        "(h(theta,x1) + h(theta,x2) + h(theta,x3))/3"
      ],
      "execution_count": 32,
      "outputs": [
        {
          "output_type": "execute_result",
          "data": {
            "text/plain": [
              "array([[-0.1       ],\n",
              "       [ 0.00666667],\n",
              "       [-0.416     ]])"
            ]
          },
          "metadata": {},
          "execution_count": 32
        }
      ]
    },
    {
      "cell_type": "code",
      "metadata": {
        "colab": {
          "base_uri": "https://localhost:8080/"
        },
        "id": "LjShanqap2Qe",
        "outputId": "68f676ef-8068-4b46-b212-fbc1da05a97c"
      },
      "source": [
        "0.334 - 1.0/4"
      ],
      "execution_count": 34,
      "outputs": [
        {
          "output_type": "execute_result",
          "data": {
            "text/plain": [
              "0.08400000000000002"
            ]
          },
          "metadata": {},
          "execution_count": 34
        }
      ]
    },
    {
      "cell_type": "code",
      "metadata": {
        "id": "xbWQR7bcp6iC"
      },
      "source": [
        ""
      ],
      "execution_count": null,
      "outputs": []
    }
  ]
}