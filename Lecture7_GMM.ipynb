{
  "nbformat": 4,
  "nbformat_minor": 0,
  "metadata": {
    "colab": {
      "name": "Lecture7_GMM.ipynb",
      "provenance": [],
      "authorship_tag": "ABX9TyPjZFWxuVcnev7prhCEebKj",
      "include_colab_link": true
    },
    "kernelspec": {
      "name": "python3",
      "display_name": "Python 3"
    },
    "language_info": {
      "name": "python"
    }
  },
  "cells": [
    {
      "cell_type": "markdown",
      "metadata": {
        "id": "view-in-github",
        "colab_type": "text"
      },
      "source": [
        "<a href=\"https://colab.research.google.com/github/khaichiong/meco7312/blob/master/Lecture7_GMM.ipynb\" target=\"_parent\"><img src=\"https://colab.research.google.com/assets/colab-badge.svg\" alt=\"Open In Colab\"/></a>"
      ]
    },
    {
      "cell_type": "code",
      "metadata": {
        "id": "43K35KJGlvAb"
      },
      "source": [
        "import numpy as np\n",
        "from scipy.optimize import minimize_scalar\n",
        "from numpy.linalg import inv"
      ],
      "execution_count": 1,
      "outputs": []
    },
    {
      "cell_type": "markdown",
      "metadata": {
        "id": "q6aYAdJvlw-S"
      },
      "source": [
        "#Optimal GMM"
      ]
    },
    {
      "cell_type": "markdown",
      "metadata": {
        "id": "6uy-xfYqmhYO"
      },
      "source": [
        "Vector of moment conditions ${\\bf h}(\\theta,X)$ such that $E[{\\bf h}(\\theta,X)] = \\vec{0}$"
      ]
    },
    {
      "cell_type": "code",
      "metadata": {
        "id": "Lb5MegDVlx3o"
      },
      "source": [
        "def h(theta,x):\n",
        "  return np.array([[x - theta/2],\n",
        "            [x**2 - (theta**2)/3],\n",
        "            [x**3 - (theta**3)/4]])"
      ],
      "execution_count": 2,
      "outputs": []
    },
    {
      "cell_type": "markdown",
      "metadata": {
        "id": "amcePDtRm2g-"
      },
      "source": [
        "GMM criterion function with equal weight (inefficient but consistent):\n",
        "\n",
        " $Q(\\theta) =  \\left(\\frac{1}{n}\\sum_{i=1}^{n}\t{\\bf h}(\\theta,X_{i})\\right)^{T}  \\left(\\frac{1}{n}\\sum_{i=1}^{n}\t{\\bf h}(\\theta,X_{i})\\right)$"
      ]
    },
    {
      "cell_type": "code",
      "metadata": {
        "id": "OHWdMfM5mTLG"
      },
      "source": [
        "def Q(theta, data):\n",
        "  hx=0\n",
        "  for x_data in data:\n",
        "    hx += h(theta,x_data)/len(data)\n",
        "  return np.matmul(np.transpose(hx),hx)[0][0]"
      ],
      "execution_count": 3,
      "outputs": []
    },
    {
      "cell_type": "markdown",
      "metadata": {
        "id": "8bHMC-1UP_Pn"
      },
      "source": [
        "Suppose we observe the following data"
      ]
    },
    {
      "cell_type": "code",
      "metadata": {
        "id": "Kcv7Ly8KN6YR"
      },
      "source": [
        "data = np.array([0.1,0.2,0.6,1.0])"
      ],
      "execution_count": 4,
      "outputs": []
    },
    {
      "cell_type": "markdown",
      "metadata": {
        "id": "fiqqvCdaOGqH"
      },
      "source": [
        "Method of moments estimator:"
      ]
    },
    {
      "cell_type": "code",
      "metadata": {
        "colab": {
          "base_uri": "https://localhost:8080/"
        },
        "id": "N6_80PZKwcfq",
        "outputId": "9a2758b1-b258-4013-c4e2-fadefb3004d2"
      },
      "source": [
        "np.mean(data)*2"
      ],
      "execution_count": 5,
      "outputs": [
        {
          "output_type": "execute_result",
          "data": {
            "text/plain": [
              "0.95"
            ]
          },
          "metadata": {},
          "execution_count": 5
        }
      ]
    },
    {
      "cell_type": "markdown",
      "metadata": {
        "id": "qxZ7gXE5OSSg"
      },
      "source": [
        "GMM estimator with identity weighting matrix. Minimizing the criterion function"
      ]
    },
    {
      "cell_type": "code",
      "metadata": {
        "id": "OyAM5i4Znq4z"
      },
      "source": [
        "res = minimize_scalar(Q,args = data)"
      ],
      "execution_count": 6,
      "outputs": []
    },
    {
      "cell_type": "code",
      "metadata": {
        "colab": {
          "base_uri": "https://localhost:8080/"
        },
        "id": "9_HHlO4nntIX",
        "outputId": "08b4a4b1-190c-4ccb-adec-79bf86c842c4"
      },
      "source": [
        "res"
      ],
      "execution_count": 7,
      "outputs": [
        {
          "output_type": "execute_result",
          "data": {
            "text/plain": [
              "     fun: 0.002671444829637783\n",
              "    nfev: 16\n",
              "     nit: 12\n",
              " success: True\n",
              "       x: 1.034208326372224"
            ]
          },
          "metadata": {},
          "execution_count": 7
        }
      ]
    },
    {
      "cell_type": "markdown",
      "metadata": {
        "id": "M5d-8bvbtlfj"
      },
      "source": [
        "## Optimal weighting matrix"
      ]
    },
    {
      "cell_type": "code",
      "metadata": {
        "colab": {
          "base_uri": "https://localhost:8080/"
        },
        "id": "X5kRq_ZBtitK",
        "outputId": "898a531d-76d4-4f26-b61f-6559a7eedce9"
      },
      "source": [
        "theta_hat = res.x\n",
        "S = 0\n",
        "for x_data in data: \n",
        "  S += np.matmul(h(theta_hat,x_data),np.transpose(h(theta_hat,x_data)))/len(data)\n",
        "S"
      ],
      "execution_count": 8,
      "outputs": [
        {
          "output_type": "execute_result",
          "data": {
            "text/plain": [
              "array([[0.12864776, 0.13898214, 0.1361055 ],\n",
              "       [0.13898214, 0.15858498, 0.16144969],\n",
              "       [0.1361055 , 0.16144969, 0.16877364]])"
            ]
          },
          "metadata": {},
          "execution_count": 8
        }
      ]
    },
    {
      "cell_type": "code",
      "metadata": {
        "colab": {
          "base_uri": "https://localhost:8080/"
        },
        "id": "1hDtzOdbuvh2",
        "outputId": "19c0f029-9c77-487d-d35a-8df46b7e49bd"
      },
      "source": [
        "#np.linalg.pinv(S)\n",
        "inv(S)"
      ],
      "execution_count": 9,
      "outputs": [
        {
          "output_type": "execute_result",
          "data": {
            "text/plain": [
              "array([[  3837.58885062,  -8138.60069147,   4690.64729066],\n",
              "       [ -8138.60069147,  17501.47304576, -10178.71687947],\n",
              "       [  4690.64729066, -10178.71687947,   5960.2186682 ]])"
            ]
          },
          "metadata": {},
          "execution_count": 9
        }
      ]
    },
    {
      "cell_type": "markdown",
      "metadata": {
        "id": "fnooP91iPTjR"
      },
      "source": [
        "Criterion function of optimal GMM with weighting matrix $W$:\n",
        "\n",
        "$Q(\\theta)  = \\left(\\frac{1}{n}\\sum_{i=1}^{n}\t{\\bf h}(\\theta,X_{i})\\right)^{T}  W\\left(\\frac{1}{n}\\sum_{i=1}^{n}\t{\\bf h}(\\theta,X_{i})\\right)$"
      ]
    },
    {
      "cell_type": "code",
      "metadata": {
        "id": "4hVqgh8vvYwJ"
      },
      "source": [
        "def Q_optimal(theta,data,W):\n",
        "  hx=0\n",
        "  for x_data in data:\n",
        "    hx += h(theta,x_data)/len(data)\n",
        "  return np.matmul(np.matmul(np.transpose(hx),W),hx)[0][0]"
      ],
      "execution_count": 10,
      "outputs": []
    },
    {
      "cell_type": "markdown",
      "metadata": {
        "id": "HTea8vOPP3Jd"
      },
      "source": [
        "Minimizing the GMM objective function with optimal weighting matrix"
      ]
    },
    {
      "cell_type": "code",
      "metadata": {
        "id": "VXhA-Yimvl91"
      },
      "source": [
        "res = minimize_scalar(Q_optimal,args=(data,inv(S)))"
      ],
      "execution_count": 11,
      "outputs": []
    },
    {
      "cell_type": "code",
      "metadata": {
        "colab": {
          "base_uri": "https://localhost:8080/"
        },
        "id": "oIkyPA_uvwu-",
        "outputId": "15a4388e-5acd-47af-9ae7-9d85f9f7a1b7"
      },
      "source": [
        "res"
      ],
      "execution_count": 12,
      "outputs": [
        {
          "output_type": "execute_result",
          "data": {
            "text/plain": [
              "     fun: 0.13244718114744697\n",
              "    nfev: 20\n",
              "     nit: 16\n",
              " success: True\n",
              "       x: 1.1331002461152475"
            ]
          },
          "metadata": {},
          "execution_count": 12
        }
      ]
    },
    {
      "cell_type": "markdown",
      "metadata": {
        "id": "X4lgzm3mQGDC"
      },
      "source": [
        "## More general example\n",
        "More generally, suppose we observe the following data"
      ]
    },
    {
      "cell_type": "code",
      "metadata": {
        "id": "tKQjoG6IQEw6"
      },
      "source": [
        "np.random.seed(2)\n",
        "data = np.random.uniform(0,2.5,(100,))"
      ],
      "execution_count": 13,
      "outputs": []
    },
    {
      "cell_type": "code",
      "metadata": {
        "colab": {
          "base_uri": "https://localhost:8080/"
        },
        "id": "OQ1VIGNJQLEp",
        "outputId": "0a627ba0-afae-4399-fa44-f39d3861ad29"
      },
      "source": [
        "#Method of moments\n",
        "np.mean(data)*2"
      ],
      "execution_count": 14,
      "outputs": [
        {
          "output_type": "execute_result",
          "data": {
            "text/plain": [
              "2.300141226760969"
            ]
          },
          "metadata": {},
          "execution_count": 14
        }
      ]
    },
    {
      "cell_type": "code",
      "metadata": {
        "colab": {
          "base_uri": "https://localhost:8080/"
        },
        "id": "y9w5hgqEQYGR",
        "outputId": "e46d6909-3971-463d-f89c-238b7dd5497f"
      },
      "source": [
        "#GMM with identity weighting matrix\n",
        "res = minimize_scalar(Q,args = data)\n",
        "res"
      ],
      "execution_count": 15,
      "outputs": [
        {
          "output_type": "execute_result",
          "data": {
            "text/plain": [
              "     fun: 0.0004997826551992208\n",
              "    nfev: 15\n",
              "     nit: 10\n",
              " success: True\n",
              "       x: 2.31325678529331"
            ]
          },
          "metadata": {},
          "execution_count": 15
        }
      ]
    },
    {
      "cell_type": "code",
      "metadata": {
        "colab": {
          "base_uri": "https://localhost:8080/"
        },
        "id": "K39iYCVpQeAI",
        "outputId": "e0bcd260-9739-41b8-945b-37b72dd4b502"
      },
      "source": [
        "#Optimal GMM\n",
        "theta_hat = res.x\n",
        "S = 0\n",
        "for x_data in data: \n",
        "  S += np.matmul(h(theta_hat,x_data),np.transpose(h(theta_hat,x_data)))/len(data)\n",
        "inv(S)"
      ],
      "execution_count": 16,
      "outputs": [
        {
          "output_type": "execute_result",
          "data": {
            "text/plain": [
              "array([[ 182.9620483 , -168.47873701,   42.53665462],\n",
              "       [-168.47873701,  165.57519418,  -43.49207085],\n",
              "       [  42.53665462,  -43.49207085,   11.74283067]])"
            ]
          },
          "metadata": {},
          "execution_count": 16
        }
      ]
    },
    {
      "cell_type": "code",
      "metadata": {
        "colab": {
          "base_uri": "https://localhost:8080/"
        },
        "id": "O-kZz0tUQhUh",
        "outputId": "e347b5f6-d45a-4575-d0bb-90729a947d62"
      },
      "source": [
        "res = minimize_scalar(Q_optimal,args=(data,inv(S)))\n",
        "res"
      ],
      "execution_count": 17,
      "outputs": [
        {
          "output_type": "execute_result",
          "data": {
            "text/plain": [
              "     fun: 0.03334602289517173\n",
              "    nfev: 19\n",
              "     nit: 14\n",
              " success: True\n",
              "       x: 2.3913022568201696"
            ]
          },
          "metadata": {},
          "execution_count": 17
        }
      ]
    },
    {
      "cell_type": "markdown",
      "metadata": {
        "id": "6slY_xQYXUKP"
      },
      "source": [
        "## Asymptotic variance\n",
        "\n",
        "$\\hat{G} = \\frac{1}{n}\\sum_{i=1}^{n}\t\\frac{\\partial {\\bf h}(\\theta,X_{i})}{\\partial \\theta}\\Big|_{\\theta = \\hat{\\theta}}$"
      ]
    },
    {
      "cell_type": "code",
      "metadata": {
        "id": "LzDpAWJKXWId"
      },
      "source": [
        "def g(theta):\n",
        "  return np.array([[-1/2],\n",
        "            [-(2*theta)/3],\n",
        "            [-3*(theta**2)/4]])"
      ],
      "execution_count": 18,
      "outputs": []
    },
    {
      "cell_type": "code",
      "metadata": {
        "id": "VCKHYsd9XlUs"
      },
      "source": [
        "theta_ogmm = res.x"
      ],
      "execution_count": 19,
      "outputs": []
    },
    {
      "cell_type": "markdown",
      "metadata": {
        "id": "79Sj6exwZAss"
      },
      "source": [
        "Asymptotic variance of optimal GMM is: $\\frac{1}{n}(\\hat{G}^{T} \\hat{S}^{-1} \\hat{G} )^{-1}$"
      ]
    },
    {
      "cell_type": "code",
      "metadata": {
        "colab": {
          "base_uri": "https://localhost:8080/"
        },
        "id": "TSOhaaLCXhdM",
        "outputId": "f5fc94d5-e2da-485a-843f-0767ddea327c"
      },
      "source": [
        "(1/len(data))*(np.matmul(np.matmul(np.transpose(g(theta_ogmm)),inv(S)),g(theta_ogmm)))**-1"
      ],
      "execution_count": 20,
      "outputs": [
        {
          "output_type": "execute_result",
          "data": {
            "text/plain": [
              "array([[0.00604387]])"
            ]
          },
          "metadata": {},
          "execution_count": 20
        }
      ]
    },
    {
      "cell_type": "code",
      "metadata": {
        "id": "UIHgBQi8YVN5"
      },
      "source": [
        "np.random.seed(2)\n",
        "data = np.random.uniform(0,2.5,(1000,))"
      ],
      "execution_count": 21,
      "outputs": []
    }
  ]
}